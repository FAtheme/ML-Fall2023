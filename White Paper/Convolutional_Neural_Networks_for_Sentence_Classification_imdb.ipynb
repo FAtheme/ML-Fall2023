{
  "cells": [
    {
      "cell_type": "markdown",
      "metadata": {
        "id": "view-in-github",
        "colab_type": "text"
      },
      "source": [
        "<a href=\"https://colab.research.google.com/github/FAtheme/ML-Fall2023/blob/main/Convolutional_Neural_Networks_for_Sentence_Classification_imdb.ipynb\" target=\"_parent\"><img src=\"https://colab.research.google.com/assets/colab-badge.svg\" alt=\"Open In Colab\"/></a>"
      ]
    },
    {
      "cell_type": "markdown",
      "id": "dd7c0e96",
      "metadata": {
        "id": "dd7c0e96"
      },
      "source": [
        "### Parameter"
      ]
    },
    {
      "cell_type": "code",
      "execution_count": 1,
      "id": "f389b75b",
      "metadata": {
        "id": "f389b75b"
      },
      "outputs": [],
      "source": [
        "# Dataset\n",
        "DATASET = \"imdb_reviews\" # datasets: \"imdb_reviews\", \"yelp_polarity_reviews\"\n",
        "\n",
        "# WORD-level\n",
        "MAX_NUM_WORDS  = 15000\n",
        "EMBEDDING_DIM  = 300\n",
        "MAX_SEQ_LENGTH = 200\n",
        "USE_GLOVE      = True\n",
        "KERNEL_SIZES   = [3,4,5]\n",
        "FEATURE_MAPS   = [200,200,200]\n",
        "\n",
        "# CHAR-level\n",
        "USE_CHAR           = False\n",
        "ALPHABET           = \" abcdefghijklmnopqrstuvwxyz0123456789-,;.!?:'\\\"/\\\\|_@#$%^&*~`+-=<>()[]{}\"\n",
        "ALPHABET_SIZE      = len(ALPHABET)\n",
        "CHAR_EMBEDDING_DIM = 300\n",
        "CHAR_MAX_LENGTH    = 2500\n",
        "CHAR_KERNEL_SIZES  = [5,10,20]\n",
        "CHAR_FEATURE_MAPS  = [200,200,200]\n",
        "\n",
        "# GENERAL\n",
        "DROPOUT_RATE = 0.5\n",
        "HIDDEN_UNITS = 250\n",
        "NB_CLASSES   = 2\n",
        "\n",
        "# LEARNING\n",
        "BATCH_SIZE = 100\n",
        "NB_EPOCHS  = 10\n",
        "RUNS       = 1\n",
        "VAL_SIZE   = 0.2"
      ]
    },
    {
      "cell_type": "code",
      "source": [
        "from google.colab import drive\n",
        "drive.mount('/content/drive')"
      ],
      "metadata": {
        "colab": {
          "base_uri": "https://localhost:8080/"
        },
        "id": "GG9aALDUGmrQ",
        "outputId": "2716e111-79d2-4aed-d4e6-9b99af057282"
      },
      "id": "GG9aALDUGmrQ",
      "execution_count": 2,
      "outputs": [
        {
          "output_type": "stream",
          "name": "stdout",
          "text": [
            "Mounted at /content/drive\n"
          ]
        }
      ]
    },
    {
      "cell_type": "code",
      "source": [
        "!cp /content/drive/MyDrive/cnn-text-classification-master/utils.py .\n",
        "!cp /content/drive/MyDrive/cnn-text-classification-master/cnn_model.py ."
      ],
      "metadata": {
        "id": "r3b88r1CHNIZ"
      },
      "id": "r3b88r1CHNIZ",
      "execution_count": 3,
      "outputs": []
    },
    {
      "cell_type": "markdown",
      "id": "ae5dbfd2",
      "metadata": {
        "id": "ae5dbfd2"
      },
      "source": [
        "### Load and preprocess data"
      ]
    },
    {
      "cell_type": "code",
      "execution_count": 4,
      "id": "0e254d0b",
      "metadata": {
        "scrolled": false,
        "colab": {
          "base_uri": "https://localhost:8080/",
          "height": 362,
          "referenced_widgets": [
            "2d6e09bb5c194ebb860d6c795cb1c6d7",
            "c5253d8f4df748938661ce1bbfe58e4c",
            "e1b2fee9e3c54494a48ea9205cc82a39",
            "7518bc9151ec4a78b20349dc280192bf",
            "1ef31eb9b4ca4ff99f033e0ad5817183",
            "06645ef43dbc429a9444ef049d10a15d",
            "cde72bf8473b4ad389385dfe895a24ca",
            "1040eb56bd58478da3585540aa92b5e7",
            "37fd39c336034430899532d732bd7f3c",
            "9f8d1d4329fe4690a79e7b92ad1f1794",
            "f748ecfa1c0643da92440b837696fe55",
            "f478dbbaa7bb4b3ea1c8930985f144cc",
            "95b437f36e714b668561cc3eef090c8f",
            "f333e392e2c94a08a186b04da34d0ace",
            "ed4b1567fae249bdbeef8b8b775aecba",
            "635e5b0831ef40448bc53c47587faf90",
            "cf07f9243ae145e4a44da2eef703649b",
            "473ff042a4e84e498f459c8aa6bac395",
            "6d37903d57eb460ca5c018a1f29aa488",
            "a8a2fe1acf764a3d89e12b55c320a5aa",
            "b50756e206ac47bbbeee650c34941629",
            "099e4ba515f84dcf8785d437d6242d4b",
            "44ab5b2bffad450c9965ddc95c36bda2",
            "2fefce1aa39d4b959867ae64f49879fa",
            "7965f1af2fc6413f8baf5aec915649c5",
            "f67791d0e61844daba6e55e269a71b21",
            "90d9d76edd0e4216a99262524a9a881d",
            "eeb04cd68f964ba19d1116e46b9caa92",
            "5dfdb5a099eb41068775bd6ea206c179",
            "b32435342209452382fedbc1a0fd5aea",
            "43748714679c4e7cbb7306536b58cce9",
            "18c118b319f646898f1422b6a5bc5db9",
            "9dfe4ce5d58c4fc79442bd0382bad10a",
            "e872e606831b48c0814059fd8d9b0287",
            "80b03a5cdd6d43ca964cd7a87e740b0c",
            "0dddd204b6c7474d9beb3b3b9f44e726",
            "cae3aea84da74271b883d5713a9215d5",
            "3a1d5239768c440abb8a32f28b80429d",
            "7b2c8cc5837646ca81762a1ff7f911a7",
            "c3a01e9fc8f2437d8aa9de39b4c60580",
            "1f44f56ba74247919b0fc44e49e76067",
            "7d2aedb74dd740f68ea19e54eaa0346d",
            "b9ea1dd8beb044258feff6b47b814402",
            "0163809ea39646229a09426e63eeb2c5",
            "c722da6b1efd43d0a6b5a6269fde73f6",
            "787ef1320a88414c8e198a41d563a85a",
            "d5c53168f53145aeaffcffb13c297fcd",
            "a9327843fc884d608e014137dd46ad98",
            "b837bfcc93234105a3588409c86673bd",
            "301bc16e5bd9449482e5905ae46d8179",
            "3e6f195286624ff183c9620cee0f593f",
            "2f407658eb734b69a67b6c0d956f2556",
            "c38820213ae040b9a494327b3d6545d1",
            "ba4eaddef9aa437ea06e1500f19299b6",
            "e41c0c8494524c9aa6c0c6a37719c8a4",
            "6c89ea9d020f4233a85c4da19826099b",
            "928a443e45794b148efa8ced71594f77",
            "617243e6ec1040898e92714bb44e075b",
            "196a390db03748efbcfc196045530818",
            "e00bef46ad2947e69297c3a5f514504a",
            "b098f018bd814b2c95d82ce64dc1649c",
            "89a9349150f64e2a90fe84e96b447e0d",
            "d4e866244f304155bed4fa64926849c2",
            "22a4c1f9bf8c4545bb42aec3ba150b41",
            "e8b430b55bda46468d1b16f2cf82aa96",
            "10037c4ee929452db972fbfc77033295",
            "a794f82fbd6f44c7910ec137e8aa8b08",
            "35b4a1cc4bbf4aefa838f2537c6aee3b",
            "5c87bbdd51be4880b78fd489b3636ef0",
            "d55866fff7634c01bf657a6b5cfd5887",
            "c4f0cd2117164f208dfcfe1c0b590693",
            "2d9b4c5497ac41229a58ef55e9683506",
            "e619b4c1a5ab441ea65e58a44dbfe209",
            "2649382c88a74a3fbe9a0d53c2374471",
            "144376d781584d478522771ed96e045f",
            "bc1c024564af452f88ac22a2e78bfc1d",
            "fa3159bd9bcd4563a2205f9f59b24839",
            "716b2b033b524a28a40bbb206c95f63d",
            "5b2d59b6ff524d8289c62aa686913847",
            "d2c686fed41b4543a2470ea6b3aecdc1",
            "8c5540d7e0644e2fa9dbb8155a7abf05",
            "ac6a2d839175473a9a36abd857b10f27",
            "b71c9c3837fb4515b145412d8b67f48d",
            "e57125542cf84440b4e05b36eaf5b897",
            "db93788ec3864bfa9a1a5214cea7b216",
            "2357bf0afeed4857abb2a6aee489107d",
            "a71d2198dac54a379dd9c94ae2701a68",
            "dfa1a82fd0204f67b4492ed490c933f0",
            "409ffdf185dd413c91f96e08ecc776a4"
          ]
        },
        "id": "0e254d0b",
        "outputId": "2b170c3d-90d6-437a-b28b-ce27d3ace2cc"
      },
      "outputs": [
        {
          "metadata": {
            "tags": null
          },
          "name": "stdout",
          "output_type": "stream",
          "text": [
            "Downloading and preparing dataset 80.23 MiB (download: 80.23 MiB, generated: Unknown size, total: 80.23 MiB) to data/imdb_reviews/imdb_reviews/plain_text/1.0.0...\n"
          ]
        },
        {
          "data": {
            "application/vnd.jupyter.widget-view+json": {
              "model_id": "2d6e09bb5c194ebb860d6c795cb1c6d7",
              "version_major": 2,
              "version_minor": 0
            },
            "text/plain": [
              "Dl Completed...: 0 url [00:00, ? url/s]"
            ]
          },
          "metadata": {},
          "output_type": "display_data"
        },
        {
          "data": {
            "application/vnd.jupyter.widget-view+json": {
              "model_id": "f478dbbaa7bb4b3ea1c8930985f144cc",
              "version_major": 2,
              "version_minor": 0
            },
            "text/plain": [
              "Dl Size...: 0 MiB [00:00, ? MiB/s]"
            ]
          },
          "metadata": {},
          "output_type": "display_data"
        },
        {
          "data": {
            "application/vnd.jupyter.widget-view+json": {
              "model_id": "44ab5b2bffad450c9965ddc95c36bda2",
              "version_major": 2,
              "version_minor": 0
            },
            "text/plain": [
              "Generating splits...:   0%|          | 0/3 [00:00<?, ? splits/s]"
            ]
          },
          "metadata": {},
          "output_type": "display_data"
        },
        {
          "data": {
            "application/vnd.jupyter.widget-view+json": {
              "model_id": "e872e606831b48c0814059fd8d9b0287",
              "version_major": 2,
              "version_minor": 0
            },
            "text/plain": [
              "Generating train examples...:   0%|          | 0/25000 [00:00<?, ? examples/s]"
            ]
          },
          "metadata": {},
          "output_type": "display_data"
        },
        {
          "data": {
            "application/vnd.jupyter.widget-view+json": {
              "model_id": "c722da6b1efd43d0a6b5a6269fde73f6",
              "version_major": 2,
              "version_minor": 0
            },
            "text/plain": [
              "Shuffling data/imdb_reviews/imdb_reviews/plain_text/1.0.0.incompleteZK6SXC/imdb_reviews-train.tfrecord*...:   …"
            ]
          },
          "metadata": {},
          "output_type": "display_data"
        },
        {
          "data": {
            "application/vnd.jupyter.widget-view+json": {
              "model_id": "6c89ea9d020f4233a85c4da19826099b",
              "version_major": 2,
              "version_minor": 0
            },
            "text/plain": [
              "Generating test examples...:   0%|          | 0/25000 [00:00<?, ? examples/s]"
            ]
          },
          "metadata": {},
          "output_type": "display_data"
        },
        {
          "data": {
            "application/vnd.jupyter.widget-view+json": {
              "model_id": "a794f82fbd6f44c7910ec137e8aa8b08",
              "version_major": 2,
              "version_minor": 0
            },
            "text/plain": [
              "Shuffling data/imdb_reviews/imdb_reviews/plain_text/1.0.0.incompleteZK6SXC/imdb_reviews-test.tfrecord*...:   0…"
            ]
          },
          "metadata": {},
          "output_type": "display_data"
        },
        {
          "data": {
            "application/vnd.jupyter.widget-view+json": {
              "model_id": "716b2b033b524a28a40bbb206c95f63d",
              "version_major": 2,
              "version_minor": 0
            },
            "text/plain": [
              "Generating unsupervised examples...:   0%|          | 0/50000 [00:00<?, ? examples/s]"
            ]
          },
          "metadata": {},
          "output_type": "display_data"
        },
        {
          "data": {
            "application/vnd.jupyter.widget-view+json": {
              "model_id": "409ffdf185dd413c91f96e08ecc776a4",
              "version_major": 2,
              "version_minor": 0
            },
            "text/plain": [
              "Shuffling data/imdb_reviews/imdb_reviews/plain_text/1.0.0.incompleteZK6SXC/imdb_reviews-unsupervised.tfrecord*…"
            ]
          },
          "metadata": {},
          "output_type": "display_data"
        },
        {
          "output_type": "stream",
          "name": "stdout",
          "text": [
            "Dataset imdb_reviews downloaded and prepared to data/imdb_reviews/imdb_reviews/plain_text/1.0.0. Subsequent calls will reuse this data.\n",
            "Train samples: 25000\n",
            "Test samples:  25000\n"
          ]
        }
      ],
      "source": [
        "import tensorflow_datasets as tfds\n",
        "from utils import clean_doc\n",
        "\n",
        "# Load train dataset\n",
        "train = tfds.as_numpy(tfds.load(DATASET, data_dir=f\"data/{DATASET}\", split=\"train\", batch_size=-1))\n",
        "X_train, y_train = [clean_doc(x.decode()) for x in train[\"text\"]], train[\"label\"]\n",
        "\n",
        "# Load test dataset\n",
        "test = tfds.as_numpy(tfds.load(DATASET, data_dir=f\"data/{DATASET}\", split=\"test\", batch_size=-1))\n",
        "X_test, y_test = [clean_doc(x.decode()) for x in test[\"text\"]], test[\"label\"]\n",
        "\n",
        "print(f\"Train samples: {len(X_train)}\")\n",
        "print(f\"Test samples:  {len(X_test)}\")"
      ]
    },
    {
      "cell_type": "markdown",
      "id": "3e0e16a8",
      "metadata": {
        "id": "3e0e16a8"
      },
      "source": [
        "### Preprocessing for word-based model"
      ]
    },
    {
      "cell_type": "code",
      "execution_count": 5,
      "id": "a7eec419",
      "metadata": {
        "id": "a7eec419",
        "colab": {
          "base_uri": "https://localhost:8080/",
          "height": 554
        },
        "outputId": "8a962e58-1d23-48a1-a541-ca9fac56fb77"
      },
      "outputs": [
        {
          "output_type": "stream",
          "name": "stderr",
          "text": [
            "<ipython-input-5-277f602d6ccd>:4: MatplotlibDeprecationWarning: The seaborn styles shipped by Matplotlib are deprecated since 3.6, as they no longer correspond to the styles shipped by seaborn. However, they will remain available as 'seaborn-v0_8-<style>'. Alternatively, directly use the seaborn API instead.\n",
            "  plt.style.use('seaborn')\n"
          ]
        },
        {
          "output_type": "display_data",
          "data": {
            "text/plain": [
              "<Figure size 2000x500 with 1 Axes>"
            ],
            "image/png": "[encoded data removed]"
          },
          "metadata": {}
        },
        {
          "output_type": "stream",
          "name": "stdout",
          "text": [
            "Text informations:\n",
            " - max length:   2470\n",
            " - min length:   10\n",
            " - mean length:  233.7872\n",
            " - limit length: 200\n"
          ]
        }
      ],
      "source": [
        "import numpy as np\n",
        "import matplotlib.pyplot as plt\n",
        "import tensorflow as tf\n",
        "plt.style.use('seaborn')\n",
        "\n",
        "tokenizer = tf.keras.preprocessing.text.Tokenizer(num_words=MAX_NUM_WORDS)\n",
        "tokenizer.fit_on_texts(X_train)\n",
        "\n",
        "sequences  = tokenizer.texts_to_sequences(X_train)\n",
        "word_index = tokenizer.word_index\n",
        "result     = [len(x.split()) for x in X_train]\n",
        "\n",
        "# Plot histogram\n",
        "plt.figure(figsize=(20,5))\n",
        "plt.title(\"Document length\")\n",
        "plt.hist(result, 200, density=False, range=(0,np.max(result)))\n",
        "plt.show()\n",
        "\n",
        "print(\"Text informations:\")\n",
        "print(f\" - max length:   {np.max(result)}\")\n",
        "print(f\" - min length:   {np.min(result)}\")\n",
        "print(f\" - mean length:  {np.mean(result)}\")\n",
        "print(f\" - limit length: {MAX_SEQ_LENGTH}\")\n",
        "\n",
        "# Padding all sequences to same length of `MAX_SEQ_LENGTH`\n",
        "word_data = tf.keras.preprocessing.sequence.pad_sequences(\n",
        "    sequences,\n",
        "    maxlen  = MAX_SEQ_LENGTH,\n",
        "    padding = 'post'\n",
        ")"
      ]
    },
    {
      "cell_type": "markdown",
      "id": "e9a1ed42",
      "metadata": {
        "id": "e9a1ed42"
      },
      "source": [
        "### Preprocessing for char-based model"
      ]
    },
    {
      "cell_type": "code",
      "execution_count": 6,
      "id": "cd117bb3",
      "metadata": {
        "id": "cd117bb3"
      },
      "outputs": [],
      "source": [
        "from utils import char_vectorizer\n",
        "\n",
        "if USE_CHAR:\n",
        "    char2idx_dict = {}\n",
        "    idx2char_dict = {}\n",
        "\n",
        "    for idx, char in enumerate(ALPHABET):\n",
        "        char2idx_dict[char] = idx + 1\n",
        "\n",
        "    idx2char_dict = dict([(i+1, char) for i, char in enumerate(char2idx_dict)])\n",
        "\n",
        "    # Get informations about char sequence length\n",
        "    result = [len(x) for x in X_train]\n",
        "    plt.figure(figsize=(20,5))\n",
        "    plt.title(\"Char length\")\n",
        "    plt.hist(result, 200, density=False, range=(0,np.max(result)))\n",
        "    plt.show()\n",
        "\n",
        "    print(\"Text informations:\")\n",
        "    print(f\" - max:   {np.max(result)}\")\n",
        "    print(f\" - min:   {np.min(result)}\")\n",
        "    print(f\" - mean:  {np.mean(result)}\")\n",
        "    print(f\" - limit: {CHAR_MAX_LENGTH}\")\n",
        "\n",
        "    char_data = char_vectorizer(X_train, CHAR_MAX_LENGTH, char2idx_dict)"
      ]
    },
    {
      "cell_type": "markdown",
      "id": "f15ddbc0",
      "metadata": {
        "id": "f15ddbc0"
      },
      "source": [
        "### Training"
      ]
    },
    {
      "cell_type": "code",
      "execution_count": 7,
      "id": "8030cf9b",
      "metadata": {
        "scrolled": false,
        "id": "8030cf9b",
        "colab": {
          "base_uri": "https://localhost:8080/"
        },
        "outputId": "b115cbb7-8b19-4a64-a1fb-4bddc8202af8"
      },
      "outputs": [
        {
          "output_type": "stream",
          "name": "stdout",
          "text": [
            "Running iteration 1/1\n",
            "Pretrained GloVe embedding is loading...\n",
            "No previous embeddings found. Will be download required files...\n",
            "Download of GloVe embeddings finished.\n",
            "Found 400000 word vectors in GloVe embedding\n",
            "\n",
            "Epoch 1/10\n",
            "200/200 [==============================] - ETA: 0s - loss: 0.5035 - accuracy: 0.7280\n",
            "Epoch 1: val_loss improved from inf to 0.33584, saving model to model-1.h5\n",
            "200/200 [==============================] - 44s 180ms/step - loss: 0.5035 - accuracy: 0.7280 - val_loss: 0.3358 - val_accuracy: 0.8454\n",
            "Epoch 2/10\n"
          ]
        },
        {
          "output_type": "stream",
          "name": "stderr",
          "text": [
            "/usr/local/lib/python3.10/dist-packages/keras/src/engine/training.py:3103: UserWarning: You are saving your model as an HDF5 file via `model.save()`. This file format is considered legacy. We recommend using instead the native Keras format, e.g. `model.save('my_model.keras')`.\n",
            "  saving_api.save_model(\n"
          ]
        },
        {
          "output_type": "stream",
          "name": "stdout",
          "text": [
            "200/200 [==============================] - ETA: 0s - loss: 0.2999 - accuracy: 0.8744\n",
            "Epoch 2: val_loss improved from 0.33584 to 0.29252, saving model to model-1.h5\n",
            "200/200 [==============================] - 26s 128ms/step - loss: 0.2999 - accuracy: 0.8744 - val_loss: 0.2925 - val_accuracy: 0.8702\n",
            "Epoch 3/10\n",
            "200/200 [==============================] - ETA: 0s - loss: 0.2323 - accuracy: 0.9079\n",
            "Epoch 3: val_loss improved from 0.29252 to 0.26772, saving model to model-1.h5\n",
            "200/200 [==============================] - 20s 102ms/step - loss: 0.2323 - accuracy: 0.9079 - val_loss: 0.2677 - val_accuracy: 0.8864\n",
            "Epoch 4/10\n",
            "200/200 [==============================] - ETA: 0s - loss: 0.1817 - accuracy: 0.9294\n",
            "Epoch 4: val_loss did not improve from 0.26772\n",
            "200/200 [==============================] - 18s 89ms/step - loss: 0.1817 - accuracy: 0.9294 - val_loss: 0.2739 - val_accuracy: 0.8894\n",
            "Epoch 5/10\n",
            "200/200 [==============================] - ETA: 0s - loss: 0.1539 - accuracy: 0.9426\n",
            "Epoch 5: val_loss did not improve from 0.26772\n",
            "200/200 [==============================] - 17s 83ms/step - loss: 0.1539 - accuracy: 0.9426 - val_loss: 0.2863 - val_accuracy: 0.8878\n",
            "Epoch 6/10\n",
            "200/200 [==============================] - ETA: 0s - loss: 0.1128 - accuracy: 0.9588\n",
            "Epoch 6: val_loss did not improve from 0.26772\n",
            "200/200 [==============================] - 16s 79ms/step - loss: 0.1128 - accuracy: 0.9588 - val_loss: 0.3186 - val_accuracy: 0.8842\n",
            "Epoch 7/10\n",
            "200/200 [==============================] - ETA: 0s - loss: 0.0859 - accuracy: 0.9693\n",
            "Epoch 7: val_loss did not improve from 0.26772\n",
            "200/200 [==============================] - 16s 81ms/step - loss: 0.0859 - accuracy: 0.9693 - val_loss: 0.3446 - val_accuracy: 0.8846\n",
            "Epoch 8/10\n",
            "200/200 [==============================] - ETA: 0s - loss: 0.0655 - accuracy: 0.9767\n",
            "Epoch 8: val_loss did not improve from 0.26772\n",
            "200/200 [==============================] - 15s 77ms/step - loss: 0.0655 - accuracy: 0.9767 - val_loss: 0.3841 - val_accuracy: 0.8816\n",
            "Epoch 9/10\n",
            "200/200 [==============================] - ETA: 0s - loss: 0.0547 - accuracy: 0.9807\n",
            "Epoch 9: val_loss did not improve from 0.26772\n",
            "200/200 [==============================] - 15s 75ms/step - loss: 0.0547 - accuracy: 0.9807 - val_loss: 0.4219 - val_accuracy: 0.8824\n",
            "Epoch 10/10\n",
            "200/200 [==============================] - ETA: 0s - loss: 0.0416 - accuracy: 0.9855\n",
            "Epoch 10: val_loss did not improve from 0.26772\n",
            "200/200 [==============================] - 14s 68ms/step - loss: 0.0416 - accuracy: 0.9855 - val_loss: 0.4530 - val_accuracy: 0.8826\n"
          ]
        }
      ],
      "source": [
        "from cnn_model import CNN\n",
        "from sklearn.model_selection import train_test_split\n",
        "from utils import create_glove_embeddings\n",
        "\n",
        "histories = []\n",
        "\n",
        "for i in range(RUNS):\n",
        "    print(f\"Running iteration {i+1}/{RUNS}\")\n",
        "    random_state = np.random.randint(1000)\n",
        "\n",
        "    _X_train, _X_val, _y_train, _y_val = train_test_split(\n",
        "        word_data,\n",
        "        tf.keras.utils.to_categorical(y_train),\n",
        "        test_size    = VAL_SIZE,\n",
        "        random_state = random_state\n",
        "    )\n",
        "\n",
        "    if USE_CHAR:\n",
        "        _X_train_c, _X_val_c, _, _ = train_test_split(\n",
        "            char_data,\n",
        "            tf.keras.utils.to_categorical(y_train),\n",
        "            test_size    = VAL_SIZE,\n",
        "            random_state = random_state\n",
        "        )\n",
        "\n",
        "        _X_train = [_X_train, _X_train_c]\n",
        "        _X_val   = [_X_val,   _X_val_c]\n",
        "\n",
        "\n",
        "    emb_layer = None\n",
        "    if USE_GLOVE:\n",
        "        emb_layer = create_glove_embeddings(\n",
        "            embedding_dim  = EMBEDDING_DIM,\n",
        "            max_num_words  = MAX_NUM_WORDS,\n",
        "            max_seq_length = MAX_SEQ_LENGTH,\n",
        "            tokenizer      = tokenizer\n",
        "        )\n",
        "\n",
        "    model = CNN(\n",
        "        embedding_layer    = emb_layer,\n",
        "        num_words          = MAX_NUM_WORDS,\n",
        "        embedding_dim      = EMBEDDING_DIM,\n",
        "        kernel_sizes       = KERNEL_SIZES,\n",
        "        feature_maps       = FEATURE_MAPS,\n",
        "        max_seq_length     = MAX_SEQ_LENGTH,\n",
        "        use_char           = USE_CHAR,\n",
        "        char_embedding_dim = CHAR_EMBEDDING_DIM,\n",
        "        char_max_length    = CHAR_MAX_LENGTH,\n",
        "        alphabet_size      = ALPHABET_SIZE,\n",
        "        char_kernel_sizes  = CHAR_KERNEL_SIZES,\n",
        "        char_feature_maps  = CHAR_FEATURE_MAPS,\n",
        "        dropout_rate       = DROPOUT_RATE,\n",
        "        hidden_units       = HIDDEN_UNITS,\n",
        "        nb_classes         = NB_CLASSES\n",
        "    ).build_model()\n",
        "\n",
        "    model.compile(\n",
        "        loss      = \"categorical_crossentropy\",\n",
        "        optimizer = tf.optimizers.Adam(),\n",
        "        metrics   = [\"accuracy\"]\n",
        "    )\n",
        "\n",
        "    history = model.fit(\n",
        "        _X_train, _y_train,\n",
        "        epochs          = NB_EPOCHS,\n",
        "        batch_size      = BATCH_SIZE,\n",
        "        validation_data = (_X_val, _y_val),\n",
        "        callbacks       = [tf.keras.callbacks.ModelCheckpoint(\n",
        "            filepath       = f\"model-{i+1}.h5\",\n",
        "            monitor        = \"val_loss\",\n",
        "            verbose        = 1,\n",
        "            save_best_only = True,\n",
        "            mode           = \"min\"\n",
        "        )]\n",
        "    )\n",
        "\n",
        "    histories.append(history.history)"
      ]
    },
    {
      "cell_type": "code",
      "source": [
        "# Set the path to the folder where you want to save the checkpoint\n",
        "checkpoint_path = \"/content/drive/MyDrive/Colab_Checkpoints/whitepaper_checkpoint_imdb.ckpt\""
      ],
      "metadata": {
        "id": "Y385P7UzSf7l"
      },
      "id": "Y385P7UzSf7l",
      "execution_count": 20,
      "outputs": []
    },
    {
      "cell_type": "code",
      "source": [
        "# Save the model's weights and optimizer state\n",
        "model.save_weights(checkpoint_path)"
      ],
      "metadata": {
        "id": "sqtLUs_mSk5F"
      },
      "id": "sqtLUs_mSk5F",
      "execution_count": 21,
      "outputs": []
    },
    {
      "cell_type": "markdown",
      "id": "16196b7a",
      "metadata": {
        "id": "16196b7a"
      },
      "source": [
        "### Evaluation"
      ]
    },
    {
      "cell_type": "code",
      "execution_count": 23,
      "id": "6f8cf0a1",
      "metadata": {
        "id": "6f8cf0a1",
        "colab": {
          "base_uri": "https://localhost:8080/"
        },
        "outputId": "5f27a3f0-6f2e-4e8a-f016-e71856fad217"
      },
      "outputs": [
        {
          "output_type": "stream",
          "name": "stdout",
          "text": [
            "Training: \t0.2323145717382431 loss / 0.9078999757766724 acc\n",
            "Validation: \t0.2677186131477356 loss / 0.8863999843597412 acc\n"
          ]
        }
      ],
      "source": [
        "def get_avg(histories, his_key):\n",
        "    tmp = []\n",
        "    for history in histories:\n",
        "        tmp.append(history[his_key][np.argmin(history['val_loss'])])\n",
        "    return np.mean(tmp)\n",
        "\n",
        "print(f\"Training: \\t{get_avg(histories,'loss')} loss / {get_avg(histories,'accuracy')} acc\")\n",
        "print(f\"Validation: \\t{get_avg(histories,'val_loss')} loss / {get_avg(histories,'val_accuracy')} acc\")"
      ]
    },
    {
      "cell_type": "code",
      "execution_count": 24,
      "id": "3441a90a",
      "metadata": {
        "id": "3441a90a",
        "colab": {
          "base_uri": "https://localhost:8080/",
          "height": 827
        },
        "outputId": "b7f849a0-f2d4-4828-9208-8837ccdf5607"
      },
      "outputs": [
        {
          "output_type": "display_data",
          "data": {
            "text/plain": [
              "<Figure size 2000x500 with 2 Axes>"
            ],
            "image/png": "[encoded data removed]"
          },
          "metadata": {}
        },
        {
          "output_type": "display_data",
          "data": {
            "text/plain": [
              "<Figure size 2000x500 with 2 Axes>"
            ],
            "image/png": "[encoded data removed]"
          },
          "metadata": {}
        }
      ],
      "source": [
        "from utils import plot_acc_loss\n",
        "\n",
        "plot_acc_loss('training', histories, 'accuracy', 'loss')\n",
        "plot_acc_loss('validation', histories, 'val_accuracy', 'val_loss')"
      ]
    },
    {
      "cell_type": "markdown",
      "id": "f2a01be3",
      "metadata": {
        "id": "f2a01be3"
      },
      "source": [
        "#### Final test"
      ]
    },
    {
      "cell_type": "code",
      "execution_count": 25,
      "id": "ce36baed",
      "metadata": {
        "id": "ce36baed"
      },
      "outputs": [],
      "source": [
        "sequences_test = tokenizer.texts_to_sequences(X_test)\n",
        "X_test_word    = tf.keras.preprocessing.sequence.pad_sequences(\n",
        "    sequences_test,\n",
        "    maxlen  = MAX_SEQ_LENGTH,\n",
        "    padding = 'post'\n",
        ")\n",
        "\n",
        "if USE_CHAR:\n",
        "    X_test_word = [X_test_word, char_vectorizer(X_test, CHAR_MAX_LENGTH, char2idx_dict)]\n",
        "else:\n",
        "    X_test_word = X_test_word"
      ]
    },
    {
      "cell_type": "code",
      "execution_count": 26,
      "id": "c3be18f4",
      "metadata": {
        "id": "c3be18f4",
        "colab": {
          "base_uri": "https://localhost:8080/"
        },
        "outputId": "31d545e8-5b6f-418e-ff6a-91727720044e"
      },
      "outputs": [
        {
          "output_type": "stream",
          "name": "stdout",
          "text": [
            "Running test with model 1: 0.2561257779598236 loss / 0.8929600119590759 acc\n",
            "\n",
            "Average loss / accuracy on testset: 0.2561257779598236 loss / 0.8929600119590759 acc\n",
            "Standard deviation: (+-0.0) loss / (+-0.0) acc\n"
          ]
        }
      ],
      "source": [
        "import cnn_model\n",
        "\n",
        "test_loss = []\n",
        "test_accs = []\n",
        "\n",
        "for i in range(0, RUNS):\n",
        "    cnn_ = tf.keras.models.load_model(f\"model-{i+1}.h5\")\n",
        "    score = cnn_.evaluate(X_test_word, tf.keras.utils.to_categorical(y_test), verbose=0)\n",
        "    test_loss.append(score[0])\n",
        "    test_accs.append(score[1])\n",
        "    print(f\"Running test with model {i+1}: {score[0]} loss / {score[1]} acc\")\n",
        "\n",
        "print(f\"\\nAverage loss / accuracy on testset: {np.mean(test_loss)} loss / {np.mean(test_accs)} acc\")\n",
        "print(f\"Standard deviation: (+-{np.std(test_loss)}) loss / (+-{np.std(test_accs)}) acc\")"
      ]
    },
    {
      "cell_type": "markdown",
      "id": "7687f0d1",
      "metadata": {
        "id": "7687f0d1"
      },
      "source": [
        "# Scikit Example"
      ]
    },
    {
      "cell_type": "markdown",
      "id": "fb131d19",
      "metadata": {
        "id": "fb131d19"
      },
      "source": [
        "#### Define Vectorizer"
      ]
    },
    {
      "cell_type": "code",
      "execution_count": 27,
      "id": "8fe103de",
      "metadata": {
        "id": "8fe103de"
      },
      "outputs": [],
      "source": [
        "from sklearn.feature_extraction.text import TfidfVectorizer\n",
        "\n",
        "tf_idf = TfidfVectorizer(\n",
        "    ngram_range  = (1,2),\n",
        "    min_df       = 0.0005,\n",
        "    max_df       = 0.1,\n",
        "    lowercase    = False,\n",
        "    preprocessor = None,\n",
        "    sublinear_tf = True,\n",
        "    use_idf      = True,\n",
        ")"
      ]
    },
    {
      "cell_type": "markdown",
      "id": "e7a88a38",
      "metadata": {
        "id": "e7a88a38"
      },
      "source": [
        "#### Define Model"
      ]
    },
    {
      "cell_type": "code",
      "execution_count": 28,
      "id": "26ee41d7",
      "metadata": {
        "id": "26ee41d7"
      },
      "outputs": [],
      "source": [
        "from sklearn.linear_model import SGDClassifier\n",
        "\n",
        "sgd = SGDClassifier(\n",
        "    max_iter            = 1000,\n",
        "    tol                 = 1e-3,\n",
        "    validation_fraction = 0.2\n",
        ")"
      ]
    },
    {
      "cell_type": "markdown",
      "id": "e6707d34",
      "metadata": {
        "id": "e6707d34"
      },
      "source": [
        "#### Define Pipeline"
      ]
    },
    {
      "cell_type": "code",
      "execution_count": 29,
      "id": "3f296665",
      "metadata": {
        "id": "3f296665"
      },
      "outputs": [],
      "source": [
        "from sklearn.pipeline import Pipeline\n",
        "\n",
        "ml_classifier = Pipeline([\n",
        "    ('vectorizer', tf_idf),\n",
        "    ('classifier', sgd)\n",
        "])"
      ]
    },
    {
      "cell_type": "markdown",
      "id": "b56a9458",
      "metadata": {
        "id": "b56a9458"
      },
      "source": [
        "#### Train Classifier"
      ]
    },
    {
      "cell_type": "code",
      "execution_count": 30,
      "id": "132581a6",
      "metadata": {
        "id": "132581a6",
        "colab": {
          "base_uri": "https://localhost:8080/",
          "height": 125
        },
        "outputId": "4a00fece-60d8-4a3e-9169-dd3b13d344b4"
      },
      "outputs": [
        {
          "output_type": "execute_result",
          "data": {
            "text/plain": [
              "Pipeline(steps=[('vectorizer',\n",
              "                 TfidfVectorizer(lowercase=False, max_df=0.1, min_df=0.0005,\n",
              "                                 ngram_range=(1, 2), sublinear_tf=True)),\n",
              "                ('classifier', SGDClassifier(validation_fraction=0.2))])"
            ],
            "text/html": [
              "<style>#sk-container-id-2 {color: black;background-color: white;}#sk-container-id-2 pre{padding: 0;}#sk-container-id-2 div.sk-toggleable {background-color: white;}#sk-container-id-2 label.sk-toggleable__label {cursor: pointer;display: block;width: 100%;margin-bottom: 0;padding: 0.3em;box-sizing: border-box;text-align: center;}#sk-container-id-2 label.sk-toggleable__label-arrow:before {content: \"▸\";float: left;margin-right: 0.25em;color: #696969;}#sk-container-id-2 label.sk-toggleable__label-arrow:hover:before {color: black;}#sk-container-id-2 div.sk-estimator:hover label.sk-toggleable__label-arrow:before {color: black;}#sk-container-id-2 div.sk-toggleable__content {max-height: 0;max-width: 0;overflow: hidden;text-align: left;background-color: #f0f8ff;}#sk-container-id-2 div.sk-toggleable__content pre {margin: 0.2em;color: black;border-radius: 0.25em;background-color: #f0f8ff;}#sk-container-id-2 input.sk-toggleable__control:checked~div.sk-toggleable__content {max-height: 200px;max-width: 100%;overflow: auto;}#sk-container-id-2 input.sk-toggleable__control:checked~label.sk-toggleable__label-arrow:before {content: \"▾\";}#sk-container-id-2 div.sk-estimator input.sk-toggleable__control:checked~label.sk-toggleable__label {background-color: #d4ebff;}#sk-container-id-2 div.sk-label input.sk-toggleable__control:checked~label.sk-toggleable__label {background-color: #d4ebff;}#sk-container-id-2 input.sk-hidden--visually {border: 0;clip: rect(1px 1px 1px 1px);clip: rect(1px, 1px, 1px, 1px);height: 1px;margin: -1px;overflow: hidden;padding: 0;position: absolute;width: 1px;}#sk-container-id-2 div.sk-estimator {font-family: monospace;background-color: #f0f8ff;border: 1px dotted black;border-radius: 0.25em;box-sizing: border-box;margin-bottom: 0.5em;}#sk-container-id-2 div.sk-estimator:hover {background-color: #d4ebff;}#sk-container-id-2 div.sk-parallel-item::after {content: \"\";width: 100%;border-bottom: 1px solid gray;flex-grow: 1;}#sk-container-id-2 div.sk-label:hover label.sk-toggleable__label {background-color: #d4ebff;}#sk-container-id-2 div.sk-serial::before {content: \"\";position: absolute;border-left: 1px solid gray;box-sizing: border-box;top: 0;bottom: 0;left: 50%;z-index: 0;}#sk-container-id-2 div.sk-serial {display: flex;flex-direction: column;align-items: center;background-color: white;padding-right: 0.2em;padding-left: 0.2em;position: relative;}#sk-container-id-2 div.sk-item {position: relative;z-index: 1;}#sk-container-id-2 div.sk-parallel {display: flex;align-items: stretch;justify-content: center;background-color: white;position: relative;}#sk-container-id-2 div.sk-item::before, #sk-container-id-2 div.sk-parallel-item::before {content: \"\";position: absolute;border-left: 1px solid gray;box-sizing: border-box;top: 0;bottom: 0;left: 50%;z-index: -1;}#sk-container-id-2 div.sk-parallel-item {display: flex;flex-direction: column;z-index: 1;position: relative;background-color: white;}#sk-container-id-2 div.sk-parallel-item:first-child::after {align-self: flex-end;width: 50%;}#sk-container-id-2 div.sk-parallel-item:last-child::after {align-self: flex-start;width: 50%;}#sk-container-id-2 div.sk-parallel-item:only-child::after {width: 0;}#sk-container-id-2 div.sk-dashed-wrapped {border: 1px dashed gray;margin: 0 0.4em 0.5em 0.4em;box-sizing: border-box;padding-bottom: 0.4em;background-color: white;}#sk-container-id-2 div.sk-label label {font-family: monospace;font-weight: bold;display: inline-block;line-height: 1.2em;}#sk-container-id-2 div.sk-label-container {text-align: center;}#sk-container-id-2 div.sk-container {/* jupyter's `normalize.less` sets `[hidden] { display: none; }` but bootstrap.min.css set `[hidden] { display: none !important; }` so we also need the `!important` here to be able to override the default hidden behavior on the sphinx rendered scikit-learn.org. See: https://github.com/scikit-learn/scikit-learn/issues/21755 */display: inline-block !important;position: relative;}#sk-container-id-2 div.sk-text-repr-fallback {display: none;}</style><div id=\"sk-container-id-2\" class=\"sk-top-container\"><div class=\"sk-text-repr-fallback\"><pre>Pipeline(steps=[(&#x27;vectorizer&#x27;,\n",
              "                 TfidfVectorizer(lowercase=False, max_df=0.1, min_df=0.0005,\n",
              "                                 ngram_range=(1, 2), sublinear_tf=True)),\n",
              "                (&#x27;classifier&#x27;, SGDClassifier(validation_fraction=0.2))])</pre><b>In a Jupyter environment, please rerun this cell to show the HTML representation or trust the notebook. <br />On GitHub, the HTML representation is unable to render, please try loading this page with nbviewer.org.</b></div><div class=\"sk-container\" hidden><div class=\"sk-item sk-dashed-wrapped\"><div class=\"sk-label-container\"><div class=\"sk-label sk-toggleable\"><input class=\"sk-toggleable__control sk-hidden--visually\" id=\"sk-estimator-id-4\" type=\"checkbox\" ><label for=\"sk-estimator-id-4\" class=\"sk-toggleable__label sk-toggleable__label-arrow\">Pipeline</label><div class=\"sk-toggleable__content\"><pre>Pipeline(steps=[(&#x27;vectorizer&#x27;,\n",
              "                 TfidfVectorizer(lowercase=False, max_df=0.1, min_df=0.0005,\n",
              "                                 ngram_range=(1, 2), sublinear_tf=True)),\n",
              "                (&#x27;classifier&#x27;, SGDClassifier(validation_fraction=0.2))])</pre></div></div></div><div class=\"sk-serial\"><div class=\"sk-item\"><div class=\"sk-estimator sk-toggleable\"><input class=\"sk-toggleable__control sk-hidden--visually\" id=\"sk-estimator-id-5\" type=\"checkbox\" ><label for=\"sk-estimator-id-5\" class=\"sk-toggleable__label sk-toggleable__label-arrow\">TfidfVectorizer</label><div class=\"sk-toggleable__content\"><pre>TfidfVectorizer(lowercase=False, max_df=0.1, min_df=0.0005, ngram_range=(1, 2),\n",
              "                sublinear_tf=True)</pre></div></div></div><div class=\"sk-item\"><div class=\"sk-estimator sk-toggleable\"><input class=\"sk-toggleable__control sk-hidden--visually\" id=\"sk-estimator-id-6\" type=\"checkbox\" ><label for=\"sk-estimator-id-6\" class=\"sk-toggleable__label sk-toggleable__label-arrow\">SGDClassifier</label><div class=\"sk-toggleable__content\"><pre>SGDClassifier(validation_fraction=0.2)</pre></div></div></div></div></div></div></div>"
            ]
          },
          "metadata": {},
          "execution_count": 30
        }
      ],
      "source": [
        "_X_train, _X_val, _y_train, _y_val = train_test_split(X_train, y_train, test_size=VAL_SIZE)\n",
        "ml_classifier.fit(_X_train, _y_train)"
      ]
    },
    {
      "cell_type": "code",
      "execution_count": 31,
      "id": "05da19c3",
      "metadata": {
        "id": "05da19c3",
        "colab": {
          "base_uri": "https://localhost:8080/"
        },
        "outputId": "df38788d-8402-495c-8451-47679f4cce69"
      },
      "outputs": [
        {
          "output_type": "stream",
          "name": "stdout",
          "text": [
            "Accuracy: 0.9088\n"
          ]
        }
      ],
      "source": [
        "val_pred = ml_classifier.predict(_X_val)\n",
        "print(f\"Accuracy: {np.mean(_y_val==val_pred)}\")"
      ]
    },
    {
      "cell_type": "markdown",
      "id": "3c7523da",
      "metadata": {
        "id": "3c7523da"
      },
      "source": [
        "#### Final evaluation"
      ]
    },
    {
      "cell_type": "code",
      "execution_count": 32,
      "id": "38d06a96",
      "metadata": {
        "id": "38d06a96",
        "colab": {
          "base_uri": "https://localhost:8080/"
        },
        "outputId": "fa6d75da-182b-4c86-9c68-d1f75da4e50d"
      },
      "outputs": [
        {
          "output_type": "stream",
          "name": "stdout",
          "text": [
            "Accuracy: 0.90344\n"
          ]
        }
      ],
      "source": [
        "preds = ml_classifier.predict(X_test)\n",
        "print(f\"Accuracy: {np.mean(y_test==preds)}\")"
      ]
    }
  ],
  "metadata": {
    "kernelspec": {
      "display_name": "Python 3",
      "name": "python3"
    },
    "language_info": {
      "codemirror_mode": {
        "name": "ipython",
        "version": 3
      },
      "file_extension": ".py",
      "mimetype": "text/x-python",
      "name": "python",
      "nbconvert_exporter": "python",
      "pygments_lexer": "ipython3",
      "version": "3.6.13"
    },
    "colab": {
      "provenance": [],
      "gpuType": "T4",
      "include_colab_link": true
    },
    "accelerator": "GPU",
    "widgets": {
      "application/vnd.jupyter.widget-state+json": {
        "2d6e09bb5c194ebb860d6c795cb1c6d7": {
          "model_module": "@jupyter-widgets/controls",
          "model_name": "HBoxModel",
          "model_module_version": "1.5.0",
          "state": {
            "_dom_classes": [],
            "_model_module": "@jupyter-widgets/controls",
            "_model_module_version": "1.5.0",
            "_model_name": "HBoxModel",
            "_view_count": null,
            "_view_module": "@jupyter-widgets/controls",
            "_view_module_version": "1.5.0",
            "_view_name": "HBoxView",
            "box_style": "",
            "children": [
              "IPY_MODEL_c5253d8f4df748938661ce1bbfe58e4c",
              "IPY_MODEL_e1b2fee9e3c54494a48ea9205cc82a39",
              "IPY_MODEL_7518bc9151ec4a78b20349dc280192bf"
            ],
            "layout": "IPY_MODEL_1ef31eb9b4ca4ff99f033e0ad5817183"
          }
        },
        "c5253d8f4df748938661ce1bbfe58e4c": {
          "model_module": "@jupyter-widgets/controls",
          "model_name": "HTMLModel",
          "model_module_version": "1.5.0",
          "state": {
            "_dom_classes": [],
            "_model_module": "@jupyter-widgets/controls",
            "_model_module_version": "1.5.0",
            "_model_name": "HTMLModel",
            "_view_count": null,
            "_view_module": "@jupyter-widgets/controls",
            "_view_module_version": "1.5.0",
            "_view_name": "HTMLView",
            "description": "",
            "description_tooltip": null,
            "layout": "IPY_MODEL_06645ef43dbc429a9444ef049d10a15d",
            "placeholder": "​",
            "style": "IPY_MODEL_cde72bf8473b4ad389385dfe895a24ca",
            "value": "Dl Completed...: 100%"
          }
        },
        "e1b2fee9e3c54494a48ea9205cc82a39": {
          "model_module": "@jupyter-widgets/controls",
          "model_name": "FloatProgressModel",
          "model_module_version": "1.5.0",
          "state": {
            "_dom_classes": [],
            "_model_module": "@jupyter-widgets/controls",
            "_model_module_version": "1.5.0",
            "_model_name": "FloatProgressModel",
            "_view_count": null,
            "_view_module": "@jupyter-widgets/controls",
            "_view_module_version": "1.5.0",
            "_view_name": "ProgressView",
            "bar_style": "success",
            "description": "",
            "description_tooltip": null,
            "layout": "IPY_MODEL_1040eb56bd58478da3585540aa92b5e7",
            "max": 1,
            "min": 0,
            "orientation": "horizontal",
            "style": "IPY_MODEL_37fd39c336034430899532d732bd7f3c",
            "value": 1
          }
        },
        "7518bc9151ec4a78b20349dc280192bf": {
          "model_module": "@jupyter-widgets/controls",
          "model_name": "HTMLModel",
          "model_module_version": "1.5.0",
          "state": {
            "_dom_classes": [],
            "_model_module": "@jupyter-widgets/controls",
            "_model_module_version": "1.5.0",
            "_model_name": "HTMLModel",
            "_view_count": null,
            "_view_module": "@jupyter-widgets/controls",
            "_view_module_version": "1.5.0",
            "_view_name": "HTMLView",
            "description": "",
            "description_tooltip": null,
            "layout": "IPY_MODEL_9f8d1d4329fe4690a79e7b92ad1f1794",
            "placeholder": "​",
            "style": "IPY_MODEL_f748ecfa1c0643da92440b837696fe55",
            "value": " 1/1 [00:01&lt;00:00,  1.81s/ url]"
          }
        },
        "1ef31eb9b4ca4ff99f033e0ad5817183": {
          "model_module": "@jupyter-widgets/base",
          "model_name": "LayoutModel",
          "model_module_version": "1.2.0",
          "state": {
            "_model_module": "@jupyter-widgets/base",
            "_model_module_version": "1.2.0",
            "_model_name": "LayoutModel",
            "_view_count": null,
            "_view_module": "@jupyter-widgets/base",
            "_view_module_version": "1.2.0",
            "_view_name": "LayoutView",
            "align_content": null,
            "align_items": null,
            "align_self": null,
            "border": null,
            "bottom": null,
            "display": null,
            "flex": null,
            "flex_flow": null,
            "grid_area": null,
            "grid_auto_columns": null,
            "grid_auto_flow": null,
            "grid_auto_rows": null,
            "grid_column": null,
            "grid_gap": null,
            "grid_row": null,
            "grid_template_areas": null,
            "grid_template_columns": null,
            "grid_template_rows": null,
            "height": null,
            "justify_content": null,
            "justify_items": null,
            "left": null,
            "margin": null,
            "max_height": null,
            "max_width": null,
            "min_height": null,
            "min_width": null,
            "object_fit": null,
            "object_position": null,
            "order": null,
            "overflow": null,
            "overflow_x": null,
            "overflow_y": null,
            "padding": null,
            "right": null,
            "top": null,
            "visibility": null,
            "width": null
          }
        },
        "06645ef43dbc429a9444ef049d10a15d": {
          "model_module": "@jupyter-widgets/base",
          "model_name": "LayoutModel",
          "model_module_version": "1.2.0",
          "state": {
            "_model_module": "@jupyter-widgets/base",
            "_model_module_version": "1.2.0",
            "_model_name": "LayoutModel",
            "_view_count": null,
            "_view_module": "@jupyter-widgets/base",
            "_view_module_version": "1.2.0",
            "_view_name": "LayoutView",
            "align_content": null,
            "align_items": null,
            "align_self": null,
            "border": null,
            "bottom": null,
            "display": null,
            "flex": null,
            "flex_flow": null,
            "grid_area": null,
            "grid_auto_columns": null,
            "grid_auto_flow": null,
            "grid_auto_rows": null,
            "grid_column": null,
            "grid_gap": null,
            "grid_row": null,
            "grid_template_areas": null,
            "grid_template_columns": null,
            "grid_template_rows": null,
            "height": null,
            "justify_content": null,
            "justify_items": null,
            "left": null,
            "margin": null,
            "max_height": null,
            "max_width": null,
            "min_height": null,
            "min_width": null,
            "object_fit": null,
            "object_position": null,
            "order": null,
            "overflow": null,
            "overflow_x": null,
            "overflow_y": null,
            "padding": null,
            "right": null,
            "top": null,
            "visibility": null,
            "width": null
          }
        },
        "cde72bf8473b4ad389385dfe895a24ca": {
          "model_module": "@jupyter-widgets/controls",
          "model_name": "DescriptionStyleModel",
          "model_module_version": "1.5.0",
          "state": {
            "_model_module": "@jupyter-widgets/controls",
            "_model_module_version": "1.5.0",
            "_model_name": "DescriptionStyleModel",
            "_view_count": null,
            "_view_module": "@jupyter-widgets/base",
            "_view_module_version": "1.2.0",
            "_view_name": "StyleView",
            "description_width": ""
          }
        },
        "1040eb56bd58478da3585540aa92b5e7": {
          "model_module": "@jupyter-widgets/base",
          "model_name": "LayoutModel",
          "model_module_version": "1.2.0",
          "state": {
            "_model_module": "@jupyter-widgets/base",
            "_model_module_version": "1.2.0",
            "_model_name": "LayoutModel",
            "_view_count": null,
            "_view_module": "@jupyter-widgets/base",
            "_view_module_version": "1.2.0",
            "_view_name": "LayoutView",
            "align_content": null,
            "align_items": null,
            "align_self": null,
            "border": null,
            "bottom": null,
            "display": null,
            "flex": null,
            "flex_flow": null,
            "grid_area": null,
            "grid_auto_columns": null,
            "grid_auto_flow": null,
            "grid_auto_rows": null,
            "grid_column": null,
            "grid_gap": null,
            "grid_row": null,
            "grid_template_areas": null,
            "grid_template_columns": null,
            "grid_template_rows": null,
            "height": null,
            "justify_content": null,
            "justify_items": null,
            "left": null,
            "margin": null,
            "max_height": null,
            "max_width": null,
            "min_height": null,
            "min_width": null,
            "object_fit": null,
            "object_position": null,
            "order": null,
            "overflow": null,
            "overflow_x": null,
            "overflow_y": null,
            "padding": null,
            "right": null,
            "top": null,
            "visibility": null,
            "width": "20px"
          }
        },
        "37fd39c336034430899532d732bd7f3c": {
          "model_module": "@jupyter-widgets/controls",
          "model_name": "ProgressStyleModel",
          "model_module_version": "1.5.0",
          "state": {
            "_model_module": "@jupyter-widgets/controls",
            "_model_module_version": "1.5.0",
            "_model_name": "ProgressStyleModel",
            "_view_count": null,
            "_view_module": "@jupyter-widgets/base",
            "_view_module_version": "1.2.0",
            "_view_name": "StyleView",
            "bar_color": null,
            "description_width": ""
          }
        },
        "9f8d1d4329fe4690a79e7b92ad1f1794": {
          "model_module": "@jupyter-widgets/base",
          "model_name": "LayoutModel",
          "model_module_version": "1.2.0",
          "state": {
            "_model_module": "@jupyter-widgets/base",
            "_model_module_version": "1.2.0",
            "_model_name": "LayoutModel",
            "_view_count": null,
            "_view_module": "@jupyter-widgets/base",
            "_view_module_version": "1.2.0",
            "_view_name": "LayoutView",
            "align_content": null,
            "align_items": null,
            "align_self": null,
            "border": null,
            "bottom": null,
            "display": null,
            "flex": null,
            "flex_flow": null,
            "grid_area": null,
            "grid_auto_columns": null,
            "grid_auto_flow": null,
            "grid_auto_rows": null,
            "grid_column": null,
            "grid_gap": null,
            "grid_row": null,
            "grid_template_areas": null,
            "grid_template_columns": null,
            "grid_template_rows": null,
            "height": null,
            "justify_content": null,
            "justify_items": null,
            "left": null,
            "margin": null,
            "max_height": null,
            "max_width": null,
            "min_height": null,
            "min_width": null,
            "object_fit": null,
            "object_position": null,
            "order": null,
            "overflow": null,
            "overflow_x": null,
            "overflow_y": null,
            "padding": null,
            "right": null,
            "top": null,
            "visibility": null,
            "width": null
          }
        },
        "f748ecfa1c0643da92440b837696fe55": {
          "model_module": "@jupyter-widgets/controls",
          "model_name": "DescriptionStyleModel",
          "model_module_version": "1.5.0",
          "state": {
            "_model_module": "@jupyter-widgets/controls",
            "_model_module_version": "1.5.0",
            "_model_name": "DescriptionStyleModel",
            "_view_count": null,
            "_view_module": "@jupyter-widgets/base",
            "_view_module_version": "1.2.0",
            "_view_name": "StyleView",
            "description_width": ""
          }
        },
        "f478dbbaa7bb4b3ea1c8930985f144cc": {
          "model_module": "@jupyter-widgets/controls",
          "model_name": "HBoxModel",
          "model_module_version": "1.5.0",
          "state": {
            "_dom_classes": [],
            "_model_module": "@jupyter-widgets/controls",
            "_model_module_version": "1.5.0",
            "_model_name": "HBoxModel",
            "_view_count": null,
            "_view_module": "@jupyter-widgets/controls",
            "_view_module_version": "1.5.0",
            "_view_name": "HBoxView",
            "box_style": "",
            "children": [
              "IPY_MODEL_95b437f36e714b668561cc3eef090c8f",
              "IPY_MODEL_f333e392e2c94a08a186b04da34d0ace",
              "IPY_MODEL_ed4b1567fae249bdbeef8b8b775aecba"
            ],
            "layout": "IPY_MODEL_635e5b0831ef40448bc53c47587faf90"
          }
        },
        "95b437f36e714b668561cc3eef090c8f": {
          "model_module": "@jupyter-widgets/controls",
          "model_name": "HTMLModel",
          "model_module_version": "1.5.0",
          "state": {
            "_dom_classes": [],
            "_model_module": "@jupyter-widgets/controls",
            "_model_module_version": "1.5.0",
            "_model_name": "HTMLModel",
            "_view_count": null,
            "_view_module": "@jupyter-widgets/controls",
            "_view_module_version": "1.5.0",
            "_view_name": "HTMLView",
            "description": "",
            "description_tooltip": null,
            "layout": "IPY_MODEL_cf07f9243ae145e4a44da2eef703649b",
            "placeholder": "​",
            "style": "IPY_MODEL_473ff042a4e84e498f459c8aa6bac395",
            "value": "Dl Size...: 100%"
          }
        },
        "f333e392e2c94a08a186b04da34d0ace": {
          "model_module": "@jupyter-widgets/controls",
          "model_name": "FloatProgressModel",
          "model_module_version": "1.5.0",
          "state": {
            "_dom_classes": [],
            "_model_module": "@jupyter-widgets/controls",
            "_model_module_version": "1.5.0",
            "_model_name": "FloatProgressModel",
            "_view_count": null,
            "_view_module": "@jupyter-widgets/controls",
            "_view_module_version": "1.5.0",
            "_view_name": "ProgressView",
            "bar_style": "success",
            "description": "",
            "description_tooltip": null,
            "layout": "IPY_MODEL_6d37903d57eb460ca5c018a1f29aa488",
            "max": 1,
            "min": 0,
            "orientation": "horizontal",
            "style": "IPY_MODEL_a8a2fe1acf764a3d89e12b55c320a5aa",
            "value": 1
          }
        },
        "ed4b1567fae249bdbeef8b8b775aecba": {
          "model_module": "@jupyter-widgets/controls",
          "model_name": "HTMLModel",
          "model_module_version": "1.5.0",
          "state": {
            "_dom_classes": [],
            "_model_module": "@jupyter-widgets/controls",
            "_model_module_version": "1.5.0",
            "_model_name": "HTMLModel",
            "_view_count": null,
            "_view_module": "@jupyter-widgets/controls",
            "_view_module_version": "1.5.0",
            "_view_name": "HTMLView",
            "description": "",
            "description_tooltip": null,
            "layout": "IPY_MODEL_b50756e206ac47bbbeee650c34941629",
            "placeholder": "​",
            "style": "IPY_MODEL_099e4ba515f84dcf8785d437d6242d4b",
            "value": " 80/80 [00:01&lt;00:00, 19.72 MiB/s]"
          }
        },
        "635e5b0831ef40448bc53c47587faf90": {
          "model_module": "@jupyter-widgets/base",
          "model_name": "LayoutModel",
          "model_module_version": "1.2.0",
          "state": {
            "_model_module": "@jupyter-widgets/base",
            "_model_module_version": "1.2.0",
            "_model_name": "LayoutModel",
            "_view_count": null,
            "_view_module": "@jupyter-widgets/base",
            "_view_module_version": "1.2.0",
            "_view_name": "LayoutView",
            "align_content": null,
            "align_items": null,
            "align_self": null,
            "border": null,
            "bottom": null,
            "display": null,
            "flex": null,
            "flex_flow": null,
            "grid_area": null,
            "grid_auto_columns": null,
            "grid_auto_flow": null,
            "grid_auto_rows": null,
            "grid_column": null,
            "grid_gap": null,
            "grid_row": null,
            "grid_template_areas": null,
            "grid_template_columns": null,
            "grid_template_rows": null,
            "height": null,
            "justify_content": null,
            "justify_items": null,
            "left": null,
            "margin": null,
            "max_height": null,
            "max_width": null,
            "min_height": null,
            "min_width": null,
            "object_fit": null,
            "object_position": null,
            "order": null,
            "overflow": null,
            "overflow_x": null,
            "overflow_y": null,
            "padding": null,
            "right": null,
            "top": null,
            "visibility": null,
            "width": null
          }
        },
        "cf07f9243ae145e4a44da2eef703649b": {
          "model_module": "@jupyter-widgets/base",
          "model_name": "LayoutModel",
          "model_module_version": "1.2.0",
          "state": {
            "_model_module": "@jupyter-widgets/base",
            "_model_module_version": "1.2.0",
            "_model_name": "LayoutModel",
            "_view_count": null,
            "_view_module": "@jupyter-widgets/base",
            "_view_module_version": "1.2.0",
            "_view_name": "LayoutView",
            "align_content": null,
            "align_items": null,
            "align_self": null,
            "border": null,
            "bottom": null,
            "display": null,
            "flex": null,
            "flex_flow": null,
            "grid_area": null,
            "grid_auto_columns": null,
            "grid_auto_flow": null,
            "grid_auto_rows": null,
            "grid_column": null,
            "grid_gap": null,
            "grid_row": null,
            "grid_template_areas": null,
            "grid_template_columns": null,
            "grid_template_rows": null,
            "height": null,
            "justify_content": null,
            "justify_items": null,
            "left": null,
            "margin": null,
            "max_height": null,
            "max_width": null,
            "min_height": null,
            "min_width": null,
            "object_fit": null,
            "object_position": null,
            "order": null,
            "overflow": null,
            "overflow_x": null,
            "overflow_y": null,
            "padding": null,
            "right": null,
            "top": null,
            "visibility": null,
            "width": null
          }
        },
        "473ff042a4e84e498f459c8aa6bac395": {
          "model_module": "@jupyter-widgets/controls",
          "model_name": "DescriptionStyleModel",
          "model_module_version": "1.5.0",
          "state": {
            "_model_module": "@jupyter-widgets/controls",
            "_model_module_version": "1.5.0",
            "_model_name": "DescriptionStyleModel",
            "_view_count": null,
            "_view_module": "@jupyter-widgets/base",
            "_view_module_version": "1.2.0",
            "_view_name": "StyleView",
            "description_width": ""
          }
        },
        "6d37903d57eb460ca5c018a1f29aa488": {
          "model_module": "@jupyter-widgets/base",
          "model_name": "LayoutModel",
          "model_module_version": "1.2.0",
          "state": {
            "_model_module": "@jupyter-widgets/base",
            "_model_module_version": "1.2.0",
            "_model_name": "LayoutModel",
            "_view_count": null,
            "_view_module": "@jupyter-widgets/base",
            "_view_module_version": "1.2.0",
            "_view_name": "LayoutView",
            "align_content": null,
            "align_items": null,
            "align_self": null,
            "border": null,
            "bottom": null,
            "display": null,
            "flex": null,
            "flex_flow": null,
            "grid_area": null,
            "grid_auto_columns": null,
            "grid_auto_flow": null,
            "grid_auto_rows": null,
            "grid_column": null,
            "grid_gap": null,
            "grid_row": null,
            "grid_template_areas": null,
            "grid_template_columns": null,
            "grid_template_rows": null,
            "height": null,
            "justify_content": null,
            "justify_items": null,
            "left": null,
            "margin": null,
            "max_height": null,
            "max_width": null,
            "min_height": null,
            "min_width": null,
            "object_fit": null,
            "object_position": null,
            "order": null,
            "overflow": null,
            "overflow_x": null,
            "overflow_y": null,
            "padding": null,
            "right": null,
            "top": null,
            "visibility": null,
            "width": "20px"
          }
        },
        "a8a2fe1acf764a3d89e12b55c320a5aa": {
          "model_module": "@jupyter-widgets/controls",
          "model_name": "ProgressStyleModel",
          "model_module_version": "1.5.0",
          "state": {
            "_model_module": "@jupyter-widgets/controls",
            "_model_module_version": "1.5.0",
            "_model_name": "ProgressStyleModel",
            "_view_count": null,
            "_view_module": "@jupyter-widgets/base",
            "_view_module_version": "1.2.0",
            "_view_name": "StyleView",
            "bar_color": null,
            "description_width": ""
          }
        },
        "b50756e206ac47bbbeee650c34941629": {
          "model_module": "@jupyter-widgets/base",
          "model_name": "LayoutModel",
          "model_module_version": "1.2.0",
          "state": {
            "_model_module": "@jupyter-widgets/base",
            "_model_module_version": "1.2.0",
            "_model_name": "LayoutModel",
            "_view_count": null,
            "_view_module": "@jupyter-widgets/base",
            "_view_module_version": "1.2.0",
            "_view_name": "LayoutView",
            "align_content": null,
            "align_items": null,
            "align_self": null,
            "border": null,
            "bottom": null,
            "display": null,
            "flex": null,
            "flex_flow": null,
            "grid_area": null,
            "grid_auto_columns": null,
            "grid_auto_flow": null,
            "grid_auto_rows": null,
            "grid_column": null,
            "grid_gap": null,
            "grid_row": null,
            "grid_template_areas": null,
            "grid_template_columns": null,
            "grid_template_rows": null,
            "height": null,
            "justify_content": null,
            "justify_items": null,
            "left": null,
            "margin": null,
            "max_height": null,
            "max_width": null,
            "min_height": null,
            "min_width": null,
            "object_fit": null,
            "object_position": null,
            "order": null,
            "overflow": null,
            "overflow_x": null,
            "overflow_y": null,
            "padding": null,
            "right": null,
            "top": null,
            "visibility": null,
            "width": null
          }
        },
        "099e4ba515f84dcf8785d437d6242d4b": {
          "model_module": "@jupyter-widgets/controls",
          "model_name": "DescriptionStyleModel",
          "model_module_version": "1.5.0",
          "state": {
            "_model_module": "@jupyter-widgets/controls",
            "_model_module_version": "1.5.0",
            "_model_name": "DescriptionStyleModel",
            "_view_count": null,
            "_view_module": "@jupyter-widgets/base",
            "_view_module_version": "1.2.0",
            "_view_name": "StyleView",
            "description_width": ""
          }
        },
        "44ab5b2bffad450c9965ddc95c36bda2": {
          "model_module": "@jupyter-widgets/controls",
          "model_name": "HBoxModel",
          "model_module_version": "1.5.0",
          "state": {
            "_dom_classes": [],
            "_model_module": "@jupyter-widgets/controls",
            "_model_module_version": "1.5.0",
            "_model_name": "HBoxModel",
            "_view_count": null,
            "_view_module": "@jupyter-widgets/controls",
            "_view_module_version": "1.5.0",
            "_view_name": "HBoxView",
            "box_style": "",
            "children": [
              "IPY_MODEL_2fefce1aa39d4b959867ae64f49879fa",
              "IPY_MODEL_7965f1af2fc6413f8baf5aec915649c5",
              "IPY_MODEL_f67791d0e61844daba6e55e269a71b21"
            ],
            "layout": "IPY_MODEL_90d9d76edd0e4216a99262524a9a881d"
          }
        },
        "2fefce1aa39d4b959867ae64f49879fa": {
          "model_module": "@jupyter-widgets/controls",
          "model_name": "HTMLModel",
          "model_module_version": "1.5.0",
          "state": {
            "_dom_classes": [],
            "_model_module": "@jupyter-widgets/controls",
            "_model_module_version": "1.5.0",
            "_model_name": "HTMLModel",
            "_view_count": null,
            "_view_module": "@jupyter-widgets/controls",
            "_view_module_version": "1.5.0",
            "_view_name": "HTMLView",
            "description": "",
            "description_tooltip": null,
            "layout": "IPY_MODEL_eeb04cd68f964ba19d1116e46b9caa92",
            "placeholder": "​",
            "style": "IPY_MODEL_5dfdb5a099eb41068775bd6ea206c179",
            "value": "Generating splits...:  67%"
          }
        },
        "7965f1af2fc6413f8baf5aec915649c5": {
          "model_module": "@jupyter-widgets/controls",
          "model_name": "FloatProgressModel",
          "model_module_version": "1.5.0",
          "state": {
            "_dom_classes": [],
            "_model_module": "@jupyter-widgets/controls",
            "_model_module_version": "1.5.0",
            "_model_name": "FloatProgressModel",
            "_view_count": null,
            "_view_module": "@jupyter-widgets/controls",
            "_view_module_version": "1.5.0",
            "_view_name": "ProgressView",
            "bar_style": "",
            "description": "",
            "description_tooltip": null,
            "layout": "IPY_MODEL_b32435342209452382fedbc1a0fd5aea",
            "max": 3,
            "min": 0,
            "orientation": "horizontal",
            "style": "IPY_MODEL_43748714679c4e7cbb7306536b58cce9",
            "value": 2
          }
        },
        "f67791d0e61844daba6e55e269a71b21": {
          "model_module": "@jupyter-widgets/controls",
          "model_name": "HTMLModel",
          "model_module_version": "1.5.0",
          "state": {
            "_dom_classes": [],
            "_model_module": "@jupyter-widgets/controls",
            "_model_module_version": "1.5.0",
            "_model_name": "HTMLModel",
            "_view_count": null,
            "_view_module": "@jupyter-widgets/controls",
            "_view_module_version": "1.5.0",
            "_view_name": "HTMLView",
            "description": "",
            "description_tooltip": null,
            "layout": "IPY_MODEL_18c118b319f646898f1422b6a5bc5db9",
            "placeholder": "​",
            "style": "IPY_MODEL_9dfe4ce5d58c4fc79442bd0382bad10a",
            "value": " 2/3 [00:22&lt;00:11, 11.37s/ splits]"
          }
        },
        "90d9d76edd0e4216a99262524a9a881d": {
          "model_module": "@jupyter-widgets/base",
          "model_name": "LayoutModel",
          "model_module_version": "1.2.0",
          "state": {
            "_model_module": "@jupyter-widgets/base",
            "_model_module_version": "1.2.0",
            "_model_name": "LayoutModel",
            "_view_count": null,
            "_view_module": "@jupyter-widgets/base",
            "_view_module_version": "1.2.0",
            "_view_name": "LayoutView",
            "align_content": null,
            "align_items": null,
            "align_self": null,
            "border": null,
            "bottom": null,
            "display": null,
            "flex": null,
            "flex_flow": null,
            "grid_area": null,
            "grid_auto_columns": null,
            "grid_auto_flow": null,
            "grid_auto_rows": null,
            "grid_column": null,
            "grid_gap": null,
            "grid_row": null,
            "grid_template_areas": null,
            "grid_template_columns": null,
            "grid_template_rows": null,
            "height": null,
            "justify_content": null,
            "justify_items": null,
            "left": null,
            "margin": null,
            "max_height": null,
            "max_width": null,
            "min_height": null,
            "min_width": null,
            "object_fit": null,
            "object_position": null,
            "order": null,
            "overflow": null,
            "overflow_x": null,
            "overflow_y": null,
            "padding": null,
            "right": null,
            "top": null,
            "visibility": null,
            "width": null
          }
        },
        "eeb04cd68f964ba19d1116e46b9caa92": {
          "model_module": "@jupyter-widgets/base",
          "model_name": "LayoutModel",
          "model_module_version": "1.2.0",
          "state": {
            "_model_module": "@jupyter-widgets/base",
            "_model_module_version": "1.2.0",
            "_model_name": "LayoutModel",
            "_view_count": null,
            "_view_module": "@jupyter-widgets/base",
            "_view_module_version": "1.2.0",
            "_view_name": "LayoutView",
            "align_content": null,
            "align_items": null,
            "align_self": null,
            "border": null,
            "bottom": null,
            "display": null,
            "flex": null,
            "flex_flow": null,
            "grid_area": null,
            "grid_auto_columns": null,
            "grid_auto_flow": null,
            "grid_auto_rows": null,
            "grid_column": null,
            "grid_gap": null,
            "grid_row": null,
            "grid_template_areas": null,
            "grid_template_columns": null,
            "grid_template_rows": null,
            "height": null,
            "justify_content": null,
            "justify_items": null,
            "left": null,
            "margin": null,
            "max_height": null,
            "max_width": null,
            "min_height": null,
            "min_width": null,
            "object_fit": null,
            "object_position": null,
            "order": null,
            "overflow": null,
            "overflow_x": null,
            "overflow_y": null,
            "padding": null,
            "right": null,
            "top": null,
            "visibility": null,
            "width": null
          }
        },
        "5dfdb5a099eb41068775bd6ea206c179": {
          "model_module": "@jupyter-widgets/controls",
          "model_name": "DescriptionStyleModel",
          "model_module_version": "1.5.0",
          "state": {
            "_model_module": "@jupyter-widgets/controls",
            "_model_module_version": "1.5.0",
            "_model_name": "DescriptionStyleModel",
            "_view_count": null,
            "_view_module": "@jupyter-widgets/base",
            "_view_module_version": "1.2.0",
            "_view_name": "StyleView",
            "description_width": ""
          }
        },
        "b32435342209452382fedbc1a0fd5aea": {
          "model_module": "@jupyter-widgets/base",
          "model_name": "LayoutModel",
          "model_module_version": "1.2.0",
          "state": {
            "_model_module": "@jupyter-widgets/base",
            "_model_module_version": "1.2.0",
            "_model_name": "LayoutModel",
            "_view_count": null,
            "_view_module": "@jupyter-widgets/base",
            "_view_module_version": "1.2.0",
            "_view_name": "LayoutView",
            "align_content": null,
            "align_items": null,
            "align_self": null,
            "border": null,
            "bottom": null,
            "display": null,
            "flex": null,
            "flex_flow": null,
            "grid_area": null,
            "grid_auto_columns": null,
            "grid_auto_flow": null,
            "grid_auto_rows": null,
            "grid_column": null,
            "grid_gap": null,
            "grid_row": null,
            "grid_template_areas": null,
            "grid_template_columns": null,
            "grid_template_rows": null,
            "height": null,
            "justify_content": null,
            "justify_items": null,
            "left": null,
            "margin": null,
            "max_height": null,
            "max_width": null,
            "min_height": null,
            "min_width": null,
            "object_fit": null,
            "object_position": null,
            "order": null,
            "overflow": null,
            "overflow_x": null,
            "overflow_y": null,
            "padding": null,
            "right": null,
            "top": null,
            "visibility": null,
            "width": null
          }
        },
        "43748714679c4e7cbb7306536b58cce9": {
          "model_module": "@jupyter-widgets/controls",
          "model_name": "ProgressStyleModel",
          "model_module_version": "1.5.0",
          "state": {
            "_model_module": "@jupyter-widgets/controls",
            "_model_module_version": "1.5.0",
            "_model_name": "ProgressStyleModel",
            "_view_count": null,
            "_view_module": "@jupyter-widgets/base",
            "_view_module_version": "1.2.0",
            "_view_name": "StyleView",
            "bar_color": null,
            "description_width": ""
          }
        },
        "18c118b319f646898f1422b6a5bc5db9": {
          "model_module": "@jupyter-widgets/base",
          "model_name": "LayoutModel",
          "model_module_version": "1.2.0",
          "state": {
            "_model_module": "@jupyter-widgets/base",
            "_model_module_version": "1.2.0",
            "_model_name": "LayoutModel",
            "_view_count": null,
            "_view_module": "@jupyter-widgets/base",
            "_view_module_version": "1.2.0",
            "_view_name": "LayoutView",
            "align_content": null,
            "align_items": null,
            "align_self": null,
            "border": null,
            "bottom": null,
            "display": null,
            "flex": null,
            "flex_flow": null,
            "grid_area": null,
            "grid_auto_columns": null,
            "grid_auto_flow": null,
            "grid_auto_rows": null,
            "grid_column": null,
            "grid_gap": null,
            "grid_row": null,
            "grid_template_areas": null,
            "grid_template_columns": null,
            "grid_template_rows": null,
            "height": null,
            "justify_content": null,
            "justify_items": null,
            "left": null,
            "margin": null,
            "max_height": null,
            "max_width": null,
            "min_height": null,
            "min_width": null,
            "object_fit": null,
            "object_position": null,
            "order": null,
            "overflow": null,
            "overflow_x": null,
            "overflow_y": null,
            "padding": null,
            "right": null,
            "top": null,
            "visibility": null,
            "width": null
          }
        },
        "9dfe4ce5d58c4fc79442bd0382bad10a": {
          "model_module": "@jupyter-widgets/controls",
          "model_name": "DescriptionStyleModel",
          "model_module_version": "1.5.0",
          "state": {
            "_model_module": "@jupyter-widgets/controls",
            "_model_module_version": "1.5.0",
            "_model_name": "DescriptionStyleModel",
            "_view_count": null,
            "_view_module": "@jupyter-widgets/base",
            "_view_module_version": "1.2.0",
            "_view_name": "StyleView",
            "description_width": ""
          }
        },
        "e872e606831b48c0814059fd8d9b0287": {
          "model_module": "@jupyter-widgets/controls",
          "model_name": "HBoxModel",
          "model_module_version": "1.5.0",
          "state": {
            "_dom_classes": [],
            "_model_module": "@jupyter-widgets/controls",
            "_model_module_version": "1.5.0",
            "_model_name": "HBoxModel",
            "_view_count": null,
            "_view_module": "@jupyter-widgets/controls",
            "_view_module_version": "1.5.0",
            "_view_name": "HBoxView",
            "box_style": "",
            "children": [
              "IPY_MODEL_80b03a5cdd6d43ca964cd7a87e740b0c",
              "IPY_MODEL_0dddd204b6c7474d9beb3b3b9f44e726",
              "IPY_MODEL_cae3aea84da74271b883d5713a9215d5"
            ],
            "layout": "IPY_MODEL_3a1d5239768c440abb8a32f28b80429d"
          }
        },
        "80b03a5cdd6d43ca964cd7a87e740b0c": {
          "model_module": "@jupyter-widgets/controls",
          "model_name": "HTMLModel",
          "model_module_version": "1.5.0",
          "state": {
            "_dom_classes": [],
            "_model_module": "@jupyter-widgets/controls",
            "_model_module_version": "1.5.0",
            "_model_name": "HTMLModel",
            "_view_count": null,
            "_view_module": "@jupyter-widgets/controls",
            "_view_module_version": "1.5.0",
            "_view_name": "HTMLView",
            "description": "",
            "description_tooltip": null,
            "layout": "IPY_MODEL_7b2c8cc5837646ca81762a1ff7f911a7",
            "placeholder": "​",
            "style": "IPY_MODEL_c3a01e9fc8f2437d8aa9de39b4c60580",
            "value": "Generating train examples...:  82%"
          }
        },
        "0dddd204b6c7474d9beb3b3b9f44e726": {
          "model_module": "@jupyter-widgets/controls",
          "model_name": "FloatProgressModel",
          "model_module_version": "1.5.0",
          "state": {
            "_dom_classes": [],
            "_model_module": "@jupyter-widgets/controls",
            "_model_module_version": "1.5.0",
            "_model_name": "FloatProgressModel",
            "_view_count": null,
            "_view_module": "@jupyter-widgets/controls",
            "_view_module_version": "1.5.0",
            "_view_name": "ProgressView",
            "bar_style": "",
            "description": "",
            "description_tooltip": null,
            "layout": "IPY_MODEL_1f44f56ba74247919b0fc44e49e76067",
            "max": 25000,
            "min": 0,
            "orientation": "horizontal",
            "style": "IPY_MODEL_7d2aedb74dd740f68ea19e54eaa0346d",
            "value": 25000
          }
        },
        "cae3aea84da74271b883d5713a9215d5": {
          "model_module": "@jupyter-widgets/controls",
          "model_name": "HTMLModel",
          "model_module_version": "1.5.0",
          "state": {
            "_dom_classes": [],
            "_model_module": "@jupyter-widgets/controls",
            "_model_module_version": "1.5.0",
            "_model_name": "HTMLModel",
            "_view_count": null,
            "_view_module": "@jupyter-widgets/controls",
            "_view_module_version": "1.5.0",
            "_view_name": "HTMLView",
            "description": "",
            "description_tooltip": null,
            "layout": "IPY_MODEL_b9ea1dd8beb044258feff6b47b814402",
            "placeholder": "​",
            "style": "IPY_MODEL_0163809ea39646229a09426e63eeb2c5",
            "value": " 20596/25000 [00:07&lt;00:01, 4243.84 examples/s]"
          }
        },
        "3a1d5239768c440abb8a32f28b80429d": {
          "model_module": "@jupyter-widgets/base",
          "model_name": "LayoutModel",
          "model_module_version": "1.2.0",
          "state": {
            "_model_module": "@jupyter-widgets/base",
            "_model_module_version": "1.2.0",
            "_model_name": "LayoutModel",
            "_view_count": null,
            "_view_module": "@jupyter-widgets/base",
            "_view_module_version": "1.2.0",
            "_view_name": "LayoutView",
            "align_content": null,
            "align_items": null,
            "align_self": null,
            "border": null,
            "bottom": null,
            "display": null,
            "flex": null,
            "flex_flow": null,
            "grid_area": null,
            "grid_auto_columns": null,
            "grid_auto_flow": null,
            "grid_auto_rows": null,
            "grid_column": null,
            "grid_gap": null,
            "grid_row": null,
            "grid_template_areas": null,
            "grid_template_columns": null,
            "grid_template_rows": null,
            "height": null,
            "justify_content": null,
            "justify_items": null,
            "left": null,
            "margin": null,
            "max_height": null,
            "max_width": null,
            "min_height": null,
            "min_width": null,
            "object_fit": null,
            "object_position": null,
            "order": null,
            "overflow": null,
            "overflow_x": null,
            "overflow_y": null,
            "padding": null,
            "right": null,
            "top": null,
            "visibility": "hidden",
            "width": null
          }
        },
        "7b2c8cc5837646ca81762a1ff7f911a7": {
          "model_module": "@jupyter-widgets/base",
          "model_name": "LayoutModel",
          "model_module_version": "1.2.0",
          "state": {
            "_model_module": "@jupyter-widgets/base",
            "_model_module_version": "1.2.0",
            "_model_name": "LayoutModel",
            "_view_count": null,
            "_view_module": "@jupyter-widgets/base",
            "_view_module_version": "1.2.0",
            "_view_name": "LayoutView",
            "align_content": null,
            "align_items": null,
            "align_self": null,
            "border": null,
            "bottom": null,
            "display": null,
            "flex": null,
            "flex_flow": null,
            "grid_area": null,
            "grid_auto_columns": null,
            "grid_auto_flow": null,
            "grid_auto_rows": null,
            "grid_column": null,
            "grid_gap": null,
            "grid_row": null,
            "grid_template_areas": null,
            "grid_template_columns": null,
            "grid_template_rows": null,
            "height": null,
            "justify_content": null,
            "justify_items": null,
            "left": null,
            "margin": null,
            "max_height": null,
            "max_width": null,
            "min_height": null,
            "min_width": null,
            "object_fit": null,
            "object_position": null,
            "order": null,
            "overflow": null,
            "overflow_x": null,
            "overflow_y": null,
            "padding": null,
            "right": null,
            "top": null,
            "visibility": null,
            "width": null
          }
        },
        "c3a01e9fc8f2437d8aa9de39b4c60580": {
          "model_module": "@jupyter-widgets/controls",
          "model_name": "DescriptionStyleModel",
          "model_module_version": "1.5.0",
          "state": {
            "_model_module": "@jupyter-widgets/controls",
            "_model_module_version": "1.5.0",
            "_model_name": "DescriptionStyleModel",
            "_view_count": null,
            "_view_module": "@jupyter-widgets/base",
            "_view_module_version": "1.2.0",
            "_view_name": "StyleView",
            "description_width": ""
          }
        },
        "1f44f56ba74247919b0fc44e49e76067": {
          "model_module": "@jupyter-widgets/base",
          "model_name": "LayoutModel",
          "model_module_version": "1.2.0",
          "state": {
            "_model_module": "@jupyter-widgets/base",
            "_model_module_version": "1.2.0",
            "_model_name": "LayoutModel",
            "_view_count": null,
            "_view_module": "@jupyter-widgets/base",
            "_view_module_version": "1.2.0",
            "_view_name": "LayoutView",
            "align_content": null,
            "align_items": null,
            "align_self": null,
            "border": null,
            "bottom": null,
            "display": null,
            "flex": null,
            "flex_flow": null,
            "grid_area": null,
            "grid_auto_columns": null,
            "grid_auto_flow": null,
            "grid_auto_rows": null,
            "grid_column": null,
            "grid_gap": null,
            "grid_row": null,
            "grid_template_areas": null,
            "grid_template_columns": null,
            "grid_template_rows": null,
            "height": null,
            "justify_content": null,
            "justify_items": null,
            "left": null,
            "margin": null,
            "max_height": null,
            "max_width": null,
            "min_height": null,
            "min_width": null,
            "object_fit": null,
            "object_position": null,
            "order": null,
            "overflow": null,
            "overflow_x": null,
            "overflow_y": null,
            "padding": null,
            "right": null,
            "top": null,
            "visibility": null,
            "width": null
          }
        },
        "7d2aedb74dd740f68ea19e54eaa0346d": {
          "model_module": "@jupyter-widgets/controls",
          "model_name": "ProgressStyleModel",
          "model_module_version": "1.5.0",
          "state": {
            "_model_module": "@jupyter-widgets/controls",
            "_model_module_version": "1.5.0",
            "_model_name": "ProgressStyleModel",
            "_view_count": null,
            "_view_module": "@jupyter-widgets/base",
            "_view_module_version": "1.2.0",
            "_view_name": "StyleView",
            "bar_color": null,
            "description_width": ""
          }
        },
        "b9ea1dd8beb044258feff6b47b814402": {
          "model_module": "@jupyter-widgets/base",
          "model_name": "LayoutModel",
          "model_module_version": "1.2.0",
          "state": {
            "_model_module": "@jupyter-widgets/base",
            "_model_module_version": "1.2.0",
            "_model_name": "LayoutModel",
            "_view_count": null,
            "_view_module": "@jupyter-widgets/base",
            "_view_module_version": "1.2.0",
            "_view_name": "LayoutView",
            "align_content": null,
            "align_items": null,
            "align_self": null,
            "border": null,
            "bottom": null,
            "display": null,
            "flex": null,
            "flex_flow": null,
            "grid_area": null,
            "grid_auto_columns": null,
            "grid_auto_flow": null,
            "grid_auto_rows": null,
            "grid_column": null,
            "grid_gap": null,
            "grid_row": null,
            "grid_template_areas": null,
            "grid_template_columns": null,
            "grid_template_rows": null,
            "height": null,
            "justify_content": null,
            "justify_items": null,
            "left": null,
            "margin": null,
            "max_height": null,
            "max_width": null,
            "min_height": null,
            "min_width": null,
            "object_fit": null,
            "object_position": null,
            "order": null,
            "overflow": null,
            "overflow_x": null,
            "overflow_y": null,
            "padding": null,
            "right": null,
            "top": null,
            "visibility": null,
            "width": null
          }
        },
        "0163809ea39646229a09426e63eeb2c5": {
          "model_module": "@jupyter-widgets/controls",
          "model_name": "DescriptionStyleModel",
          "model_module_version": "1.5.0",
          "state": {
            "_model_module": "@jupyter-widgets/controls",
            "_model_module_version": "1.5.0",
            "_model_name": "DescriptionStyleModel",
            "_view_count": null,
            "_view_module": "@jupyter-widgets/base",
            "_view_module_version": "1.2.0",
            "_view_name": "StyleView",
            "description_width": ""
          }
        },
        "c722da6b1efd43d0a6b5a6269fde73f6": {
          "model_module": "@jupyter-widgets/controls",
          "model_name": "HBoxModel",
          "model_module_version": "1.5.0",
          "state": {
            "_dom_classes": [],
            "_model_module": "@jupyter-widgets/controls",
            "_model_module_version": "1.5.0",
            "_model_name": "HBoxModel",
            "_view_count": null,
            "_view_module": "@jupyter-widgets/controls",
            "_view_module_version": "1.5.0",
            "_view_name": "HBoxView",
            "box_style": "",
            "children": [
              "IPY_MODEL_787ef1320a88414c8e198a41d563a85a",
              "IPY_MODEL_d5c53168f53145aeaffcffb13c297fcd",
              "IPY_MODEL_a9327843fc884d608e014137dd46ad98"
            ],
            "layout": "IPY_MODEL_b837bfcc93234105a3588409c86673bd"
          }
        },
        "787ef1320a88414c8e198a41d563a85a": {
          "model_module": "@jupyter-widgets/controls",
          "model_name": "HTMLModel",
          "model_module_version": "1.5.0",
          "state": {
            "_dom_classes": [],
            "_model_module": "@jupyter-widgets/controls",
            "_model_module_version": "1.5.0",
            "_model_name": "HTMLModel",
            "_view_count": null,
            "_view_module": "@jupyter-widgets/controls",
            "_view_module_version": "1.5.0",
            "_view_name": "HTMLView",
            "description": "",
            "description_tooltip": null,
            "layout": "IPY_MODEL_301bc16e5bd9449482e5905ae46d8179",
            "placeholder": "​",
            "style": "IPY_MODEL_3e6f195286624ff183c9620cee0f593f",
            "value": "Shuffling data/imdb_reviews/imdb_reviews/plain_text/1.0.0.incompleteZK6SXC/imdb_reviews-train.tfrecord*...:  63%"
          }
        },
        "d5c53168f53145aeaffcffb13c297fcd": {
          "model_module": "@jupyter-widgets/controls",
          "model_name": "FloatProgressModel",
          "model_module_version": "1.5.0",
          "state": {
            "_dom_classes": [],
            "_model_module": "@jupyter-widgets/controls",
            "_model_module_version": "1.5.0",
            "_model_name": "FloatProgressModel",
            "_view_count": null,
            "_view_module": "@jupyter-widgets/controls",
            "_view_module_version": "1.5.0",
            "_view_name": "ProgressView",
            "bar_style": "",
            "description": "",
            "description_tooltip": null,
            "layout": "IPY_MODEL_2f407658eb734b69a67b6c0d956f2556",
            "max": 25000,
            "min": 0,
            "orientation": "horizontal",
            "style": "IPY_MODEL_c38820213ae040b9a494327b3d6545d1",
            "value": 25000
          }
        },
        "a9327843fc884d608e014137dd46ad98": {
          "model_module": "@jupyter-widgets/controls",
          "model_name": "HTMLModel",
          "model_module_version": "1.5.0",
          "state": {
            "_dom_classes": [],
            "_model_module": "@jupyter-widgets/controls",
            "_model_module_version": "1.5.0",
            "_model_name": "HTMLModel",
            "_view_count": null,
            "_view_module": "@jupyter-widgets/controls",
            "_view_module_version": "1.5.0",
            "_view_name": "HTMLView",
            "description": "",
            "description_tooltip": null,
            "layout": "IPY_MODEL_ba4eaddef9aa437ea06e1500f19299b6",
            "placeholder": "​",
            "style": "IPY_MODEL_e41c0c8494524c9aa6c0c6a37719c8a4",
            "value": " 15833/25000 [00:00&lt;00:00, 158317.32 examples/s]"
          }
        },
        "b837bfcc93234105a3588409c86673bd": {
          "model_module": "@jupyter-widgets/base",
          "model_name": "LayoutModel",
          "model_module_version": "1.2.0",
          "state": {
            "_model_module": "@jupyter-widgets/base",
            "_model_module_version": "1.2.0",
            "_model_name": "LayoutModel",
            "_view_count": null,
            "_view_module": "@jupyter-widgets/base",
            "_view_module_version": "1.2.0",
            "_view_name": "LayoutView",
            "align_content": null,
            "align_items": null,
            "align_self": null,
            "border": null,
            "bottom": null,
            "display": null,
            "flex": null,
            "flex_flow": null,
            "grid_area": null,
            "grid_auto_columns": null,
            "grid_auto_flow": null,
            "grid_auto_rows": null,
            "grid_column": null,
            "grid_gap": null,
            "grid_row": null,
            "grid_template_areas": null,
            "grid_template_columns": null,
            "grid_template_rows": null,
            "height": null,
            "justify_content": null,
            "justify_items": null,
            "left": null,
            "margin": null,
            "max_height": null,
            "max_width": null,
            "min_height": null,
            "min_width": null,
            "object_fit": null,
            "object_position": null,
            "order": null,
            "overflow": null,
            "overflow_x": null,
            "overflow_y": null,
            "padding": null,
            "right": null,
            "top": null,
            "visibility": "hidden",
            "width": null
          }
        },
        "301bc16e5bd9449482e5905ae46d8179": {
          "model_module": "@jupyter-widgets/base",
          "model_name": "LayoutModel",
          "model_module_version": "1.2.0",
          "state": {
            "_model_module": "@jupyter-widgets/base",
            "_model_module_version": "1.2.0",
            "_model_name": "LayoutModel",
            "_view_count": null,
            "_view_module": "@jupyter-widgets/base",
            "_view_module_version": "1.2.0",
            "_view_name": "LayoutView",
            "align_content": null,
            "align_items": null,
            "align_self": null,
            "border": null,
            "bottom": null,
            "display": null,
            "flex": null,
            "flex_flow": null,
            "grid_area": null,
            "grid_auto_columns": null,
            "grid_auto_flow": null,
            "grid_auto_rows": null,
            "grid_column": null,
            "grid_gap": null,
            "grid_row": null,
            "grid_template_areas": null,
            "grid_template_columns": null,
            "grid_template_rows": null,
            "height": null,
            "justify_content": null,
            "justify_items": null,
            "left": null,
            "margin": null,
            "max_height": null,
            "max_width": null,
            "min_height": null,
            "min_width": null,
            "object_fit": null,
            "object_position": null,
            "order": null,
            "overflow": null,
            "overflow_x": null,
            "overflow_y": null,
            "padding": null,
            "right": null,
            "top": null,
            "visibility": null,
            "width": null
          }
        },
        "3e6f195286624ff183c9620cee0f593f": {
          "model_module": "@jupyter-widgets/controls",
          "model_name": "DescriptionStyleModel",
          "model_module_version": "1.5.0",
          "state": {
            "_model_module": "@jupyter-widgets/controls",
            "_model_module_version": "1.5.0",
            "_model_name": "DescriptionStyleModel",
            "_view_count": null,
            "_view_module": "@jupyter-widgets/base",
            "_view_module_version": "1.2.0",
            "_view_name": "StyleView",
            "description_width": ""
          }
        },
        "2f407658eb734b69a67b6c0d956f2556": {
          "model_module": "@jupyter-widgets/base",
          "model_name": "LayoutModel",
          "model_module_version": "1.2.0",
          "state": {
            "_model_module": "@jupyter-widgets/base",
            "_model_module_version": "1.2.0",
            "_model_name": "LayoutModel",
            "_view_count": null,
            "_view_module": "@jupyter-widgets/base",
            "_view_module_version": "1.2.0",
            "_view_name": "LayoutView",
            "align_content": null,
            "align_items": null,
            "align_self": null,
            "border": null,
            "bottom": null,
            "display": null,
            "flex": null,
            "flex_flow": null,
            "grid_area": null,
            "grid_auto_columns": null,
            "grid_auto_flow": null,
            "grid_auto_rows": null,
            "grid_column": null,
            "grid_gap": null,
            "grid_row": null,
            "grid_template_areas": null,
            "grid_template_columns": null,
            "grid_template_rows": null,
            "height": null,
            "justify_content": null,
            "justify_items": null,
            "left": null,
            "margin": null,
            "max_height": null,
            "max_width": null,
            "min_height": null,
            "min_width": null,
            "object_fit": null,
            "object_position": null,
            "order": null,
            "overflow": null,
            "overflow_x": null,
            "overflow_y": null,
            "padding": null,
            "right": null,
            "top": null,
            "visibility": null,
            "width": null
          }
        },
        "c38820213ae040b9a494327b3d6545d1": {
          "model_module": "@jupyter-widgets/controls",
          "model_name": "ProgressStyleModel",
          "model_module_version": "1.5.0",
          "state": {
            "_model_module": "@jupyter-widgets/controls",
            "_model_module_version": "1.5.0",
            "_model_name": "ProgressStyleModel",
            "_view_count": null,
            "_view_module": "@jupyter-widgets/base",
            "_view_module_version": "1.2.0",
            "_view_name": "StyleView",
            "bar_color": null,
            "description_width": ""
          }
        },
        "ba4eaddef9aa437ea06e1500f19299b6": {
          "model_module": "@jupyter-widgets/base",
          "model_name": "LayoutModel",
          "model_module_version": "1.2.0",
          "state": {
            "_model_module": "@jupyter-widgets/base",
            "_model_module_version": "1.2.0",
            "_model_name": "LayoutModel",
            "_view_count": null,
            "_view_module": "@jupyter-widgets/base",
            "_view_module_version": "1.2.0",
            "_view_name": "LayoutView",
            "align_content": null,
            "align_items": null,
            "align_self": null,
            "border": null,
            "bottom": null,
            "display": null,
            "flex": null,
            "flex_flow": null,
            "grid_area": null,
            "grid_auto_columns": null,
            "grid_auto_flow": null,
            "grid_auto_rows": null,
            "grid_column": null,
            "grid_gap": null,
            "grid_row": null,
            "grid_template_areas": null,
            "grid_template_columns": null,
            "grid_template_rows": null,
            "height": null,
            "justify_content": null,
            "justify_items": null,
            "left": null,
            "margin": null,
            "max_height": null,
            "max_width": null,
            "min_height": null,
            "min_width": null,
            "object_fit": null,
            "object_position": null,
            "order": null,
            "overflow": null,
            "overflow_x": null,
            "overflow_y": null,
            "padding": null,
            "right": null,
            "top": null,
            "visibility": null,
            "width": null
          }
        },
        "e41c0c8494524c9aa6c0c6a37719c8a4": {
          "model_module": "@jupyter-widgets/controls",
          "model_name": "DescriptionStyleModel",
          "model_module_version": "1.5.0",
          "state": {
            "_model_module": "@jupyter-widgets/controls",
            "_model_module_version": "1.5.0",
            "_model_name": "DescriptionStyleModel",
            "_view_count": null,
            "_view_module": "@jupyter-widgets/base",
            "_view_module_version": "1.2.0",
            "_view_name": "StyleView",
            "description_width": ""
          }
        },
        "6c89ea9d020f4233a85c4da19826099b": {
          "model_module": "@jupyter-widgets/controls",
          "model_name": "HBoxModel",
          "model_module_version": "1.5.0",
          "state": {
            "_dom_classes": [],
            "_model_module": "@jupyter-widgets/controls",
            "_model_module_version": "1.5.0",
            "_model_name": "HBoxModel",
            "_view_count": null,
            "_view_module": "@jupyter-widgets/controls",
            "_view_module_version": "1.5.0",
            "_view_name": "HBoxView",
            "box_style": "",
            "children": [
              "IPY_MODEL_928a443e45794b148efa8ced71594f77",
              "IPY_MODEL_617243e6ec1040898e92714bb44e075b",
              "IPY_MODEL_196a390db03748efbcfc196045530818"
            ],
            "layout": "IPY_MODEL_e00bef46ad2947e69297c3a5f514504a"
          }
        },
        "928a443e45794b148efa8ced71594f77": {
          "model_module": "@jupyter-widgets/controls",
          "model_name": "HTMLModel",
          "model_module_version": "1.5.0",
          "state": {
            "_dom_classes": [],
            "_model_module": "@jupyter-widgets/controls",
            "_model_module_version": "1.5.0",
            "_model_name": "HTMLModel",
            "_view_count": null,
            "_view_module": "@jupyter-widgets/controls",
            "_view_module_version": "1.5.0",
            "_view_name": "HTMLView",
            "description": "",
            "description_tooltip": null,
            "layout": "IPY_MODEL_b098f018bd814b2c95d82ce64dc1649c",
            "placeholder": "​",
            "style": "IPY_MODEL_89a9349150f64e2a90fe84e96b447e0d",
            "value": "Generating test examples...:  91%"
          }
        },
        "617243e6ec1040898e92714bb44e075b": {
          "model_module": "@jupyter-widgets/controls",
          "model_name": "FloatProgressModel",
          "model_module_version": "1.5.0",
          "state": {
            "_dom_classes": [],
            "_model_module": "@jupyter-widgets/controls",
            "_model_module_version": "1.5.0",
            "_model_name": "FloatProgressModel",
            "_view_count": null,
            "_view_module": "@jupyter-widgets/controls",
            "_view_module_version": "1.5.0",
            "_view_name": "ProgressView",
            "bar_style": "",
            "description": "",
            "description_tooltip": null,
            "layout": "IPY_MODEL_d4e866244f304155bed4fa64926849c2",
            "max": 25000,
            "min": 0,
            "orientation": "horizontal",
            "style": "IPY_MODEL_22a4c1f9bf8c4545bb42aec3ba150b41",
            "value": 25000
          }
        },
        "196a390db03748efbcfc196045530818": {
          "model_module": "@jupyter-widgets/controls",
          "model_name": "HTMLModel",
          "model_module_version": "1.5.0",
          "state": {
            "_dom_classes": [],
            "_model_module": "@jupyter-widgets/controls",
            "_model_module_version": "1.5.0",
            "_model_name": "HTMLModel",
            "_view_count": null,
            "_view_module": "@jupyter-widgets/controls",
            "_view_module_version": "1.5.0",
            "_view_name": "HTMLView",
            "description": "",
            "description_tooltip": null,
            "layout": "IPY_MODEL_e8b430b55bda46468d1b16f2cf82aa96",
            "placeholder": "​",
            "style": "IPY_MODEL_10037c4ee929452db972fbfc77033295",
            "value": " 22825/25000 [00:06&lt;00:00, 3278.51 examples/s]"
          }
        },
        "e00bef46ad2947e69297c3a5f514504a": {
          "model_module": "@jupyter-widgets/base",
          "model_name": "LayoutModel",
          "model_module_version": "1.2.0",
          "state": {
            "_model_module": "@jupyter-widgets/base",
            "_model_module_version": "1.2.0",
            "_model_name": "LayoutModel",
            "_view_count": null,
            "_view_module": "@jupyter-widgets/base",
            "_view_module_version": "1.2.0",
            "_view_name": "LayoutView",
            "align_content": null,
            "align_items": null,
            "align_self": null,
            "border": null,
            "bottom": null,
            "display": null,
            "flex": null,
            "flex_flow": null,
            "grid_area": null,
            "grid_auto_columns": null,
            "grid_auto_flow": null,
            "grid_auto_rows": null,
            "grid_column": null,
            "grid_gap": null,
            "grid_row": null,
            "grid_template_areas": null,
            "grid_template_columns": null,
            "grid_template_rows": null,
            "height": null,
            "justify_content": null,
            "justify_items": null,
            "left": null,
            "margin": null,
            "max_height": null,
            "max_width": null,
            "min_height": null,
            "min_width": null,
            "object_fit": null,
            "object_position": null,
            "order": null,
            "overflow": null,
            "overflow_x": null,
            "overflow_y": null,
            "padding": null,
            "right": null,
            "top": null,
            "visibility": "hidden",
            "width": null
          }
        },
        "b098f018bd814b2c95d82ce64dc1649c": {
          "model_module": "@jupyter-widgets/base",
          "model_name": "LayoutModel",
          "model_module_version": "1.2.0",
          "state": {
            "_model_module": "@jupyter-widgets/base",
            "_model_module_version": "1.2.0",
            "_model_name": "LayoutModel",
            "_view_count": null,
            "_view_module": "@jupyter-widgets/base",
            "_view_module_version": "1.2.0",
            "_view_name": "LayoutView",
            "align_content": null,
            "align_items": null,
            "align_self": null,
            "border": null,
            "bottom": null,
            "display": null,
            "flex": null,
            "flex_flow": null,
            "grid_area": null,
            "grid_auto_columns": null,
            "grid_auto_flow": null,
            "grid_auto_rows": null,
            "grid_column": null,
            "grid_gap": null,
            "grid_row": null,
            "grid_template_areas": null,
            "grid_template_columns": null,
            "grid_template_rows": null,
            "height": null,
            "justify_content": null,
            "justify_items": null,
            "left": null,
            "margin": null,
            "max_height": null,
            "max_width": null,
            "min_height": null,
            "min_width": null,
            "object_fit": null,
            "object_position": null,
            "order": null,
            "overflow": null,
            "overflow_x": null,
            "overflow_y": null,
            "padding": null,
            "right": null,
            "top": null,
            "visibility": null,
            "width": null
          }
        },
        "89a9349150f64e2a90fe84e96b447e0d": {
          "model_module": "@jupyter-widgets/controls",
          "model_name": "DescriptionStyleModel",
          "model_module_version": "1.5.0",
          "state": {
            "_model_module": "@jupyter-widgets/controls",
            "_model_module_version": "1.5.0",
            "_model_name": "DescriptionStyleModel",
            "_view_count": null,
            "_view_module": "@jupyter-widgets/base",
            "_view_module_version": "1.2.0",
            "_view_name": "StyleView",
            "description_width": ""
          }
        },
        "d4e866244f304155bed4fa64926849c2": {
          "model_module": "@jupyter-widgets/base",
          "model_name": "LayoutModel",
          "model_module_version": "1.2.0",
          "state": {
            "_model_module": "@jupyter-widgets/base",
            "_model_module_version": "1.2.0",
            "_model_name": "LayoutModel",
            "_view_count": null,
            "_view_module": "@jupyter-widgets/base",
            "_view_module_version": "1.2.0",
            "_view_name": "LayoutView",
            "align_content": null,
            "align_items": null,
            "align_self": null,
            "border": null,
            "bottom": null,
            "display": null,
            "flex": null,
            "flex_flow": null,
            "grid_area": null,
            "grid_auto_columns": null,
            "grid_auto_flow": null,
            "grid_auto_rows": null,
            "grid_column": null,
            "grid_gap": null,
            "grid_row": null,
            "grid_template_areas": null,
            "grid_template_columns": null,
            "grid_template_rows": null,
            "height": null,
            "justify_content": null,
            "justify_items": null,
            "left": null,
            "margin": null,
            "max_height": null,
            "max_width": null,
            "min_height": null,
            "min_width": null,
            "object_fit": null,
            "object_position": null,
            "order": null,
            "overflow": null,
            "overflow_x": null,
            "overflow_y": null,
            "padding": null,
            "right": null,
            "top": null,
            "visibility": null,
            "width": null
          }
        },
        "22a4c1f9bf8c4545bb42aec3ba150b41": {
          "model_module": "@jupyter-widgets/controls",
          "model_name": "ProgressStyleModel",
          "model_module_version": "1.5.0",
          "state": {
            "_model_module": "@jupyter-widgets/controls",
            "_model_module_version": "1.5.0",
            "_model_name": "ProgressStyleModel",
            "_view_count": null,
            "_view_module": "@jupyter-widgets/base",
            "_view_module_version": "1.2.0",
            "_view_name": "StyleView",
            "bar_color": null,
            "description_width": ""
          }
        },
        "e8b430b55bda46468d1b16f2cf82aa96": {
          "model_module": "@jupyter-widgets/base",
          "model_name": "LayoutModel",
          "model_module_version": "1.2.0",
          "state": {
            "_model_module": "@jupyter-widgets/base",
            "_model_module_version": "1.2.0",
            "_model_name": "LayoutModel",
            "_view_count": null,
            "_view_module": "@jupyter-widgets/base",
            "_view_module_version": "1.2.0",
            "_view_name": "LayoutView",
            "align_content": null,
            "align_items": null,
            "align_self": null,
            "border": null,
            "bottom": null,
            "display": null,
            "flex": null,
            "flex_flow": null,
            "grid_area": null,
            "grid_auto_columns": null,
            "grid_auto_flow": null,
            "grid_auto_rows": null,
            "grid_column": null,
            "grid_gap": null,
            "grid_row": null,
            "grid_template_areas": null,
            "grid_template_columns": null,
            "grid_template_rows": null,
            "height": null,
            "justify_content": null,
            "justify_items": null,
            "left": null,
            "margin": null,
            "max_height": null,
            "max_width": null,
            "min_height": null,
            "min_width": null,
            "object_fit": null,
            "object_position": null,
            "order": null,
            "overflow": null,
            "overflow_x": null,
            "overflow_y": null,
            "padding": null,
            "right": null,
            "top": null,
            "visibility": null,
            "width": null
          }
        },
        "10037c4ee929452db972fbfc77033295": {
          "model_module": "@jupyter-widgets/controls",
          "model_name": "DescriptionStyleModel",
          "model_module_version": "1.5.0",
          "state": {
            "_model_module": "@jupyter-widgets/controls",
            "_model_module_version": "1.5.0",
            "_model_name": "DescriptionStyleModel",
            "_view_count": null,
            "_view_module": "@jupyter-widgets/base",
            "_view_module_version": "1.2.0",
            "_view_name": "StyleView",
            "description_width": ""
          }
        },
        "a794f82fbd6f44c7910ec137e8aa8b08": {
          "model_module": "@jupyter-widgets/controls",
          "model_name": "HBoxModel",
          "model_module_version": "1.5.0",
          "state": {
            "_dom_classes": [],
            "_model_module": "@jupyter-widgets/controls",
            "_model_module_version": "1.5.0",
            "_model_name": "HBoxModel",
            "_view_count": null,
            "_view_module": "@jupyter-widgets/controls",
            "_view_module_version": "1.5.0",
            "_view_name": "HBoxView",
            "box_style": "",
            "children": [
              "IPY_MODEL_35b4a1cc4bbf4aefa838f2537c6aee3b",
              "IPY_MODEL_5c87bbdd51be4880b78fd489b3636ef0",
              "IPY_MODEL_d55866fff7634c01bf657a6b5cfd5887"
            ],
            "layout": "IPY_MODEL_c4f0cd2117164f208dfcfe1c0b590693"
          }
        },
        "35b4a1cc4bbf4aefa838f2537c6aee3b": {
          "model_module": "@jupyter-widgets/controls",
          "model_name": "HTMLModel",
          "model_module_version": "1.5.0",
          "state": {
            "_dom_classes": [],
            "_model_module": "@jupyter-widgets/controls",
            "_model_module_version": "1.5.0",
            "_model_name": "HTMLModel",
            "_view_count": null,
            "_view_module": "@jupyter-widgets/controls",
            "_view_module_version": "1.5.0",
            "_view_name": "HTMLView",
            "description": "",
            "description_tooltip": null,
            "layout": "IPY_MODEL_2d9b4c5497ac41229a58ef55e9683506",
            "placeholder": "​",
            "style": "IPY_MODEL_e619b4c1a5ab441ea65e58a44dbfe209",
            "value": "Shuffling data/imdb_reviews/imdb_reviews/plain_text/1.0.0.incompleteZK6SXC/imdb_reviews-test.tfrecord*...:  55%"
          }
        },
        "5c87bbdd51be4880b78fd489b3636ef0": {
          "model_module": "@jupyter-widgets/controls",
          "model_name": "FloatProgressModel",
          "model_module_version": "1.5.0",
          "state": {
            "_dom_classes": [],
            "_model_module": "@jupyter-widgets/controls",
            "_model_module_version": "1.5.0",
            "_model_name": "FloatProgressModel",
            "_view_count": null,
            "_view_module": "@jupyter-widgets/controls",
            "_view_module_version": "1.5.0",
            "_view_name": "ProgressView",
            "bar_style": "",
            "description": "",
            "description_tooltip": null,
            "layout": "IPY_MODEL_2649382c88a74a3fbe9a0d53c2374471",
            "max": 25000,
            "min": 0,
            "orientation": "horizontal",
            "style": "IPY_MODEL_144376d781584d478522771ed96e045f",
            "value": 25000
          }
        },
        "d55866fff7634c01bf657a6b5cfd5887": {
          "model_module": "@jupyter-widgets/controls",
          "model_name": "HTMLModel",
          "model_module_version": "1.5.0",
          "state": {
            "_dom_classes": [],
            "_model_module": "@jupyter-widgets/controls",
            "_model_module_version": "1.5.0",
            "_model_name": "HTMLModel",
            "_view_count": null,
            "_view_module": "@jupyter-widgets/controls",
            "_view_module_version": "1.5.0",
            "_view_name": "HTMLView",
            "description": "",
            "description_tooltip": null,
            "layout": "IPY_MODEL_bc1c024564af452f88ac22a2e78bfc1d",
            "placeholder": "​",
            "style": "IPY_MODEL_fa3159bd9bcd4563a2205f9f59b24839",
            "value": " 13806/25000 [00:00&lt;00:00, 138043.68 examples/s]"
          }
        },
        "c4f0cd2117164f208dfcfe1c0b590693": {
          "model_module": "@jupyter-widgets/base",
          "model_name": "LayoutModel",
          "model_module_version": "1.2.0",
          "state": {
            "_model_module": "@jupyter-widgets/base",
            "_model_module_version": "1.2.0",
            "_model_name": "LayoutModel",
            "_view_count": null,
            "_view_module": "@jupyter-widgets/base",
            "_view_module_version": "1.2.0",
            "_view_name": "LayoutView",
            "align_content": null,
            "align_items": null,
            "align_self": null,
            "border": null,
            "bottom": null,
            "display": null,
            "flex": null,
            "flex_flow": null,
            "grid_area": null,
            "grid_auto_columns": null,
            "grid_auto_flow": null,
            "grid_auto_rows": null,
            "grid_column": null,
            "grid_gap": null,
            "grid_row": null,
            "grid_template_areas": null,
            "grid_template_columns": null,
            "grid_template_rows": null,
            "height": null,
            "justify_content": null,
            "justify_items": null,
            "left": null,
            "margin": null,
            "max_height": null,
            "max_width": null,
            "min_height": null,
            "min_width": null,
            "object_fit": null,
            "object_position": null,
            "order": null,
            "overflow": null,
            "overflow_x": null,
            "overflow_y": null,
            "padding": null,
            "right": null,
            "top": null,
            "visibility": "hidden",
            "width": null
          }
        },
        "2d9b4c5497ac41229a58ef55e9683506": {
          "model_module": "@jupyter-widgets/base",
          "model_name": "LayoutModel",
          "model_module_version": "1.2.0",
          "state": {
            "_model_module": "@jupyter-widgets/base",
            "_model_module_version": "1.2.0",
            "_model_name": "LayoutModel",
            "_view_count": null,
            "_view_module": "@jupyter-widgets/base",
            "_view_module_version": "1.2.0",
            "_view_name": "LayoutView",
            "align_content": null,
            "align_items": null,
            "align_self": null,
            "border": null,
            "bottom": null,
            "display": null,
            "flex": null,
            "flex_flow": null,
            "grid_area": null,
            "grid_auto_columns": null,
            "grid_auto_flow": null,
            "grid_auto_rows": null,
            "grid_column": null,
            "grid_gap": null,
            "grid_row": null,
            "grid_template_areas": null,
            "grid_template_columns": null,
            "grid_template_rows": null,
            "height": null,
            "justify_content": null,
            "justify_items": null,
            "left": null,
            "margin": null,
            "max_height": null,
            "max_width": null,
            "min_height": null,
            "min_width": null,
            "object_fit": null,
            "object_position": null,
            "order": null,
            "overflow": null,
            "overflow_x": null,
            "overflow_y": null,
            "padding": null,
            "right": null,
            "top": null,
            "visibility": null,
            "width": null
          }
        },
        "e619b4c1a5ab441ea65e58a44dbfe209": {
          "model_module": "@jupyter-widgets/controls",
          "model_name": "DescriptionStyleModel",
          "model_module_version": "1.5.0",
          "state": {
            "_model_module": "@jupyter-widgets/controls",
            "_model_module_version": "1.5.0",
            "_model_name": "DescriptionStyleModel",
            "_view_count": null,
            "_view_module": "@jupyter-widgets/base",
            "_view_module_version": "1.2.0",
            "_view_name": "StyleView",
            "description_width": ""
          }
        },
        "2649382c88a74a3fbe9a0d53c2374471": {
          "model_module": "@jupyter-widgets/base",
          "model_name": "LayoutModel",
          "model_module_version": "1.2.0",
          "state": {
            "_model_module": "@jupyter-widgets/base",
            "_model_module_version": "1.2.0",
            "_model_name": "LayoutModel",
            "_view_count": null,
            "_view_module": "@jupyter-widgets/base",
            "_view_module_version": "1.2.0",
            "_view_name": "LayoutView",
            "align_content": null,
            "align_items": null,
            "align_self": null,
            "border": null,
            "bottom": null,
            "display": null,
            "flex": null,
            "flex_flow": null,
            "grid_area": null,
            "grid_auto_columns": null,
            "grid_auto_flow": null,
            "grid_auto_rows": null,
            "grid_column": null,
            "grid_gap": null,
            "grid_row": null,
            "grid_template_areas": null,
            "grid_template_columns": null,
            "grid_template_rows": null,
            "height": null,
            "justify_content": null,
            "justify_items": null,
            "left": null,
            "margin": null,
            "max_height": null,
            "max_width": null,
            "min_height": null,
            "min_width": null,
            "object_fit": null,
            "object_position": null,
            "order": null,
            "overflow": null,
            "overflow_x": null,
            "overflow_y": null,
            "padding": null,
            "right": null,
            "top": null,
            "visibility": null,
            "width": null
          }
        },
        "144376d781584d478522771ed96e045f": {
          "model_module": "@jupyter-widgets/controls",
          "model_name": "ProgressStyleModel",
          "model_module_version": "1.5.0",
          "state": {
            "_model_module": "@jupyter-widgets/controls",
            "_model_module_version": "1.5.0",
            "_model_name": "ProgressStyleModel",
            "_view_count": null,
            "_view_module": "@jupyter-widgets/base",
            "_view_module_version": "1.2.0",
            "_view_name": "StyleView",
            "bar_color": null,
            "description_width": ""
          }
        },
        "bc1c024564af452f88ac22a2e78bfc1d": {
          "model_module": "@jupyter-widgets/base",
          "model_name": "LayoutModel",
          "model_module_version": "1.2.0",
          "state": {
            "_model_module": "@jupyter-widgets/base",
            "_model_module_version": "1.2.0",
            "_model_name": "LayoutModel",
            "_view_count": null,
            "_view_module": "@jupyter-widgets/base",
            "_view_module_version": "1.2.0",
            "_view_name": "LayoutView",
            "align_content": null,
            "align_items": null,
            "align_self": null,
            "border": null,
            "bottom": null,
            "display": null,
            "flex": null,
            "flex_flow": null,
            "grid_area": null,
            "grid_auto_columns": null,
            "grid_auto_flow": null,
            "grid_auto_rows": null,
            "grid_column": null,
            "grid_gap": null,
            "grid_row": null,
            "grid_template_areas": null,
            "grid_template_columns": null,
            "grid_template_rows": null,
            "height": null,
            "justify_content": null,
            "justify_items": null,
            "left": null,
            "margin": null,
            "max_height": null,
            "max_width": null,
            "min_height": null,
            "min_width": null,
            "object_fit": null,
            "object_position": null,
            "order": null,
            "overflow": null,
            "overflow_x": null,
            "overflow_y": null,
            "padding": null,
            "right": null,
            "top": null,
            "visibility": null,
            "width": null
          }
        },
        "fa3159bd9bcd4563a2205f9f59b24839": {
          "model_module": "@jupyter-widgets/controls",
          "model_name": "DescriptionStyleModel",
          "model_module_version": "1.5.0",
          "state": {
            "_model_module": "@jupyter-widgets/controls",
            "_model_module_version": "1.5.0",
            "_model_name": "DescriptionStyleModel",
            "_view_count": null,
            "_view_module": "@jupyter-widgets/base",
            "_view_module_version": "1.2.0",
            "_view_name": "StyleView",
            "description_width": ""
          }
        },
        "716b2b033b524a28a40bbb206c95f63d": {
          "model_module": "@jupyter-widgets/controls",
          "model_name": "HBoxModel",
          "model_module_version": "1.5.0",
          "state": {
            "_dom_classes": [],
            "_model_module": "@jupyter-widgets/controls",
            "_model_module_version": "1.5.0",
            "_model_name": "HBoxModel",
            "_view_count": null,
            "_view_module": "@jupyter-widgets/controls",
            "_view_module_version": "1.5.0",
            "_view_name": "HBoxView",
            "box_style": "",
            "children": [
              "IPY_MODEL_5b2d59b6ff524d8289c62aa686913847",
              "IPY_MODEL_d2c686fed41b4543a2470ea6b3aecdc1",
              "IPY_MODEL_8c5540d7e0644e2fa9dbb8155a7abf05"
            ],
            "layout": "IPY_MODEL_ac6a2d839175473a9a36abd857b10f27"
          }
        },
        "5b2d59b6ff524d8289c62aa686913847": {
          "model_module": "@jupyter-widgets/controls",
          "model_name": "HTMLModel",
          "model_module_version": "1.5.0",
          "state": {
            "_dom_classes": [],
            "_model_module": "@jupyter-widgets/controls",
            "_model_module_version": "1.5.0",
            "_model_name": "HTMLModel",
            "_view_count": null,
            "_view_module": "@jupyter-widgets/controls",
            "_view_module_version": "1.5.0",
            "_view_name": "HTMLView",
            "description": "",
            "description_tooltip": null,
            "layout": "IPY_MODEL_b71c9c3837fb4515b145412d8b67f48d",
            "placeholder": "​",
            "style": "IPY_MODEL_e57125542cf84440b4e05b36eaf5b897",
            "value": "Generating unsupervised examples...:  59%"
          }
        },
        "d2c686fed41b4543a2470ea6b3aecdc1": {
          "model_module": "@jupyter-widgets/controls",
          "model_name": "FloatProgressModel",
          "model_module_version": "1.5.0",
          "state": {
            "_dom_classes": [],
            "_model_module": "@jupyter-widgets/controls",
            "_model_module_version": "1.5.0",
            "_model_name": "FloatProgressModel",
            "_view_count": null,
            "_view_module": "@jupyter-widgets/controls",
            "_view_module_version": "1.5.0",
            "_view_name": "ProgressView",
            "bar_style": "",
            "description": "",
            "description_tooltip": null,
            "layout": "IPY_MODEL_db93788ec3864bfa9a1a5214cea7b216",
            "max": 50000,
            "min": 0,
            "orientation": "horizontal",
            "style": "IPY_MODEL_2357bf0afeed4857abb2a6aee489107d",
            "value": 29338
          }
        },
        "8c5540d7e0644e2fa9dbb8155a7abf05": {
          "model_module": "@jupyter-widgets/controls",
          "model_name": "HTMLModel",
          "model_module_version": "1.5.0",
          "state": {
            "_dom_classes": [],
            "_model_module": "@jupyter-widgets/controls",
            "_model_module_version": "1.5.0",
            "_model_name": "HTMLModel",
            "_view_count": null,
            "_view_module": "@jupyter-widgets/controls",
            "_view_module_version": "1.5.0",
            "_view_name": "HTMLView",
            "description": "",
            "description_tooltip": null,
            "layout": "IPY_MODEL_a71d2198dac54a379dd9c94ae2701a68",
            "placeholder": "​",
            "style": "IPY_MODEL_dfa1a82fd0204f67b4492ed490c933f0",
            "value": " 29338/50000 [00:09&lt;00:04, 4417.82 examples/s]"
          }
        },
        "ac6a2d839175473a9a36abd857b10f27": {
          "model_module": "@jupyter-widgets/base",
          "model_name": "LayoutModel",
          "model_module_version": "1.2.0",
          "state": {
            "_model_module": "@jupyter-widgets/base",
            "_model_module_version": "1.2.0",
            "_model_name": "LayoutModel",
            "_view_count": null,
            "_view_module": "@jupyter-widgets/base",
            "_view_module_version": "1.2.0",
            "_view_name": "LayoutView",
            "align_content": null,
            "align_items": null,
            "align_self": null,
            "border": null,
            "bottom": null,
            "display": null,
            "flex": null,
            "flex_flow": null,
            "grid_area": null,
            "grid_auto_columns": null,
            "grid_auto_flow": null,
            "grid_auto_rows": null,
            "grid_column": null,
            "grid_gap": null,
            "grid_row": null,
            "grid_template_areas": null,
            "grid_template_columns": null,
            "grid_template_rows": null,
            "height": null,
            "justify_content": null,
            "justify_items": null,
            "left": null,
            "margin": null,
            "max_height": null,
            "max_width": null,
            "min_height": null,
            "min_width": null,
            "object_fit": null,
            "object_position": null,
            "order": null,
            "overflow": null,
            "overflow_x": null,
            "overflow_y": null,
            "padding": null,
            "right": null,
            "top": null,
            "visibility": null,
            "width": null
          }
        },
        "b71c9c3837fb4515b145412d8b67f48d": {
          "model_module": "@jupyter-widgets/base",
          "model_name": "LayoutModel",
          "model_module_version": "1.2.0",
          "state": {
            "_model_module": "@jupyter-widgets/base",
            "_model_module_version": "1.2.0",
            "_model_name": "LayoutModel",
            "_view_count": null,
            "_view_module": "@jupyter-widgets/base",
            "_view_module_version": "1.2.0",
            "_view_name": "LayoutView",
            "align_content": null,
            "align_items": null,
            "align_self": null,
            "border": null,
            "bottom": null,
            "display": null,
            "flex": null,
            "flex_flow": null,
            "grid_area": null,
            "grid_auto_columns": null,
            "grid_auto_flow": null,
            "grid_auto_rows": null,
            "grid_column": null,
            "grid_gap": null,
            "grid_row": null,
            "grid_template_areas": null,
            "grid_template_columns": null,
            "grid_template_rows": null,
            "height": null,
            "justify_content": null,
            "justify_items": null,
            "left": null,
            "margin": null,
            "max_height": null,
            "max_width": null,
            "min_height": null,
            "min_width": null,
            "object_fit": null,
            "object_position": null,
            "order": null,
            "overflow": null,
            "overflow_x": null,
            "overflow_y": null,
            "padding": null,
            "right": null,
            "top": null,
            "visibility": null,
            "width": null
          }
        },
        "e57125542cf84440b4e05b36eaf5b897": {
          "model_module": "@jupyter-widgets/controls",
          "model_name": "DescriptionStyleModel",
          "model_module_version": "1.5.0",
          "state": {
            "_model_module": "@jupyter-widgets/controls",
            "_model_module_version": "1.5.0",
            "_model_name": "DescriptionStyleModel",
            "_view_count": null,
            "_view_module": "@jupyter-widgets/base",
            "_view_module_version": "1.2.0",
            "_view_name": "StyleView",
            "description_width": ""
          }
        },
        "db93788ec3864bfa9a1a5214cea7b216": {
          "model_module": "@jupyter-widgets/base",
          "model_name": "LayoutModel",
          "model_module_version": "1.2.0",
          "state": {
            "_model_module": "@jupyter-widgets/base",
            "_model_module_version": "1.2.0",
            "_model_name": "LayoutModel",
            "_view_count": null,
            "_view_module": "@jupyter-widgets/base",
            "_view_module_version": "1.2.0",
            "_view_name": "LayoutView",
            "align_content": null,
            "align_items": null,
            "align_self": null,
            "border": null,
            "bottom": null,
            "display": null,
            "flex": null,
            "flex_flow": null,
            "grid_area": null,
            "grid_auto_columns": null,
            "grid_auto_flow": null,
            "grid_auto_rows": null,
            "grid_column": null,
            "grid_gap": null,
            "grid_row": null,
            "grid_template_areas": null,
            "grid_template_columns": null,
            "grid_template_rows": null,
            "height": null,
            "justify_content": null,
            "justify_items": null,
            "left": null,
            "margin": null,
            "max_height": null,
            "max_width": null,
            "min_height": null,
            "min_width": null,
            "object_fit": null,
            "object_position": null,
            "order": null,
            "overflow": null,
            "overflow_x": null,
            "overflow_y": null,
            "padding": null,
            "right": null,
            "top": null,
            "visibility": null,
            "width": null
          }
        },
        "2357bf0afeed4857abb2a6aee489107d": {
          "model_module": "@jupyter-widgets/controls",
          "model_name": "ProgressStyleModel",
          "model_module_version": "1.5.0",
          "state": {
            "_model_module": "@jupyter-widgets/controls",
            "_model_module_version": "1.5.0",
            "_model_name": "ProgressStyleModel",
            "_view_count": null,
            "_view_module": "@jupyter-widgets/base",
            "_view_module_version": "1.2.0",
            "_view_name": "StyleView",
            "bar_color": null,
            "description_width": ""
          }
        },
        "a71d2198dac54a379dd9c94ae2701a68": {
          "model_module": "@jupyter-widgets/base",
          "model_name": "LayoutModel",
          "model_module_version": "1.2.0",
          "state": {
            "_model_module": "@jupyter-widgets/base",
            "_model_module_version": "1.2.0",
            "_model_name": "LayoutModel",
            "_view_count": null,
            "_view_module": "@jupyter-widgets/base",
            "_view_module_version": "1.2.0",
            "_view_name": "LayoutView",
            "align_content": null,
            "align_items": null,
            "align_self": null,
            "border": null,
            "bottom": null,
            "display": null,
            "flex": null,
            "flex_flow": null,
            "grid_area": null,
            "grid_auto_columns": null,
            "grid_auto_flow": null,
            "grid_auto_rows": null,
            "grid_column": null,
            "grid_gap": null,
            "grid_row": null,
            "grid_template_areas": null,
            "grid_template_columns": null,
            "grid_template_rows": null,
            "height": null,
            "justify_content": null,
            "justify_items": null,
            "left": null,
            "margin": null,
            "max_height": null,
            "max_width": null,
            "min_height": null,
            "min_width": null,
            "object_fit": null,
            "object_position": null,
            "order": null,
            "overflow": null,
            "overflow_x": null,
            "overflow_y": null,
            "padding": null,
            "right": null,
            "top": null,
            "visibility": null,
            "width": null
          }
        },
        "dfa1a82fd0204f67b4492ed490c933f0": {
          "model_module": "@jupyter-widgets/controls",
          "model_name": "DescriptionStyleModel",
          "model_module_version": "1.5.0",
          "state": {
            "_model_module": "@jupyter-widgets/controls",
            "_model_module_version": "1.5.0",
            "_model_name": "DescriptionStyleModel",
            "_view_count": null,
            "_view_module": "@jupyter-widgets/base",
            "_view_module_version": "1.2.0",
            "_view_name": "StyleView",
            "description_width": ""
          }
        }
      }
    }
  },
  "nbformat": 4,
  "nbformat_minor": 5
}
