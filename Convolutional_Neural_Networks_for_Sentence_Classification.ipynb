{
  "cells": [
    {
      "cell_type": "markdown",
      "metadata": {
        "id": "view-in-github",
        "colab_type": "text"
      },
      "source": [
        "<a href=\"https://colab.research.google.com/github/FAtheme/ML-Fall2023/blob/main/Convolutional_Neural_Networks_for_Sentence_Classification.ipynb\" target=\"_parent\"><img src=\"https://colab.research.google.com/assets/colab-badge.svg\" alt=\"Open In Colab\"/></a>"
      ]
    },
    {
      "cell_type": "markdown",
      "id": "dd7c0e96",
      "metadata": {
        "id": "dd7c0e96"
      },
      "source": [
        "### Parameter"
      ]
    },
    {
      "cell_type": "code",
      "execution_count": null,
      "id": "f389b75b",
      "metadata": {
        "id": "f389b75b"
      },
      "outputs": [],
      "source": [
        "# Dataset\n",
        "DATASET = \"yelp_polarity_reviews\" # datasets: \"imdb_reviews\", \"yelp_polarity_reviews\"\n",
        "\n",
        "# WORD-level\n",
        "MAX_NUM_WORDS  = 15000\n",
        "EMBEDDING_DIM  = 300\n",
        "MAX_SEQ_LENGTH = 200\n",
        "USE_GLOVE      = True\n",
        "KERNEL_SIZES   = [3,4,5]\n",
        "FEATURE_MAPS   = [200,200,200]\n",
        "\n",
        "# CHAR-level\n",
        "USE_CHAR           = False\n",
        "ALPHABET           = \" abcdefghijklmnopqrstuvwxyz0123456789-,;.!?:'\\\"/\\\\|_@#$%^&*~`+-=<>()[]{}\"\n",
        "ALPHABET_SIZE      = len(ALPHABET)\n",
        "CHAR_EMBEDDING_DIM = 300\n",
        "CHAR_MAX_LENGTH    = 2500\n",
        "CHAR_KERNEL_SIZES  = [5,10,20]\n",
        "CHAR_FEATURE_MAPS  = [200,200,200]\n",
        "\n",
        "# GENERAL\n",
        "DROPOUT_RATE = 0.5\n",
        "HIDDEN_UNITS = 250\n",
        "NB_CLASSES   = 2\n",
        "\n",
        "# LEARNING\n",
        "BATCH_SIZE = 100\n",
        "NB_EPOCHS  = 10\n",
        "RUNS       = 1\n",
        "VAL_SIZE   = 0.2"
      ]
    },
    {
      "cell_type": "code",
      "source": [
        "from google.colab import drive\n",
        "drive.mount('/content/drive')"
      ],
      "metadata": {
        "colab": {
          "base_uri": "https://localhost:8080/"
        },
        "id": "GG9aALDUGmrQ",
        "outputId": "f0136203-562c-44e2-bedf-8905b7c6f8bc"
      },
      "id": "GG9aALDUGmrQ",
      "execution_count": null,
      "outputs": [
        {
          "output_type": "stream",
          "name": "stdout",
          "text": [
            "Mounted at /content/drive\n"
          ]
        }
      ]
    },
    {
      "cell_type": "code",
      "source": [
        "!cp /content/drive/MyDrive/cnn-text-classification-master/utils.py .\n",
        "!cp /content/drive/MyDrive/cnn-text-classification-master/cnn_model.py ."
      ],
      "metadata": {
        "id": "r3b88r1CHNIZ"
      },
      "id": "r3b88r1CHNIZ",
      "execution_count": null,
      "outputs": []
    },
    {
      "cell_type": "markdown",
      "id": "ae5dbfd2",
      "metadata": {
        "id": "ae5dbfd2"
      },
      "source": [
        "### Load and preprocess data"
      ]
    },
    {
      "cell_type": "code",
      "execution_count": null,
      "id": "0e254d0b",
      "metadata": {
        "scrolled": false,
        "colab": {
          "base_uri": "https://localhost:8080/",
          "height": 184,
          "referenced_widgets": [
            "53cec4ec5bd348dba39380781438978e",
            "15c67e1fd5e24427b9a473cb24f1cb7d",
            "cee4baea71954c8c95c2e798c1acda9e",
            "c690bf46d67040f3ba26b670504a1987",
            "d49cce0e73fb423b8ceb0d6661da21a7",
            "8f3db6f2dfe6463b9d8e71370ebfdfa3",
            "2447652e82474c3199d9a4cbb7d2bbe2",
            "bc42501fb335473f9c3e8e8b642a8a0f",
            "0ca2f1f82c2e495898e52aaf7020d578",
            "738cd6da272b4d5ea0921defd061c3c5",
            "53c25eec132744abbd40ad0435ec3c57",
            "4567d7f517e34bd8b293afcfb9ed047f",
            "0a3f10b65429423bba28880ed51616d3",
            "08196a9401e8410890531c1d50f0375e",
            "5506a1663ac244f7b32210ef6d8f912e",
            "d3ec714e784b4f589808a85de8b6c9d7",
            "d7215374959c44459391831f21198179",
            "4e54e7bf87cb42eaafa1ec77c6afb42b",
            "90c75e97bbad415889aa27126a377660",
            "3a3a8684552046368f9a92d1e1fbea43",
            "92e6a7c5950a4a12bc484aadb70cd9f2",
            "658cdd54146e4ed7bf8632cc2e8480ce",
            "e7ef3bf2628b43659779103cae6d8d92",
            "0087bd5ba4a04a3e9ab331015cf0a52f",
            "3562a0977f374603bbdc3e9f663dc1c7",
            "89841ea8527545239a26818831111a60",
            "e95d54682b1245d19cae666ed2945596",
            "94f767e95a91405f9b6e6ccbadbd3e2e",
            "1855f8e371674efda30dbf368972dc83",
            "d6ca4ded06164faea4e120659d2964ad",
            "86fdacd1f9244a6d8fd15e62482eec3a",
            "112de006a682483f94f4069dd247e162",
            "a0f3272e73e348ff89a6b890edc62558",
            "3130346ad8f84229a3f3d89425b64ad6",
            "2f9105d84ac940faad798c7e5ef39123",
            "f15190da988c4831bb2244cc171c89af",
            "bdcae3fa85ad4dd5989c86fc0559ccb9",
            "3e7ce8bf73434cb98d4f0ef3381f104b",
            "7281331abb894903ba6132a1eb118b5a",
            "83f42edd4771465fba23debf57b27724",
            "c457de16c5944003b54625f504e89f9b",
            "1af8e3f582d94c38b9aa6fc377a98d25",
            "bc56c9563049421cb259722fdb3a966b",
            "3baecd03fe1d41bdbfb36a4dd4e36412",
            "52792ecff1784fea943bff13ca9ddeca",
            "9e1ba06f824a4d8abd211af1ff930858",
            "69930221ed5c4cc38ad61f267d5a1bf5",
            "64781d68cf1b4b4fa864b1be65c94b84",
            "54664670704d444fb3498c3b633d2f22",
            "ea2d1ff12a9d4663a3b4f4b2cc141dd3",
            "556d4d18844f4b999a8f2f9764674f42",
            "644a2617c8e94f4489a8618d170a30a4",
            "c2ae3aa3d06d47a188bba655d5903a1a",
            "b8e126a5b45b4ea0bd495d49558f6b7d",
            "358332c0f0fc40c18dab817aa275c1b9",
            "b0cabb22536b4a749bd1e93b6362c742",
            "dad6c60ea0ec47e7aeedeb70ea39e7a0",
            "bafdaf2dcff4440fbf2db6d9e29b3036",
            "a22b7425a61349469ed8ab901b16d10a",
            "5656585bcea14391adec0ee8abc149cb",
            "64961fc9323a41dc9902bcd635520917",
            "5e3542ff2f904826a3080880037db9dc",
            "dfaf22a9810e4669b8c7665b10b53b6a",
            "d652295657934defabad3bc3cf34333b",
            "36cdbfbd629947a0b0a931e7c337dd1e",
            "03e8345baa9d4971bf2eaeedc0c2c542",
            "5350a8611ecf4db7bd1e988525785d4a",
            "a176d7e761af42d28a70c4484432f58f",
            "a0a23c860e3d41e49e9c708ce404289d",
            "b91b238c05994fb48c7737e9809d377b",
            "d78cdaaf6dc04c77860b340fdd1fe79b",
            "bc1eae6abbce48c8990c54e2d62ccbb2",
            "40d3905ad5494536b9be1b7e88645da4",
            "3993939b04d24d0ea7562aa8f2e06b69",
            "1e685fcc5b9948f4b92c5dca0a1aa182",
            "62d7bb7df7b2405dbb66dbdd594e497c",
            "1ffd3f915506448eba0fd1472a42f7d4",
            "cfcc91c8e2ba43bf94a7923eb3772d41",
            "17f13b213e224d19825a1d679c350b1e",
            "ba9083d828ae4fe48d8b93e3b57ba3b7",
            "50640f09e8f0434b9bc045a40b59cd69",
            "aefb7f7367cc4695b5082e63c5783ed7",
            "2ec5c0ed74174581813fdb181feb06d1",
            "d1f8f8a2509d47809979714dfb5477a6",
            "939c07202f7c46aca089d66aed138f34",
            "99349f9715d946cb8e3dda8c4babc03b",
            "254416a22a70447d846969240327bba4",
            "6e44059dd2764d25a7a05c1a368ff595"
          ]
        },
        "id": "0e254d0b",
        "outputId": "8a2be4ef-44ec-408e-eeeb-06ef92ec6836"
      },
      "outputs": [
        {
          "output_type": "stream",
          "name": "stdout",
          "text": [
            "Downloading and preparing dataset 158.67 MiB (download: 158.67 MiB, generated: 435.14 MiB, total: 593.80 MiB) to data/yelp_polarity_reviews/yelp_polarity_reviews/0.2.0...\n"
          ]
        },
        {
          "output_type": "display_data",
          "data": {
            "text/plain": [
              "Dl Completed...: 0 url [00:00, ? url/s]"
            ],
            "application/vnd.jupyter.widget-view+json": {
              "version_major": 2,
              "version_minor": 0,
              "model_id": "53cec4ec5bd348dba39380781438978e"
            }
          },
          "metadata": {}
        },
        {
          "output_type": "display_data",
          "data": {
            "text/plain": [
              "Dl Size...: 0 MiB [00:00, ? MiB/s]"
            ],
            "application/vnd.jupyter.widget-view+json": {
              "version_major": 2,
              "version_minor": 0,
              "model_id": "4567d7f517e34bd8b293afcfb9ed047f"
            }
          },
          "metadata": {}
        },
        {
          "output_type": "display_data",
          "data": {
            "text/plain": [
              "Extraction completed...: 0 file [00:00, ? file/s]"
            ],
            "application/vnd.jupyter.widget-view+json": {
              "version_major": 2,
              "version_minor": 0,
              "model_id": "e7ef3bf2628b43659779103cae6d8d92"
            }
          },
          "metadata": {}
        },
        {
          "output_type": "display_data",
          "data": {
            "text/plain": [
              "Generating splits...:   0%|          | 0/2 [00:00<?, ? splits/s]"
            ],
            "application/vnd.jupyter.widget-view+json": {
              "version_major": 2,
              "version_minor": 0,
              "model_id": "3130346ad8f84229a3f3d89425b64ad6"
            }
          },
          "metadata": {}
        },
        {
          "output_type": "display_data",
          "data": {
            "text/plain": [
              "Generating train examples...:   0%|          | 0/560000 [00:00<?, ? examples/s]"
            ],
            "application/vnd.jupyter.widget-view+json": {
              "version_major": 2,
              "version_minor": 0,
              "model_id": "52792ecff1784fea943bff13ca9ddeca"
            }
          },
          "metadata": {}
        },
        {
          "output_type": "display_data",
          "data": {
            "text/plain": [
              "Shuffling data/yelp_polarity_reviews/yelp_polarity_reviews/0.2.0.incompleteWSV8ZD/yelp_polarity_reviews-train.…"
            ],
            "application/vnd.jupyter.widget-view+json": {
              "version_major": 2,
              "version_minor": 0,
              "model_id": "b0cabb22536b4a749bd1e93b6362c742"
            }
          },
          "metadata": {}
        },
        {
          "output_type": "display_data",
          "data": {
            "text/plain": [
              "Generating test examples...:   0%|          | 0/38000 [00:00<?, ? examples/s]"
            ],
            "application/vnd.jupyter.widget-view+json": {
              "version_major": 2,
              "version_minor": 0,
              "model_id": "5350a8611ecf4db7bd1e988525785d4a"
            }
          },
          "metadata": {}
        },
        {
          "output_type": "display_data",
          "data": {
            "text/plain": [
              "Shuffling data/yelp_polarity_reviews/yelp_polarity_reviews/0.2.0.incompleteWSV8ZD/yelp_polarity_reviews-test.t…"
            ],
            "application/vnd.jupyter.widget-view+json": {
              "version_major": 2,
              "version_minor": 0,
              "model_id": "cfcc91c8e2ba43bf94a7923eb3772d41"
            }
          },
          "metadata": {}
        },
        {
          "output_type": "stream",
          "name": "stdout",
          "text": [
            "Dataset yelp_polarity_reviews downloaded and prepared to data/yelp_polarity_reviews/yelp_polarity_reviews/0.2.0. Subsequent calls will reuse this data.\n",
            "Train samples: 560000\n",
            "Test samples:  38000\n"
          ]
        }
      ],
      "source": [
        "import tensorflow_datasets as tfds\n",
        "from utils import clean_doc\n",
        "\n",
        "# Load train dataset\n",
        "train = tfds.as_numpy(tfds.load(DATASET, data_dir=f\"data/{DATASET}\", split=\"train\", batch_size=-1))\n",
        "X_train, y_train = [clean_doc(x.decode()) for x in train[\"text\"]], train[\"label\"]\n",
        "\n",
        "# Load test dataset\n",
        "test = tfds.as_numpy(tfds.load(DATASET, data_dir=f\"data/{DATASET}\", split=\"test\", batch_size=-1))\n",
        "X_test, y_test = [clean_doc(x.decode()) for x in test[\"text\"]], test[\"label\"]\n",
        "\n",
        "print(f\"Train samples: {len(X_train)}\")\n",
        "print(f\"Test samples:  {len(X_test)}\")"
      ]
    },
    {
      "cell_type": "markdown",
      "id": "3e0e16a8",
      "metadata": {
        "id": "3e0e16a8"
      },
      "source": [
        "### Preprocessing for word-based model"
      ]
    },
    {
      "cell_type": "code",
      "execution_count": null,
      "id": "a7eec419",
      "metadata": {
        "id": "a7eec419",
        "colab": {
          "base_uri": "https://localhost:8080/",
          "height": 552
        },
        "outputId": "8d2fcbe9-0359-4ac8-a6ae-7503ede21413"
      },
      "outputs": [
        {
          "output_type": "stream",
          "name": "stderr",
          "text": [
            "<ipython-input-5-277f602d6ccd>:4: MatplotlibDeprecationWarning: The seaborn styles shipped by Matplotlib are deprecated since 3.6, as they no longer correspond to the styles shipped by seaborn. However, they will remain available as 'seaborn-v0_8-<style>'. Alternatively, directly use the seaborn API instead.\n",
            "  plt.style.use('seaborn')\n"
          ]
        },
        {
          "output_type": "display_data",
          "data": {
            "text/plain": [
              "<Figure size 2000x500 with 1 Axes>"
            ],
            "image/png": "[encoded data removed]"
          },
          "metadata": {}
        },
        {
          "output_type": "stream",
          "name": "stdout",
          "text": [
            "Text informations:\n",
            " - max length:   1052\n",
            " - min length:   1\n",
            " - mean length:  133.0288732142857\n",
            " - limit length: 200\n"
          ]
        }
      ],
      "source": [
        "import numpy as np\n",
        "import matplotlib.pyplot as plt\n",
        "import tensorflow as tf\n",
        "plt.style.use('seaborn')\n",
        "\n",
        "tokenizer = tf.keras.preprocessing.text.Tokenizer(num_words=MAX_NUM_WORDS)\n",
        "tokenizer.fit_on_texts(X_train)\n",
        "\n",
        "sequences  = tokenizer.texts_to_sequences(X_train)\n",
        "word_index = tokenizer.word_index\n",
        "result     = [len(x.split()) for x in X_train]\n",
        "\n",
        "# Plot histogram\n",
        "plt.figure(figsize=(20,5))\n",
        "plt.title(\"Document length\")\n",
        "plt.hist(result, 200, density=False, range=(0,np.max(result)))\n",
        "plt.show()\n",
        "\n",
        "print(\"Text informations:\")\n",
        "print(f\" - max length:   {np.max(result)}\")\n",
        "print(f\" - min length:   {np.min(result)}\")\n",
        "print(f\" - mean length:  {np.mean(result)}\")\n",
        "print(f\" - limit length: {MAX_SEQ_LENGTH}\")\n",
        "\n",
        "# Padding all sequences to same length of `MAX_SEQ_LENGTH`\n",
        "word_data = tf.keras.preprocessing.sequence.pad_sequences(\n",
        "    sequences,\n",
        "    maxlen  = MAX_SEQ_LENGTH,\n",
        "    padding = 'post'\n",
        ")"
      ]
    },
    {
      "cell_type": "markdown",
      "id": "e9a1ed42",
      "metadata": {
        "id": "e9a1ed42"
      },
      "source": [
        "### Preprocessing for char-based model"
      ]
    },
    {
      "cell_type": "code",
      "execution_count": null,
      "id": "cd117bb3",
      "metadata": {
        "id": "cd117bb3"
      },
      "outputs": [],
      "source": [
        "from utils import char_vectorizer\n",
        "\n",
        "if USE_CHAR:\n",
        "    char2idx_dict = {}\n",
        "    idx2char_dict = {}\n",
        "\n",
        "    for idx, char in enumerate(ALPHABET):\n",
        "        char2idx_dict[char] = idx + 1\n",
        "\n",
        "    idx2char_dict = dict([(i+1, char) for i, char in enumerate(char2idx_dict)])\n",
        "\n",
        "    # Get informations about char sequence length\n",
        "    result = [len(x) for x in X_train]\n",
        "    plt.figure(figsize=(20,5))\n",
        "    plt.title(\"Char length\")\n",
        "    plt.hist(result, 200, density=False, range=(0,np.max(result)))\n",
        "    plt.show()\n",
        "\n",
        "    print(\"Text informations:\")\n",
        "    print(f\" - max:   {np.max(result)}\")\n",
        "    print(f\" - min:   {np.min(result)}\")\n",
        "    print(f\" - mean:  {np.mean(result)}\")\n",
        "    print(f\" - limit: {CHAR_MAX_LENGTH}\")\n",
        "\n",
        "    char_data = char_vectorizer(X_train, CHAR_MAX_LENGTH, char2idx_dict)"
      ]
    },
    {
      "cell_type": "markdown",
      "id": "f15ddbc0",
      "metadata": {
        "id": "f15ddbc0"
      },
      "source": [
        "### Training"
      ]
    },
    {
      "cell_type": "code",
      "execution_count": null,
      "id": "8030cf9b",
      "metadata": {
        "scrolled": false,
        "id": "8030cf9b",
        "colab": {
          "base_uri": "https://localhost:8080/"
        },
        "outputId": "712878d8-4cbf-477a-8623-ab280a0a8d17"
      },
      "outputs": [
        {
          "output_type": "stream",
          "name": "stdout",
          "text": [
            "Running iteration 1/1\n",
            "Pretrained GloVe embedding is loading...\n",
            "No previous embeddings found. Will be download required files...\n",
            "Download of GloVe embeddings finished.\n",
            "Found 400000 word vectors in GloVe embedding\n",
            "\n",
            "Epoch 1/10\n",
            "4480/4480 [==============================] - ETA: 0s - loss: 0.1871 - accuracy: 0.9243\n",
            "Epoch 1: val_loss improved from inf to 0.13129, saving model to model-1.h5\n",
            "4480/4480 [==============================] - 371s 81ms/step - loss: 0.1871 - accuracy: 0.9243 - val_loss: 0.1313 - val_accuracy: 0.9496\n",
            "Epoch 2/10\n"
          ]
        },
        {
          "output_type": "stream",
          "name": "stderr",
          "text": [
            "/usr/local/lib/python3.10/dist-packages/keras/src/engine/training.py:3103: UserWarning: You are saving your model as an HDF5 file via `model.save()`. This file format is considered legacy. We recommend using instead the native Keras format, e.g. `model.save('my_model.keras')`.\n",
            "  saving_api.save_model(\n"
          ]
        },
        {
          "output_type": "stream",
          "name": "stdout",
          "text": [
            "4480/4480 [==============================] - ETA: 0s - loss: 0.1330 - accuracy: 0.9492\n",
            "Epoch 2: val_loss improved from 0.13129 to 0.12438, saving model to model-1.h5\n",
            "4480/4480 [==============================] - 296s 66ms/step - loss: 0.1330 - accuracy: 0.9492 - val_loss: 0.1244 - val_accuracy: 0.9529\n",
            "Epoch 3/10\n",
            "4480/4480 [==============================] - ETA: 0s - loss: 0.1177 - accuracy: 0.9556\n",
            "Epoch 3: val_loss improved from 0.12438 to 0.11798, saving model to model-1.h5\n",
            "4480/4480 [==============================] - 293s 65ms/step - loss: 0.1177 - accuracy: 0.9556 - val_loss: 0.1180 - val_accuracy: 0.9552\n",
            "Epoch 4/10\n",
            "4480/4480 [==============================] - ETA: 0s - loss: 0.1061 - accuracy: 0.9602\n",
            "Epoch 4: val_loss did not improve from 0.11798\n",
            "4480/4480 [==============================] - 295s 66ms/step - loss: 0.1061 - accuracy: 0.9602 - val_loss: 0.1309 - val_accuracy: 0.9542\n",
            "Epoch 5/10\n",
            "4480/4480 [==============================] - ETA: 0s - loss: 0.0972 - accuracy: 0.9640\n",
            "Epoch 5: val_loss improved from 0.11798 to 0.11673, saving model to model-1.h5\n",
            "4480/4480 [==============================] - 292s 65ms/step - loss: 0.0972 - accuracy: 0.9640 - val_loss: 0.1167 - val_accuracy: 0.9568\n",
            "Epoch 6/10\n",
            "4480/4480 [==============================] - ETA: 0s - loss: 0.0888 - accuracy: 0.9672\n",
            "Epoch 6: val_loss did not improve from 0.11673\n",
            "4480/4480 [==============================] - 293s 65ms/step - loss: 0.0888 - accuracy: 0.9672 - val_loss: 0.1180 - val_accuracy: 0.9564\n",
            "Epoch 7/10\n",
            "4480/4480 [==============================] - ETA: 0s - loss: 0.0808 - accuracy: 0.9703\n",
            "Epoch 7: val_loss did not improve from 0.11673\n",
            "4480/4480 [==============================] - 289s 65ms/step - loss: 0.0808 - accuracy: 0.9703 - val_loss: 0.1278 - val_accuracy: 0.9551\n",
            "Epoch 8/10\n",
            "4480/4480 [==============================] - ETA: 0s - loss: 0.0743 - accuracy: 0.9726\n",
            "Epoch 8: val_loss did not improve from 0.11673\n",
            "4480/4480 [==============================] - 293s 65ms/step - loss: 0.0743 - accuracy: 0.9726 - val_loss: 0.1336 - val_accuracy: 0.9566\n",
            "Epoch 9/10\n",
            "4480/4480 [==============================] - ETA: 0s - loss: 0.0687 - accuracy: 0.9748\n",
            "Epoch 9: val_loss did not improve from 0.11673\n",
            "4480/4480 [==============================] - 289s 64ms/step - loss: 0.0687 - accuracy: 0.9748 - val_loss: 0.1254 - val_accuracy: 0.9562\n",
            "Epoch 10/10\n",
            "4480/4480 [==============================] - ETA: 0s - loss: 0.0631 - accuracy: 0.9768\n",
            "Epoch 10: val_loss did not improve from 0.11673\n",
            "4480/4480 [==============================] - 289s 64ms/step - loss: 0.0631 - accuracy: 0.9768 - val_loss: 0.1428 - val_accuracy: 0.9565\n"
          ]
        }
      ],
      "source": [
        "from cnn_model import CNN\n",
        "from sklearn.model_selection import train_test_split\n",
        "from utils import create_glove_embeddings\n",
        "\n",
        "histories = []\n",
        "\n",
        "for i in range(RUNS):\n",
        "    print(f\"Running iteration {i+1}/{RUNS}\")\n",
        "    random_state = np.random.randint(1000)\n",
        "\n",
        "    _X_train, _X_val, _y_train, _y_val = train_test_split(\n",
        "        word_data,\n",
        "        tf.keras.utils.to_categorical(y_train),\n",
        "        test_size    = VAL_SIZE,\n",
        "        random_state = random_state\n",
        "    )\n",
        "\n",
        "    if USE_CHAR:\n",
        "        _X_train_c, _X_val_c, _, _ = train_test_split(\n",
        "            char_data,\n",
        "            tf.keras.utils.to_categorical(y_train),\n",
        "            test_size    = VAL_SIZE,\n",
        "            random_state = random_state\n",
        "        )\n",
        "\n",
        "        _X_train = [_X_train, _X_train_c]\n",
        "        _X_val   = [_X_val,   _X_val_c]\n",
        "\n",
        "\n",
        "    emb_layer = None\n",
        "    if USE_GLOVE:\n",
        "        emb_layer = create_glove_embeddings(\n",
        "            embedding_dim  = EMBEDDING_DIM,\n",
        "            max_num_words  = MAX_NUM_WORDS,\n",
        "            max_seq_length = MAX_SEQ_LENGTH,\n",
        "            tokenizer      = tokenizer\n",
        "        )\n",
        "\n",
        "    model = CNN(\n",
        "        embedding_layer    = emb_layer,\n",
        "        num_words          = MAX_NUM_WORDS,\n",
        "        embedding_dim      = EMBEDDING_DIM,\n",
        "        kernel_sizes       = KERNEL_SIZES,\n",
        "        feature_maps       = FEATURE_MAPS,\n",
        "        max_seq_length     = MAX_SEQ_LENGTH,\n",
        "        use_char           = USE_CHAR,\n",
        "        char_embedding_dim = CHAR_EMBEDDING_DIM,\n",
        "        char_max_length    = CHAR_MAX_LENGTH,\n",
        "        alphabet_size      = ALPHABET_SIZE,\n",
        "        char_kernel_sizes  = CHAR_KERNEL_SIZES,\n",
        "        char_feature_maps  = CHAR_FEATURE_MAPS,\n",
        "        dropout_rate       = DROPOUT_RATE,\n",
        "        hidden_units       = HIDDEN_UNITS,\n",
        "        nb_classes         = NB_CLASSES\n",
        "    ).build_model()\n",
        "\n",
        "    model.compile(\n",
        "        loss      = \"categorical_crossentropy\",\n",
        "        optimizer = tf.optimizers.Adam(),\n",
        "        metrics   = [\"accuracy\"]\n",
        "    )\n",
        "\n",
        "    history = model.fit(\n",
        "        _X_train, _y_train,\n",
        "        epochs          = NB_EPOCHS,\n",
        "        batch_size      = BATCH_SIZE,\n",
        "        validation_data = (_X_val, _y_val),\n",
        "        callbacks       = [tf.keras.callbacks.ModelCheckpoint(\n",
        "            filepath       = f\"model-{i+1}.h5\",\n",
        "            monitor        = \"val_loss\",\n",
        "            verbose        = 1,\n",
        "            save_best_only = True,\n",
        "            mode           = \"min\"\n",
        "        )]\n",
        "    )\n",
        "\n",
        "    histories.append(history.history)"
      ]
    },
    {
      "cell_type": "code",
      "source": [
        "# Set the path to the folder where you want to save the checkpoint\n",
        "checkpoint_path = \"/content/drive/MyDrive/Colab_Checkpoints/whitepaper_checkpoint.ckpt\""
      ],
      "metadata": {
        "id": "Y385P7UzSf7l"
      },
      "id": "Y385P7UzSf7l",
      "execution_count": null,
      "outputs": []
    },
    {
      "cell_type": "code",
      "source": [
        "# Save the model's weights and optimizer state\n",
        "model.save_weights(checkpoint_path)"
      ],
      "metadata": {
        "id": "sqtLUs_mSk5F"
      },
      "id": "sqtLUs_mSk5F",
      "execution_count": null,
      "outputs": []
    },
    {
      "cell_type": "markdown",
      "id": "16196b7a",
      "metadata": {
        "id": "16196b7a"
      },
      "source": [
        "### Evaluation"
      ]
    },
    {
      "cell_type": "code",
      "execution_count": null,
      "id": "6f8cf0a1",
      "metadata": {
        "id": "6f8cf0a1",
        "colab": {
          "base_uri": "https://localhost:8080/"
        },
        "outputId": "f816fb0c-2081-4752-97d4-67629387130f"
      },
      "outputs": [
        {
          "output_type": "stream",
          "name": "stdout",
          "text": [
            "Training: \t0.09721486270427704 loss / 0.9639776945114136 acc\n",
            "Validation: \t0.11672961711883545 loss / 0.9568214416503906 acc\n"
          ]
        }
      ],
      "source": [
        "def get_avg(histories, his_key):\n",
        "    tmp = []\n",
        "    for history in histories:\n",
        "        tmp.append(history[his_key][np.argmin(history['val_loss'])])\n",
        "    return np.mean(tmp)\n",
        "\n",
        "print(f\"Training: \\t{get_avg(histories,'loss')} loss / {get_avg(histories,'accuracy')} acc\")\n",
        "print(f\"Validation: \\t{get_avg(histories,'val_loss')} loss / {get_avg(histories,'val_accuracy')} acc\")"
      ]
    },
    {
      "cell_type": "code",
      "execution_count": null,
      "id": "3441a90a",
      "metadata": {
        "id": "3441a90a",
        "colab": {
          "base_uri": "https://localhost:8080/",
          "height": 825
        },
        "outputId": "1acac844-2ffe-4e0d-f0cf-748d6b51658f"
      },
      "outputs": [
        {
          "output_type": "display_data",
          "data": {
            "text/plain": [
              "<Figure size 2000x500 with 2 Axes>"
            ],
            "image/png": "[encoded data removed]"
          },
          "metadata": {}
        },
        {
          "output_type": "display_data",
          "data": {
            "text/plain": [
              "<Figure size 2000x500 with 2 Axes>"
            ],
            "image/png": "[encoded data removed]"
          },
          "metadata": {}
        }
      ],
      "source": [
        "from utils import plot_acc_loss\n",
        "\n",
        "plot_acc_loss('training', histories, 'accuracy', 'loss')\n",
        "plot_acc_loss('validation', histories, 'val_accuracy', 'val_loss')"
      ]
    },
    {
      "cell_type": "markdown",
      "id": "f2a01be3",
      "metadata": {
        "id": "f2a01be3"
      },
      "source": [
        "#### Final test"
      ]
    },
    {
      "cell_type": "code",
      "execution_count": null,
      "id": "ce36baed",
      "metadata": {
        "id": "ce36baed"
      },
      "outputs": [],
      "source": [
        "sequences_test = tokenizer.texts_to_sequences(X_test)\n",
        "X_test_word    = tf.keras.preprocessing.sequence.pad_sequences(\n",
        "    sequences_test,\n",
        "    maxlen  = MAX_SEQ_LENGTH,\n",
        "    padding = 'post'\n",
        ")\n",
        "\n",
        "if USE_CHAR:\n",
        "    X_test_word = [X_test_word, char_vectorizer(X_test, CHAR_MAX_LENGTH, char2idx_dict)]\n",
        "else:\n",
        "    X_test_word = X_test_word"
      ]
    },
    {
      "cell_type": "code",
      "execution_count": null,
      "id": "c3be18f4",
      "metadata": {
        "id": "c3be18f4",
        "colab": {
          "base_uri": "https://localhost:8080/"
        },
        "outputId": "719633ec-dac0-4df3-de49-85cb3aa87a78"
      },
      "outputs": [
        {
          "output_type": "stream",
          "name": "stdout",
          "text": [
            "Running test with model 1: 0.111271932721138 loss / 0.9590526223182678 acc\n",
            "\n",
            "Average loss / accuracy on testset: 0.111271932721138 loss / 0.9590526223182678 acc\n",
            "Standard deviation: (+-0.0) loss / (+-0.0) acc\n"
          ]
        }
      ],
      "source": [
        "import cnn_model\n",
        "\n",
        "test_loss = []\n",
        "test_accs = []\n",
        "\n",
        "for i in range(0, RUNS):\n",
        "    cnn_ = tf.keras.models.load_model(f\"model-{i+1}.h5\")\n",
        "    score = cnn_.evaluate(X_test_word, tf.keras.utils.to_categorical(y_test), verbose=0)\n",
        "    test_loss.append(score[0])\n",
        "    test_accs.append(score[1])\n",
        "    print(f\"Running test with model {i+1}: {score[0]} loss / {score[1]} acc\")\n",
        "\n",
        "print(f\"\\nAverage loss / accuracy on testset: {np.mean(test_loss)} loss / {np.mean(test_accs)} acc\")\n",
        "print(f\"Standard deviation: (+-{np.std(test_loss)}) loss / (+-{np.std(test_accs)}) acc\")"
      ]
    },
    {
      "cell_type": "markdown",
      "id": "7687f0d1",
      "metadata": {
        "id": "7687f0d1"
      },
      "source": [
        "# Scikit Example"
      ]
    },
    {
      "cell_type": "markdown",
      "id": "fb131d19",
      "metadata": {
        "id": "fb131d19"
      },
      "source": [
        "#### Define Vectorizer"
      ]
    },
    {
      "cell_type": "code",
      "execution_count": null,
      "id": "8fe103de",
      "metadata": {
        "id": "8fe103de"
      },
      "outputs": [],
      "source": [
        "from sklearn.feature_extraction.text import TfidfVectorizer\n",
        "\n",
        "tf_idf = TfidfVectorizer(\n",
        "    ngram_range  = (1,2),\n",
        "    min_df       = 0.0005,\n",
        "    max_df       = 0.1,\n",
        "    lowercase    = False,\n",
        "    preprocessor = None,\n",
        "    sublinear_tf = True,\n",
        "    use_idf      = True,\n",
        ")"
      ]
    },
    {
      "cell_type": "markdown",
      "id": "e7a88a38",
      "metadata": {
        "id": "e7a88a38"
      },
      "source": [
        "#### Define Model"
      ]
    },
    {
      "cell_type": "code",
      "execution_count": null,
      "id": "26ee41d7",
      "metadata": {
        "id": "26ee41d7"
      },
      "outputs": [],
      "source": [
        "from sklearn.linear_model import SGDClassifier\n",
        "\n",
        "sgd = SGDClassifier(\n",
        "    max_iter            = 1000,\n",
        "    tol                 = 1e-3,\n",
        "    validation_fraction = 0.2\n",
        ")"
      ]
    },
    {
      "cell_type": "markdown",
      "id": "e6707d34",
      "metadata": {
        "id": "e6707d34"
      },
      "source": [
        "#### Define Pipeline"
      ]
    },
    {
      "cell_type": "code",
      "execution_count": null,
      "id": "3f296665",
      "metadata": {
        "id": "3f296665"
      },
      "outputs": [],
      "source": [
        "from sklearn.pipeline import Pipeline\n",
        "\n",
        "ml_classifier = Pipeline([\n",
        "    ('vectorizer', tf_idf),\n",
        "    ('classifier', sgd)\n",
        "])"
      ]
    },
    {
      "cell_type": "markdown",
      "id": "b56a9458",
      "metadata": {
        "id": "b56a9458"
      },
      "source": [
        "#### Train Classifier"
      ]
    },
    {
      "cell_type": "code",
      "execution_count": null,
      "id": "132581a6",
      "metadata": {
        "id": "132581a6",
        "colab": {
          "base_uri": "https://localhost:8080/",
          "height": 125
        },
        "outputId": "69394dbe-0e1b-4e11-d568-31890bb6b873"
      },
      "outputs": [
        {
          "output_type": "execute_result",
          "data": {
            "text/plain": [
              "Pipeline(steps=[('vectorizer',\n",
              "                 TfidfVectorizer(lowercase=False, max_df=0.1, min_df=0.0005,\n",
              "                                 ngram_range=(1, 2), sublinear_tf=True)),\n",
              "                ('classifier', SGDClassifier(validation_fraction=0.2))])"
            ],
            "text/html": [
              "<style>#sk-container-id-1 {color: black;background-color: white;}#sk-container-id-1 pre{padding: 0;}#sk-container-id-1 div.sk-toggleable {background-color: white;}#sk-container-id-1 label.sk-toggleable__label {cursor: pointer;display: block;width: 100%;margin-bottom: 0;padding: 0.3em;box-sizing: border-box;text-align: center;}#sk-container-id-1 label.sk-toggleable__label-arrow:before {content: \"▸\";float: left;margin-right: 0.25em;color: #696969;}#sk-container-id-1 label.sk-toggleable__label-arrow:hover:before {color: black;}#sk-container-id-1 div.sk-estimator:hover label.sk-toggleable__label-arrow:before {color: black;}#sk-container-id-1 div.sk-toggleable__content {max-height: 0;max-width: 0;overflow: hidden;text-align: left;background-color: #f0f8ff;}#sk-container-id-1 div.sk-toggleable__content pre {margin: 0.2em;color: black;border-radius: 0.25em;background-color: #f0f8ff;}#sk-container-id-1 input.sk-toggleable__control:checked~div.sk-toggleable__content {max-height: 200px;max-width: 100%;overflow: auto;}#sk-container-id-1 input.sk-toggleable__control:checked~label.sk-toggleable__label-arrow:before {content: \"▾\";}#sk-container-id-1 div.sk-estimator input.sk-toggleable__control:checked~label.sk-toggleable__label {background-color: #d4ebff;}#sk-container-id-1 div.sk-label input.sk-toggleable__control:checked~label.sk-toggleable__label {background-color: #d4ebff;}#sk-container-id-1 input.sk-hidden--visually {border: 0;clip: rect(1px 1px 1px 1px);clip: rect(1px, 1px, 1px, 1px);height: 1px;margin: -1px;overflow: hidden;padding: 0;position: absolute;width: 1px;}#sk-container-id-1 div.sk-estimator {font-family: monospace;background-color: #f0f8ff;border: 1px dotted black;border-radius: 0.25em;box-sizing: border-box;margin-bottom: 0.5em;}#sk-container-id-1 div.sk-estimator:hover {background-color: #d4ebff;}#sk-container-id-1 div.sk-parallel-item::after {content: \"\";width: 100%;border-bottom: 1px solid gray;flex-grow: 1;}#sk-container-id-1 div.sk-label:hover label.sk-toggleable__label {background-color: #d4ebff;}#sk-container-id-1 div.sk-serial::before {content: \"\";position: absolute;border-left: 1px solid gray;box-sizing: border-box;top: 0;bottom: 0;left: 50%;z-index: 0;}#sk-container-id-1 div.sk-serial {display: flex;flex-direction: column;align-items: center;background-color: white;padding-right: 0.2em;padding-left: 0.2em;position: relative;}#sk-container-id-1 div.sk-item {position: relative;z-index: 1;}#sk-container-id-1 div.sk-parallel {display: flex;align-items: stretch;justify-content: center;background-color: white;position: relative;}#sk-container-id-1 div.sk-item::before, #sk-container-id-1 div.sk-parallel-item::before {content: \"\";position: absolute;border-left: 1px solid gray;box-sizing: border-box;top: 0;bottom: 0;left: 50%;z-index: -1;}#sk-container-id-1 div.sk-parallel-item {display: flex;flex-direction: column;z-index: 1;position: relative;background-color: white;}#sk-container-id-1 div.sk-parallel-item:first-child::after {align-self: flex-end;width: 50%;}#sk-container-id-1 div.sk-parallel-item:last-child::after {align-self: flex-start;width: 50%;}#sk-container-id-1 div.sk-parallel-item:only-child::after {width: 0;}#sk-container-id-1 div.sk-dashed-wrapped {border: 1px dashed gray;margin: 0 0.4em 0.5em 0.4em;box-sizing: border-box;padding-bottom: 0.4em;background-color: white;}#sk-container-id-1 div.sk-label label {font-family: monospace;font-weight: bold;display: inline-block;line-height: 1.2em;}#sk-container-id-1 div.sk-label-container {text-align: center;}#sk-container-id-1 div.sk-container {/* jupyter's `normalize.less` sets `[hidden] { display: none; }` but bootstrap.min.css set `[hidden] { display: none !important; }` so we also need the `!important` here to be able to override the default hidden behavior on the sphinx rendered scikit-learn.org. See: https://github.com/scikit-learn/scikit-learn/issues/21755 */display: inline-block !important;position: relative;}#sk-container-id-1 div.sk-text-repr-fallback {display: none;}</style><div id=\"sk-container-id-1\" class=\"sk-top-container\"><div class=\"sk-text-repr-fallback\"><pre>Pipeline(steps=[(&#x27;vectorizer&#x27;,\n",
              "                 TfidfVectorizer(lowercase=False, max_df=0.1, min_df=0.0005,\n",
              "                                 ngram_range=(1, 2), sublinear_tf=True)),\n",
              "                (&#x27;classifier&#x27;, SGDClassifier(validation_fraction=0.2))])</pre><b>In a Jupyter environment, please rerun this cell to show the HTML representation or trust the notebook. <br />On GitHub, the HTML representation is unable to render, please try loading this page with nbviewer.org.</b></div><div class=\"sk-container\" hidden><div class=\"sk-item sk-dashed-wrapped\"><div class=\"sk-label-container\"><div class=\"sk-label sk-toggleable\"><input class=\"sk-toggleable__control sk-hidden--visually\" id=\"sk-estimator-id-1\" type=\"checkbox\" ><label for=\"sk-estimator-id-1\" class=\"sk-toggleable__label sk-toggleable__label-arrow\">Pipeline</label><div class=\"sk-toggleable__content\"><pre>Pipeline(steps=[(&#x27;vectorizer&#x27;,\n",
              "                 TfidfVectorizer(lowercase=False, max_df=0.1, min_df=0.0005,\n",
              "                                 ngram_range=(1, 2), sublinear_tf=True)),\n",
              "                (&#x27;classifier&#x27;, SGDClassifier(validation_fraction=0.2))])</pre></div></div></div><div class=\"sk-serial\"><div class=\"sk-item\"><div class=\"sk-estimator sk-toggleable\"><input class=\"sk-toggleable__control sk-hidden--visually\" id=\"sk-estimator-id-2\" type=\"checkbox\" ><label for=\"sk-estimator-id-2\" class=\"sk-toggleable__label sk-toggleable__label-arrow\">TfidfVectorizer</label><div class=\"sk-toggleable__content\"><pre>TfidfVectorizer(lowercase=False, max_df=0.1, min_df=0.0005, ngram_range=(1, 2),\n",
              "                sublinear_tf=True)</pre></div></div></div><div class=\"sk-item\"><div class=\"sk-estimator sk-toggleable\"><input class=\"sk-toggleable__control sk-hidden--visually\" id=\"sk-estimator-id-3\" type=\"checkbox\" ><label for=\"sk-estimator-id-3\" class=\"sk-toggleable__label sk-toggleable__label-arrow\">SGDClassifier</label><div class=\"sk-toggleable__content\"><pre>SGDClassifier(validation_fraction=0.2)</pre></div></div></div></div></div></div></div>"
            ]
          },
          "metadata": {},
          "execution_count": 17
        }
      ],
      "source": [
        "_X_train, _X_val, _y_train, _y_val = train_test_split(X_train, y_train, test_size=VAL_SIZE)\n",
        "ml_classifier.fit(_X_train, _y_train)"
      ]
    },
    {
      "cell_type": "code",
      "execution_count": null,
      "id": "05da19c3",
      "metadata": {
        "id": "05da19c3",
        "colab": {
          "base_uri": "https://localhost:8080/"
        },
        "outputId": "a3e55805-34b0-4b5e-ee77-9a4a00657206"
      },
      "outputs": [
        {
          "output_type": "stream",
          "name": "stdout",
          "text": [
            "Accuracy: 0.9382678571428571\n"
          ]
        }
      ],
      "source": [
        "val_pred = ml_classifier.predict(_X_val)\n",
        "print(f\"Accuracy: {np.mean(_y_val==val_pred)}\")"
      ]
    },
    {
      "cell_type": "markdown",
      "id": "3c7523da",
      "metadata": {
        "id": "3c7523da"
      },
      "source": [
        "#### Final evaluation"
      ]
    },
    {
      "cell_type": "code",
      "execution_count": null,
      "id": "38d06a96",
      "metadata": {
        "id": "38d06a96",
        "colab": {
          "base_uri": "https://localhost:8080/"
        },
        "outputId": "82b6ab62-7a46-491d-ba72-7d923f1d0f98"
      },
      "outputs": [
        {
          "output_type": "stream",
          "name": "stdout",
          "text": [
            "Accuracy: 0.9399736842105263\n"
          ]
        }
      ],
      "source": [
        "preds = ml_classifier.predict(X_test)\n",
        "print(f\"Accuracy: {np.mean(y_test==preds)}\")"
      ]
    }
  ],
  "metadata": {
    "kernelspec": {
      "display_name": "Python 3",
      "name": "python3"
    },
    "language_info": {
      "codemirror_mode": {
        "name": "ipython",
        "version": 3
      },
      "file_extension": ".py",
      "mimetype": "text/x-python",
      "name": "python",
      "nbconvert_exporter": "python",
      "pygments_lexer": "ipython3",
      "version": "3.6.13"
    },
    "colab": {
      "provenance": [],
      "gpuType": "T4",
      "include_colab_link": true
    },
    "accelerator": "GPU",
    "widgets": {
      "application/vnd.jupyter.widget-state+json": {
        "53cec4ec5bd348dba39380781438978e": {
          "model_module": "@jupyter-widgets/controls",
          "model_name": "HBoxModel",
          "model_module_version": "1.5.0",
          "state": {
            "_dom_classes": [],
            "_model_module": "@jupyter-widgets/controls",
            "_model_module_version": "1.5.0",
            "_model_name": "HBoxModel",
            "_view_count": null,
            "_view_module": "@jupyter-widgets/controls",
            "_view_module_version": "1.5.0",
            "_view_name": "HBoxView",
            "box_style": "",
            "children": [
              "IPY_MODEL_15c67e1fd5e24427b9a473cb24f1cb7d",
              "IPY_MODEL_cee4baea71954c8c95c2e798c1acda9e",
              "IPY_MODEL_c690bf46d67040f3ba26b670504a1987"
            ],
            "layout": "IPY_MODEL_d49cce0e73fb423b8ceb0d6661da21a7"
          }
        },
        "15c67e1fd5e24427b9a473cb24f1cb7d": {
          "model_module": "@jupyter-widgets/controls",
          "model_name": "HTMLModel",
          "model_module_version": "1.5.0",
          "state": {
            "_dom_classes": [],
            "_model_module": "@jupyter-widgets/controls",
            "_model_module_version": "1.5.0",
            "_model_name": "HTMLModel",
            "_view_count": null,
            "_view_module": "@jupyter-widgets/controls",
            "_view_module_version": "1.5.0",
            "_view_name": "HTMLView",
            "description": "",
            "description_tooltip": null,
            "layout": "IPY_MODEL_8f3db6f2dfe6463b9d8e71370ebfdfa3",
            "placeholder": "​",
            "style": "IPY_MODEL_2447652e82474c3199d9a4cbb7d2bbe2",
            "value": "Dl Completed...: 100%"
          }
        },
        "cee4baea71954c8c95c2e798c1acda9e": {
          "model_module": "@jupyter-widgets/controls",
          "model_name": "FloatProgressModel",
          "model_module_version": "1.5.0",
          "state": {
            "_dom_classes": [],
            "_model_module": "@jupyter-widgets/controls",
            "_model_module_version": "1.5.0",
            "_model_name": "FloatProgressModel",
            "_view_count": null,
            "_view_module": "@jupyter-widgets/controls",
            "_view_module_version": "1.5.0",
            "_view_name": "ProgressView",
            "bar_style": "success",
            "description": "",
            "description_tooltip": null,
            "layout": "IPY_MODEL_bc42501fb335473f9c3e8e8b642a8a0f",
            "max": 1,
            "min": 0,
            "orientation": "horizontal",
            "style": "IPY_MODEL_0ca2f1f82c2e495898e52aaf7020d578",
            "value": 1
          }
        },
        "c690bf46d67040f3ba26b670504a1987": {
          "model_module": "@jupyter-widgets/controls",
          "model_name": "HTMLModel",
          "model_module_version": "1.5.0",
          "state": {
            "_dom_classes": [],
            "_model_module": "@jupyter-widgets/controls",
            "_model_module_version": "1.5.0",
            "_model_name": "HTMLModel",
            "_view_count": null,
            "_view_module": "@jupyter-widgets/controls",
            "_view_module_version": "1.5.0",
            "_view_name": "HTMLView",
            "description": "",
            "description_tooltip": null,
            "layout": "IPY_MODEL_738cd6da272b4d5ea0921defd061c3c5",
            "placeholder": "​",
            "style": "IPY_MODEL_53c25eec132744abbd40ad0435ec3c57",
            "value": " 1/1 [00:08&lt;00:00,  4.36s/ url]"
          }
        },
        "d49cce0e73fb423b8ceb0d6661da21a7": {
          "model_module": "@jupyter-widgets/base",
          "model_name": "LayoutModel",
          "model_module_version": "1.2.0",
          "state": {
            "_model_module": "@jupyter-widgets/base",
            "_model_module_version": "1.2.0",
            "_model_name": "LayoutModel",
            "_view_count": null,
            "_view_module": "@jupyter-widgets/base",
            "_view_module_version": "1.2.0",
            "_view_name": "LayoutView",
            "align_content": null,
            "align_items": null,
            "align_self": null,
            "border": null,
            "bottom": null,
            "display": null,
            "flex": null,
            "flex_flow": null,
            "grid_area": null,
            "grid_auto_columns": null,
            "grid_auto_flow": null,
            "grid_auto_rows": null,
            "grid_column": null,
            "grid_gap": null,
            "grid_row": null,
            "grid_template_areas": null,
            "grid_template_columns": null,
            "grid_template_rows": null,
            "height": null,
            "justify_content": null,
            "justify_items": null,
            "left": null,
            "margin": null,
            "max_height": null,
            "max_width": null,
            "min_height": null,
            "min_width": null,
            "object_fit": null,
            "object_position": null,
            "order": null,
            "overflow": null,
            "overflow_x": null,
            "overflow_y": null,
            "padding": null,
            "right": null,
            "top": null,
            "visibility": null,
            "width": null
          }
        },
        "8f3db6f2dfe6463b9d8e71370ebfdfa3": {
          "model_module": "@jupyter-widgets/base",
          "model_name": "LayoutModel",
          "model_module_version": "1.2.0",
          "state": {
            "_model_module": "@jupyter-widgets/base",
            "_model_module_version": "1.2.0",
            "_model_name": "LayoutModel",
            "_view_count": null,
            "_view_module": "@jupyter-widgets/base",
            "_view_module_version": "1.2.0",
            "_view_name": "LayoutView",
            "align_content": null,
            "align_items": null,
            "align_self": null,
            "border": null,
            "bottom": null,
            "display": null,
            "flex": null,
            "flex_flow": null,
            "grid_area": null,
            "grid_auto_columns": null,
            "grid_auto_flow": null,
            "grid_auto_rows": null,
            "grid_column": null,
            "grid_gap": null,
            "grid_row": null,
            "grid_template_areas": null,
            "grid_template_columns": null,
            "grid_template_rows": null,
            "height": null,
            "justify_content": null,
            "justify_items": null,
            "left": null,
            "margin": null,
            "max_height": null,
            "max_width": null,
            "min_height": null,
            "min_width": null,
            "object_fit": null,
            "object_position": null,
            "order": null,
            "overflow": null,
            "overflow_x": null,
            "overflow_y": null,
            "padding": null,
            "right": null,
            "top": null,
            "visibility": null,
            "width": null
          }
        },
        "2447652e82474c3199d9a4cbb7d2bbe2": {
          "model_module": "@jupyter-widgets/controls",
          "model_name": "DescriptionStyleModel",
          "model_module_version": "1.5.0",
          "state": {
            "_model_module": "@jupyter-widgets/controls",
            "_model_module_version": "1.5.0",
            "_model_name": "DescriptionStyleModel",
            "_view_count": null,
            "_view_module": "@jupyter-widgets/base",
            "_view_module_version": "1.2.0",
            "_view_name": "StyleView",
            "description_width": ""
          }
        },
        "bc42501fb335473f9c3e8e8b642a8a0f": {
          "model_module": "@jupyter-widgets/base",
          "model_name": "LayoutModel",
          "model_module_version": "1.2.0",
          "state": {
            "_model_module": "@jupyter-widgets/base",
            "_model_module_version": "1.2.0",
            "_model_name": "LayoutModel",
            "_view_count": null,
            "_view_module": "@jupyter-widgets/base",
            "_view_module_version": "1.2.0",
            "_view_name": "LayoutView",
            "align_content": null,
            "align_items": null,
            "align_self": null,
            "border": null,
            "bottom": null,
            "display": null,
            "flex": null,
            "flex_flow": null,
            "grid_area": null,
            "grid_auto_columns": null,
            "grid_auto_flow": null,
            "grid_auto_rows": null,
            "grid_column": null,
            "grid_gap": null,
            "grid_row": null,
            "grid_template_areas": null,
            "grid_template_columns": null,
            "grid_template_rows": null,
            "height": null,
            "justify_content": null,
            "justify_items": null,
            "left": null,
            "margin": null,
            "max_height": null,
            "max_width": null,
            "min_height": null,
            "min_width": null,
            "object_fit": null,
            "object_position": null,
            "order": null,
            "overflow": null,
            "overflow_x": null,
            "overflow_y": null,
            "padding": null,
            "right": null,
            "top": null,
            "visibility": null,
            "width": "20px"
          }
        },
        "0ca2f1f82c2e495898e52aaf7020d578": {
          "model_module": "@jupyter-widgets/controls",
          "model_name": "ProgressStyleModel",
          "model_module_version": "1.5.0",
          "state": {
            "_model_module": "@jupyter-widgets/controls",
            "_model_module_version": "1.5.0",
            "_model_name": "ProgressStyleModel",
            "_view_count": null,
            "_view_module": "@jupyter-widgets/base",
            "_view_module_version": "1.2.0",
            "_view_name": "StyleView",
            "bar_color": null,
            "description_width": ""
          }
        },
        "738cd6da272b4d5ea0921defd061c3c5": {
          "model_module": "@jupyter-widgets/base",
          "model_name": "LayoutModel",
          "model_module_version": "1.2.0",
          "state": {
            "_model_module": "@jupyter-widgets/base",
            "_model_module_version": "1.2.0",
            "_model_name": "LayoutModel",
            "_view_count": null,
            "_view_module": "@jupyter-widgets/base",
            "_view_module_version": "1.2.0",
            "_view_name": "LayoutView",
            "align_content": null,
            "align_items": null,
            "align_self": null,
            "border": null,
            "bottom": null,
            "display": null,
            "flex": null,
            "flex_flow": null,
            "grid_area": null,
            "grid_auto_columns": null,
            "grid_auto_flow": null,
            "grid_auto_rows": null,
            "grid_column": null,
            "grid_gap": null,
            "grid_row": null,
            "grid_template_areas": null,
            "grid_template_columns": null,
            "grid_template_rows": null,
            "height": null,
            "justify_content": null,
            "justify_items": null,
            "left": null,
            "margin": null,
            "max_height": null,
            "max_width": null,
            "min_height": null,
            "min_width": null,
            "object_fit": null,
            "object_position": null,
            "order": null,
            "overflow": null,
            "overflow_x": null,
            "overflow_y": null,
            "padding": null,
            "right": null,
            "top": null,
            "visibility": null,
            "width": null
          }
        },
        "53c25eec132744abbd40ad0435ec3c57": {
          "model_module": "@jupyter-widgets/controls",
          "model_name": "DescriptionStyleModel",
          "model_module_version": "1.5.0",
          "state": {
            "_model_module": "@jupyter-widgets/controls",
            "_model_module_version": "1.5.0",
            "_model_name": "DescriptionStyleModel",
            "_view_count": null,
            "_view_module": "@jupyter-widgets/base",
            "_view_module_version": "1.2.0",
            "_view_name": "StyleView",
            "description_width": ""
          }
        },
        "4567d7f517e34bd8b293afcfb9ed047f": {
          "model_module": "@jupyter-widgets/controls",
          "model_name": "HBoxModel",
          "model_module_version": "1.5.0",
          "state": {
            "_dom_classes": [],
            "_model_module": "@jupyter-widgets/controls",
            "_model_module_version": "1.5.0",
            "_model_name": "HBoxModel",
            "_view_count": null,
            "_view_module": "@jupyter-widgets/controls",
            "_view_module_version": "1.5.0",
            "_view_name": "HBoxView",
            "box_style": "",
            "children": [
              "IPY_MODEL_0a3f10b65429423bba28880ed51616d3",
              "IPY_MODEL_08196a9401e8410890531c1d50f0375e",
              "IPY_MODEL_5506a1663ac244f7b32210ef6d8f912e"
            ],
            "layout": "IPY_MODEL_d3ec714e784b4f589808a85de8b6c9d7"
          }
        },
        "0a3f10b65429423bba28880ed51616d3": {
          "model_module": "@jupyter-widgets/controls",
          "model_name": "HTMLModel",
          "model_module_version": "1.5.0",
          "state": {
            "_dom_classes": [],
            "_model_module": "@jupyter-widgets/controls",
            "_model_module_version": "1.5.0",
            "_model_name": "HTMLModel",
            "_view_count": null,
            "_view_module": "@jupyter-widgets/controls",
            "_view_module_version": "1.5.0",
            "_view_name": "HTMLView",
            "description": "",
            "description_tooltip": null,
            "layout": "IPY_MODEL_d7215374959c44459391831f21198179",
            "placeholder": "​",
            "style": "IPY_MODEL_4e54e7bf87cb42eaafa1ec77c6afb42b",
            "value": "Dl Size...: 100%"
          }
        },
        "08196a9401e8410890531c1d50f0375e": {
          "model_module": "@jupyter-widgets/controls",
          "model_name": "FloatProgressModel",
          "model_module_version": "1.5.0",
          "state": {
            "_dom_classes": [],
            "_model_module": "@jupyter-widgets/controls",
            "_model_module_version": "1.5.0",
            "_model_name": "FloatProgressModel",
            "_view_count": null,
            "_view_module": "@jupyter-widgets/controls",
            "_view_module_version": "1.5.0",
            "_view_name": "ProgressView",
            "bar_style": "success",
            "description": "",
            "description_tooltip": null,
            "layout": "IPY_MODEL_90c75e97bbad415889aa27126a377660",
            "max": 1,
            "min": 0,
            "orientation": "horizontal",
            "style": "IPY_MODEL_3a3a8684552046368f9a92d1e1fbea43",
            "value": 1
          }
        },
        "5506a1663ac244f7b32210ef6d8f912e": {
          "model_module": "@jupyter-widgets/controls",
          "model_name": "HTMLModel",
          "model_module_version": "1.5.0",
          "state": {
            "_dom_classes": [],
            "_model_module": "@jupyter-widgets/controls",
            "_model_module_version": "1.5.0",
            "_model_name": "HTMLModel",
            "_view_count": null,
            "_view_module": "@jupyter-widgets/controls",
            "_view_module_version": "1.5.0",
            "_view_name": "HTMLView",
            "description": "",
            "description_tooltip": null,
            "layout": "IPY_MODEL_92e6a7c5950a4a12bc484aadb70cd9f2",
            "placeholder": "​",
            "style": "IPY_MODEL_658cdd54146e4ed7bf8632cc2e8480ce",
            "value": " 158/158 [00:08&lt;00:00, 38.89 MiB/s]"
          }
        },
        "d3ec714e784b4f589808a85de8b6c9d7": {
          "model_module": "@jupyter-widgets/base",
          "model_name": "LayoutModel",
          "model_module_version": "1.2.0",
          "state": {
            "_model_module": "@jupyter-widgets/base",
            "_model_module_version": "1.2.0",
            "_model_name": "LayoutModel",
            "_view_count": null,
            "_view_module": "@jupyter-widgets/base",
            "_view_module_version": "1.2.0",
            "_view_name": "LayoutView",
            "align_content": null,
            "align_items": null,
            "align_self": null,
            "border": null,
            "bottom": null,
            "display": null,
            "flex": null,
            "flex_flow": null,
            "grid_area": null,
            "grid_auto_columns": null,
            "grid_auto_flow": null,
            "grid_auto_rows": null,
            "grid_column": null,
            "grid_gap": null,
            "grid_row": null,
            "grid_template_areas": null,
            "grid_template_columns": null,
            "grid_template_rows": null,
            "height": null,
            "justify_content": null,
            "justify_items": null,
            "left": null,
            "margin": null,
            "max_height": null,
            "max_width": null,
            "min_height": null,
            "min_width": null,
            "object_fit": null,
            "object_position": null,
            "order": null,
            "overflow": null,
            "overflow_x": null,
            "overflow_y": null,
            "padding": null,
            "right": null,
            "top": null,
            "visibility": null,
            "width": null
          }
        },
        "d7215374959c44459391831f21198179": {
          "model_module": "@jupyter-widgets/base",
          "model_name": "LayoutModel",
          "model_module_version": "1.2.0",
          "state": {
            "_model_module": "@jupyter-widgets/base",
            "_model_module_version": "1.2.0",
            "_model_name": "LayoutModel",
            "_view_count": null,
            "_view_module": "@jupyter-widgets/base",
            "_view_module_version": "1.2.0",
            "_view_name": "LayoutView",
            "align_content": null,
            "align_items": null,
            "align_self": null,
            "border": null,
            "bottom": null,
            "display": null,
            "flex": null,
            "flex_flow": null,
            "grid_area": null,
            "grid_auto_columns": null,
            "grid_auto_flow": null,
            "grid_auto_rows": null,
            "grid_column": null,
            "grid_gap": null,
            "grid_row": null,
            "grid_template_areas": null,
            "grid_template_columns": null,
            "grid_template_rows": null,
            "height": null,
            "justify_content": null,
            "justify_items": null,
            "left": null,
            "margin": null,
            "max_height": null,
            "max_width": null,
            "min_height": null,
            "min_width": null,
            "object_fit": null,
            "object_position": null,
            "order": null,
            "overflow": null,
            "overflow_x": null,
            "overflow_y": null,
            "padding": null,
            "right": null,
            "top": null,
            "visibility": null,
            "width": null
          }
        },
        "4e54e7bf87cb42eaafa1ec77c6afb42b": {
          "model_module": "@jupyter-widgets/controls",
          "model_name": "DescriptionStyleModel",
          "model_module_version": "1.5.0",
          "state": {
            "_model_module": "@jupyter-widgets/controls",
            "_model_module_version": "1.5.0",
            "_model_name": "DescriptionStyleModel",
            "_view_count": null,
            "_view_module": "@jupyter-widgets/base",
            "_view_module_version": "1.2.0",
            "_view_name": "StyleView",
            "description_width": ""
          }
        },
        "90c75e97bbad415889aa27126a377660": {
          "model_module": "@jupyter-widgets/base",
          "model_name": "LayoutModel",
          "model_module_version": "1.2.0",
          "state": {
            "_model_module": "@jupyter-widgets/base",
            "_model_module_version": "1.2.0",
            "_model_name": "LayoutModel",
            "_view_count": null,
            "_view_module": "@jupyter-widgets/base",
            "_view_module_version": "1.2.0",
            "_view_name": "LayoutView",
            "align_content": null,
            "align_items": null,
            "align_self": null,
            "border": null,
            "bottom": null,
            "display": null,
            "flex": null,
            "flex_flow": null,
            "grid_area": null,
            "grid_auto_columns": null,
            "grid_auto_flow": null,
            "grid_auto_rows": null,
            "grid_column": null,
            "grid_gap": null,
            "grid_row": null,
            "grid_template_areas": null,
            "grid_template_columns": null,
            "grid_template_rows": null,
            "height": null,
            "justify_content": null,
            "justify_items": null,
            "left": null,
            "margin": null,
            "max_height": null,
            "max_width": null,
            "min_height": null,
            "min_width": null,
            "object_fit": null,
            "object_position": null,
            "order": null,
            "overflow": null,
            "overflow_x": null,
            "overflow_y": null,
            "padding": null,
            "right": null,
            "top": null,
            "visibility": null,
            "width": "20px"
          }
        },
        "3a3a8684552046368f9a92d1e1fbea43": {
          "model_module": "@jupyter-widgets/controls",
          "model_name": "ProgressStyleModel",
          "model_module_version": "1.5.0",
          "state": {
            "_model_module": "@jupyter-widgets/controls",
            "_model_module_version": "1.5.0",
            "_model_name": "ProgressStyleModel",
            "_view_count": null,
            "_view_module": "@jupyter-widgets/base",
            "_view_module_version": "1.2.0",
            "_view_name": "StyleView",
            "bar_color": null,
            "description_width": ""
          }
        },
        "92e6a7c5950a4a12bc484aadb70cd9f2": {
          "model_module": "@jupyter-widgets/base",
          "model_name": "LayoutModel",
          "model_module_version": "1.2.0",
          "state": {
            "_model_module": "@jupyter-widgets/base",
            "_model_module_version": "1.2.0",
            "_model_name": "LayoutModel",
            "_view_count": null,
            "_view_module": "@jupyter-widgets/base",
            "_view_module_version": "1.2.0",
            "_view_name": "LayoutView",
            "align_content": null,
            "align_items": null,
            "align_self": null,
            "border": null,
            "bottom": null,
            "display": null,
            "flex": null,
            "flex_flow": null,
            "grid_area": null,
            "grid_auto_columns": null,
            "grid_auto_flow": null,
            "grid_auto_rows": null,
            "grid_column": null,
            "grid_gap": null,
            "grid_row": null,
            "grid_template_areas": null,
            "grid_template_columns": null,
            "grid_template_rows": null,
            "height": null,
            "justify_content": null,
            "justify_items": null,
            "left": null,
            "margin": null,
            "max_height": null,
            "max_width": null,
            "min_height": null,
            "min_width": null,
            "object_fit": null,
            "object_position": null,
            "order": null,
            "overflow": null,
            "overflow_x": null,
            "overflow_y": null,
            "padding": null,
            "right": null,
            "top": null,
            "visibility": null,
            "width": null
          }
        },
        "658cdd54146e4ed7bf8632cc2e8480ce": {
          "model_module": "@jupyter-widgets/controls",
          "model_name": "DescriptionStyleModel",
          "model_module_version": "1.5.0",
          "state": {
            "_model_module": "@jupyter-widgets/controls",
            "_model_module_version": "1.5.0",
            "_model_name": "DescriptionStyleModel",
            "_view_count": null,
            "_view_module": "@jupyter-widgets/base",
            "_view_module_version": "1.2.0",
            "_view_name": "StyleView",
            "description_width": ""
          }
        },
        "e7ef3bf2628b43659779103cae6d8d92": {
          "model_module": "@jupyter-widgets/controls",
          "model_name": "HBoxModel",
          "model_module_version": "1.5.0",
          "state": {
            "_dom_classes": [],
            "_model_module": "@jupyter-widgets/controls",
            "_model_module_version": "1.5.0",
            "_model_name": "HBoxModel",
            "_view_count": null,
            "_view_module": "@jupyter-widgets/controls",
            "_view_module_version": "1.5.0",
            "_view_name": "HBoxView",
            "box_style": "",
            "children": [
              "IPY_MODEL_0087bd5ba4a04a3e9ab331015cf0a52f",
              "IPY_MODEL_3562a0977f374603bbdc3e9f663dc1c7",
              "IPY_MODEL_89841ea8527545239a26818831111a60"
            ],
            "layout": "IPY_MODEL_e95d54682b1245d19cae666ed2945596"
          }
        },
        "0087bd5ba4a04a3e9ab331015cf0a52f": {
          "model_module": "@jupyter-widgets/controls",
          "model_name": "HTMLModel",
          "model_module_version": "1.5.0",
          "state": {
            "_dom_classes": [],
            "_model_module": "@jupyter-widgets/controls",
            "_model_module_version": "1.5.0",
            "_model_name": "HTMLModel",
            "_view_count": null,
            "_view_module": "@jupyter-widgets/controls",
            "_view_module_version": "1.5.0",
            "_view_name": "HTMLView",
            "description": "",
            "description_tooltip": null,
            "layout": "IPY_MODEL_94f767e95a91405f9b6e6ccbadbd3e2e",
            "placeholder": "​",
            "style": "IPY_MODEL_1855f8e371674efda30dbf368972dc83",
            "value": "Extraction completed...: 100%"
          }
        },
        "3562a0977f374603bbdc3e9f663dc1c7": {
          "model_module": "@jupyter-widgets/controls",
          "model_name": "FloatProgressModel",
          "model_module_version": "1.5.0",
          "state": {
            "_dom_classes": [],
            "_model_module": "@jupyter-widgets/controls",
            "_model_module_version": "1.5.0",
            "_model_name": "FloatProgressModel",
            "_view_count": null,
            "_view_module": "@jupyter-widgets/controls",
            "_view_module_version": "1.5.0",
            "_view_name": "ProgressView",
            "bar_style": "success",
            "description": "",
            "description_tooltip": null,
            "layout": "IPY_MODEL_d6ca4ded06164faea4e120659d2964ad",
            "max": 1,
            "min": 0,
            "orientation": "horizontal",
            "style": "IPY_MODEL_86fdacd1f9244a6d8fd15e62482eec3a",
            "value": 1
          }
        },
        "89841ea8527545239a26818831111a60": {
          "model_module": "@jupyter-widgets/controls",
          "model_name": "HTMLModel",
          "model_module_version": "1.5.0",
          "state": {
            "_dom_classes": [],
            "_model_module": "@jupyter-widgets/controls",
            "_model_module_version": "1.5.0",
            "_model_name": "HTMLModel",
            "_view_count": null,
            "_view_module": "@jupyter-widgets/controls",
            "_view_module_version": "1.5.0",
            "_view_name": "HTMLView",
            "description": "",
            "description_tooltip": null,
            "layout": "IPY_MODEL_112de006a682483f94f4069dd247e162",
            "placeholder": "​",
            "style": "IPY_MODEL_a0f3272e73e348ff89a6b890edc62558",
            "value": " 3/3 [00:08&lt;00:00,  8.46s/ file]"
          }
        },
        "e95d54682b1245d19cae666ed2945596": {
          "model_module": "@jupyter-widgets/base",
          "model_name": "LayoutModel",
          "model_module_version": "1.2.0",
          "state": {
            "_model_module": "@jupyter-widgets/base",
            "_model_module_version": "1.2.0",
            "_model_name": "LayoutModel",
            "_view_count": null,
            "_view_module": "@jupyter-widgets/base",
            "_view_module_version": "1.2.0",
            "_view_name": "LayoutView",
            "align_content": null,
            "align_items": null,
            "align_self": null,
            "border": null,
            "bottom": null,
            "display": null,
            "flex": null,
            "flex_flow": null,
            "grid_area": null,
            "grid_auto_columns": null,
            "grid_auto_flow": null,
            "grid_auto_rows": null,
            "grid_column": null,
            "grid_gap": null,
            "grid_row": null,
            "grid_template_areas": null,
            "grid_template_columns": null,
            "grid_template_rows": null,
            "height": null,
            "justify_content": null,
            "justify_items": null,
            "left": null,
            "margin": null,
            "max_height": null,
            "max_width": null,
            "min_height": null,
            "min_width": null,
            "object_fit": null,
            "object_position": null,
            "order": null,
            "overflow": null,
            "overflow_x": null,
            "overflow_y": null,
            "padding": null,
            "right": null,
            "top": null,
            "visibility": null,
            "width": null
          }
        },
        "94f767e95a91405f9b6e6ccbadbd3e2e": {
          "model_module": "@jupyter-widgets/base",
          "model_name": "LayoutModel",
          "model_module_version": "1.2.0",
          "state": {
            "_model_module": "@jupyter-widgets/base",
            "_model_module_version": "1.2.0",
            "_model_name": "LayoutModel",
            "_view_count": null,
            "_view_module": "@jupyter-widgets/base",
            "_view_module_version": "1.2.0",
            "_view_name": "LayoutView",
            "align_content": null,
            "align_items": null,
            "align_self": null,
            "border": null,
            "bottom": null,
            "display": null,
            "flex": null,
            "flex_flow": null,
            "grid_area": null,
            "grid_auto_columns": null,
            "grid_auto_flow": null,
            "grid_auto_rows": null,
            "grid_column": null,
            "grid_gap": null,
            "grid_row": null,
            "grid_template_areas": null,
            "grid_template_columns": null,
            "grid_template_rows": null,
            "height": null,
            "justify_content": null,
            "justify_items": null,
            "left": null,
            "margin": null,
            "max_height": null,
            "max_width": null,
            "min_height": null,
            "min_width": null,
            "object_fit": null,
            "object_position": null,
            "order": null,
            "overflow": null,
            "overflow_x": null,
            "overflow_y": null,
            "padding": null,
            "right": null,
            "top": null,
            "visibility": null,
            "width": null
          }
        },
        "1855f8e371674efda30dbf368972dc83": {
          "model_module": "@jupyter-widgets/controls",
          "model_name": "DescriptionStyleModel",
          "model_module_version": "1.5.0",
          "state": {
            "_model_module": "@jupyter-widgets/controls",
            "_model_module_version": "1.5.0",
            "_model_name": "DescriptionStyleModel",
            "_view_count": null,
            "_view_module": "@jupyter-widgets/base",
            "_view_module_version": "1.2.0",
            "_view_name": "StyleView",
            "description_width": ""
          }
        },
        "d6ca4ded06164faea4e120659d2964ad": {
          "model_module": "@jupyter-widgets/base",
          "model_name": "LayoutModel",
          "model_module_version": "1.2.0",
          "state": {
            "_model_module": "@jupyter-widgets/base",
            "_model_module_version": "1.2.0",
            "_model_name": "LayoutModel",
            "_view_count": null,
            "_view_module": "@jupyter-widgets/base",
            "_view_module_version": "1.2.0",
            "_view_name": "LayoutView",
            "align_content": null,
            "align_items": null,
            "align_self": null,
            "border": null,
            "bottom": null,
            "display": null,
            "flex": null,
            "flex_flow": null,
            "grid_area": null,
            "grid_auto_columns": null,
            "grid_auto_flow": null,
            "grid_auto_rows": null,
            "grid_column": null,
            "grid_gap": null,
            "grid_row": null,
            "grid_template_areas": null,
            "grid_template_columns": null,
            "grid_template_rows": null,
            "height": null,
            "justify_content": null,
            "justify_items": null,
            "left": null,
            "margin": null,
            "max_height": null,
            "max_width": null,
            "min_height": null,
            "min_width": null,
            "object_fit": null,
            "object_position": null,
            "order": null,
            "overflow": null,
            "overflow_x": null,
            "overflow_y": null,
            "padding": null,
            "right": null,
            "top": null,
            "visibility": null,
            "width": "20px"
          }
        },
        "86fdacd1f9244a6d8fd15e62482eec3a": {
          "model_module": "@jupyter-widgets/controls",
          "model_name": "ProgressStyleModel",
          "model_module_version": "1.5.0",
          "state": {
            "_model_module": "@jupyter-widgets/controls",
            "_model_module_version": "1.5.0",
            "_model_name": "ProgressStyleModel",
            "_view_count": null,
            "_view_module": "@jupyter-widgets/base",
            "_view_module_version": "1.2.0",
            "_view_name": "StyleView",
            "bar_color": null,
            "description_width": ""
          }
        },
        "112de006a682483f94f4069dd247e162": {
          "model_module": "@jupyter-widgets/base",
          "model_name": "LayoutModel",
          "model_module_version": "1.2.0",
          "state": {
            "_model_module": "@jupyter-widgets/base",
            "_model_module_version": "1.2.0",
            "_model_name": "LayoutModel",
            "_view_count": null,
            "_view_module": "@jupyter-widgets/base",
            "_view_module_version": "1.2.0",
            "_view_name": "LayoutView",
            "align_content": null,
            "align_items": null,
            "align_self": null,
            "border": null,
            "bottom": null,
            "display": null,
            "flex": null,
            "flex_flow": null,
            "grid_area": null,
            "grid_auto_columns": null,
            "grid_auto_flow": null,
            "grid_auto_rows": null,
            "grid_column": null,
            "grid_gap": null,
            "grid_row": null,
            "grid_template_areas": null,
            "grid_template_columns": null,
            "grid_template_rows": null,
            "height": null,
            "justify_content": null,
            "justify_items": null,
            "left": null,
            "margin": null,
            "max_height": null,
            "max_width": null,
            "min_height": null,
            "min_width": null,
            "object_fit": null,
            "object_position": null,
            "order": null,
            "overflow": null,
            "overflow_x": null,
            "overflow_y": null,
            "padding": null,
            "right": null,
            "top": null,
            "visibility": null,
            "width": null
          }
        },
        "a0f3272e73e348ff89a6b890edc62558": {
          "model_module": "@jupyter-widgets/controls",
          "model_name": "DescriptionStyleModel",
          "model_module_version": "1.5.0",
          "state": {
            "_model_module": "@jupyter-widgets/controls",
            "_model_module_version": "1.5.0",
            "_model_name": "DescriptionStyleModel",
            "_view_count": null,
            "_view_module": "@jupyter-widgets/base",
            "_view_module_version": "1.2.0",
            "_view_name": "StyleView",
            "description_width": ""
          }
        },
        "3130346ad8f84229a3f3d89425b64ad6": {
          "model_module": "@jupyter-widgets/controls",
          "model_name": "HBoxModel",
          "model_module_version": "1.5.0",
          "state": {
            "_dom_classes": [],
            "_model_module": "@jupyter-widgets/controls",
            "_model_module_version": "1.5.0",
            "_model_name": "HBoxModel",
            "_view_count": null,
            "_view_module": "@jupyter-widgets/controls",
            "_view_module_version": "1.5.0",
            "_view_name": "HBoxView",
            "box_style": "",
            "children": [
              "IPY_MODEL_2f9105d84ac940faad798c7e5ef39123",
              "IPY_MODEL_f15190da988c4831bb2244cc171c89af",
              "IPY_MODEL_bdcae3fa85ad4dd5989c86fc0559ccb9"
            ],
            "layout": "IPY_MODEL_3e7ce8bf73434cb98d4f0ef3381f104b"
          }
        },
        "2f9105d84ac940faad798c7e5ef39123": {
          "model_module": "@jupyter-widgets/controls",
          "model_name": "HTMLModel",
          "model_module_version": "1.5.0",
          "state": {
            "_dom_classes": [],
            "_model_module": "@jupyter-widgets/controls",
            "_model_module_version": "1.5.0",
            "_model_name": "HTMLModel",
            "_view_count": null,
            "_view_module": "@jupyter-widgets/controls",
            "_view_module_version": "1.5.0",
            "_view_name": "HTMLView",
            "description": "",
            "description_tooltip": null,
            "layout": "IPY_MODEL_7281331abb894903ba6132a1eb118b5a",
            "placeholder": "​",
            "style": "IPY_MODEL_83f42edd4771465fba23debf57b27724",
            "value": "Generating splits...: 100%"
          }
        },
        "f15190da988c4831bb2244cc171c89af": {
          "model_module": "@jupyter-widgets/controls",
          "model_name": "FloatProgressModel",
          "model_module_version": "1.5.0",
          "state": {
            "_dom_classes": [],
            "_model_module": "@jupyter-widgets/controls",
            "_model_module_version": "1.5.0",
            "_model_name": "FloatProgressModel",
            "_view_count": null,
            "_view_module": "@jupyter-widgets/controls",
            "_view_module_version": "1.5.0",
            "_view_name": "ProgressView",
            "bar_style": "",
            "description": "",
            "description_tooltip": null,
            "layout": "IPY_MODEL_c457de16c5944003b54625f504e89f9b",
            "max": 2,
            "min": 0,
            "orientation": "horizontal",
            "style": "IPY_MODEL_1af8e3f582d94c38b9aa6fc377a98d25",
            "value": 2
          }
        },
        "bdcae3fa85ad4dd5989c86fc0559ccb9": {
          "model_module": "@jupyter-widgets/controls",
          "model_name": "HTMLModel",
          "model_module_version": "1.5.0",
          "state": {
            "_dom_classes": [],
            "_model_module": "@jupyter-widgets/controls",
            "_model_module_version": "1.5.0",
            "_model_name": "HTMLModel",
            "_view_count": null,
            "_view_module": "@jupyter-widgets/controls",
            "_view_module_version": "1.5.0",
            "_view_name": "HTMLView",
            "description": "",
            "description_tooltip": null,
            "layout": "IPY_MODEL_bc56c9563049421cb259722fdb3a966b",
            "placeholder": "​",
            "style": "IPY_MODEL_3baecd03fe1d41bdbfb36a4dd4e36412",
            "value": " 2/2 [00:50&lt;00:00, 21.23s/ splits]"
          }
        },
        "3e7ce8bf73434cb98d4f0ef3381f104b": {
          "model_module": "@jupyter-widgets/base",
          "model_name": "LayoutModel",
          "model_module_version": "1.2.0",
          "state": {
            "_model_module": "@jupyter-widgets/base",
            "_model_module_version": "1.2.0",
            "_model_name": "LayoutModel",
            "_view_count": null,
            "_view_module": "@jupyter-widgets/base",
            "_view_module_version": "1.2.0",
            "_view_name": "LayoutView",
            "align_content": null,
            "align_items": null,
            "align_self": null,
            "border": null,
            "bottom": null,
            "display": null,
            "flex": null,
            "flex_flow": null,
            "grid_area": null,
            "grid_auto_columns": null,
            "grid_auto_flow": null,
            "grid_auto_rows": null,
            "grid_column": null,
            "grid_gap": null,
            "grid_row": null,
            "grid_template_areas": null,
            "grid_template_columns": null,
            "grid_template_rows": null,
            "height": null,
            "justify_content": null,
            "justify_items": null,
            "left": null,
            "margin": null,
            "max_height": null,
            "max_width": null,
            "min_height": null,
            "min_width": null,
            "object_fit": null,
            "object_position": null,
            "order": null,
            "overflow": null,
            "overflow_x": null,
            "overflow_y": null,
            "padding": null,
            "right": null,
            "top": null,
            "visibility": "hidden",
            "width": null
          }
        },
        "7281331abb894903ba6132a1eb118b5a": {
          "model_module": "@jupyter-widgets/base",
          "model_name": "LayoutModel",
          "model_module_version": "1.2.0",
          "state": {
            "_model_module": "@jupyter-widgets/base",
            "_model_module_version": "1.2.0",
            "_model_name": "LayoutModel",
            "_view_count": null,
            "_view_module": "@jupyter-widgets/base",
            "_view_module_version": "1.2.0",
            "_view_name": "LayoutView",
            "align_content": null,
            "align_items": null,
            "align_self": null,
            "border": null,
            "bottom": null,
            "display": null,
            "flex": null,
            "flex_flow": null,
            "grid_area": null,
            "grid_auto_columns": null,
            "grid_auto_flow": null,
            "grid_auto_rows": null,
            "grid_column": null,
            "grid_gap": null,
            "grid_row": null,
            "grid_template_areas": null,
            "grid_template_columns": null,
            "grid_template_rows": null,
            "height": null,
            "justify_content": null,
            "justify_items": null,
            "left": null,
            "margin": null,
            "max_height": null,
            "max_width": null,
            "min_height": null,
            "min_width": null,
            "object_fit": null,
            "object_position": null,
            "order": null,
            "overflow": null,
            "overflow_x": null,
            "overflow_y": null,
            "padding": null,
            "right": null,
            "top": null,
            "visibility": null,
            "width": null
          }
        },
        "83f42edd4771465fba23debf57b27724": {
          "model_module": "@jupyter-widgets/controls",
          "model_name": "DescriptionStyleModel",
          "model_module_version": "1.5.0",
          "state": {
            "_model_module": "@jupyter-widgets/controls",
            "_model_module_version": "1.5.0",
            "_model_name": "DescriptionStyleModel",
            "_view_count": null,
            "_view_module": "@jupyter-widgets/base",
            "_view_module_version": "1.2.0",
            "_view_name": "StyleView",
            "description_width": ""
          }
        },
        "c457de16c5944003b54625f504e89f9b": {
          "model_module": "@jupyter-widgets/base",
          "model_name": "LayoutModel",
          "model_module_version": "1.2.0",
          "state": {
            "_model_module": "@jupyter-widgets/base",
            "_model_module_version": "1.2.0",
            "_model_name": "LayoutModel",
            "_view_count": null,
            "_view_module": "@jupyter-widgets/base",
            "_view_module_version": "1.2.0",
            "_view_name": "LayoutView",
            "align_content": null,
            "align_items": null,
            "align_self": null,
            "border": null,
            "bottom": null,
            "display": null,
            "flex": null,
            "flex_flow": null,
            "grid_area": null,
            "grid_auto_columns": null,
            "grid_auto_flow": null,
            "grid_auto_rows": null,
            "grid_column": null,
            "grid_gap": null,
            "grid_row": null,
            "grid_template_areas": null,
            "grid_template_columns": null,
            "grid_template_rows": null,
            "height": null,
            "justify_content": null,
            "justify_items": null,
            "left": null,
            "margin": null,
            "max_height": null,
            "max_width": null,
            "min_height": null,
            "min_width": null,
            "object_fit": null,
            "object_position": null,
            "order": null,
            "overflow": null,
            "overflow_x": null,
            "overflow_y": null,
            "padding": null,
            "right": null,
            "top": null,
            "visibility": null,
            "width": null
          }
        },
        "1af8e3f582d94c38b9aa6fc377a98d25": {
          "model_module": "@jupyter-widgets/controls",
          "model_name": "ProgressStyleModel",
          "model_module_version": "1.5.0",
          "state": {
            "_model_module": "@jupyter-widgets/controls",
            "_model_module_version": "1.5.0",
            "_model_name": "ProgressStyleModel",
            "_view_count": null,
            "_view_module": "@jupyter-widgets/base",
            "_view_module_version": "1.2.0",
            "_view_name": "StyleView",
            "bar_color": null,
            "description_width": ""
          }
        },
        "bc56c9563049421cb259722fdb3a966b": {
          "model_module": "@jupyter-widgets/base",
          "model_name": "LayoutModel",
          "model_module_version": "1.2.0",
          "state": {
            "_model_module": "@jupyter-widgets/base",
            "_model_module_version": "1.2.0",
            "_model_name": "LayoutModel",
            "_view_count": null,
            "_view_module": "@jupyter-widgets/base",
            "_view_module_version": "1.2.0",
            "_view_name": "LayoutView",
            "align_content": null,
            "align_items": null,
            "align_self": null,
            "border": null,
            "bottom": null,
            "display": null,
            "flex": null,
            "flex_flow": null,
            "grid_area": null,
            "grid_auto_columns": null,
            "grid_auto_flow": null,
            "grid_auto_rows": null,
            "grid_column": null,
            "grid_gap": null,
            "grid_row": null,
            "grid_template_areas": null,
            "grid_template_columns": null,
            "grid_template_rows": null,
            "height": null,
            "justify_content": null,
            "justify_items": null,
            "left": null,
            "margin": null,
            "max_height": null,
            "max_width": null,
            "min_height": null,
            "min_width": null,
            "object_fit": null,
            "object_position": null,
            "order": null,
            "overflow": null,
            "overflow_x": null,
            "overflow_y": null,
            "padding": null,
            "right": null,
            "top": null,
            "visibility": null,
            "width": null
          }
        },
        "3baecd03fe1d41bdbfb36a4dd4e36412": {
          "model_module": "@jupyter-widgets/controls",
          "model_name": "DescriptionStyleModel",
          "model_module_version": "1.5.0",
          "state": {
            "_model_module": "@jupyter-widgets/controls",
            "_model_module_version": "1.5.0",
            "_model_name": "DescriptionStyleModel",
            "_view_count": null,
            "_view_module": "@jupyter-widgets/base",
            "_view_module_version": "1.2.0",
            "_view_name": "StyleView",
            "description_width": ""
          }
        },
        "52792ecff1784fea943bff13ca9ddeca": {
          "model_module": "@jupyter-widgets/controls",
          "model_name": "HBoxModel",
          "model_module_version": "1.5.0",
          "state": {
            "_dom_classes": [],
            "_model_module": "@jupyter-widgets/controls",
            "_model_module_version": "1.5.0",
            "_model_name": "HBoxModel",
            "_view_count": null,
            "_view_module": "@jupyter-widgets/controls",
            "_view_module_version": "1.5.0",
            "_view_name": "HBoxView",
            "box_style": "",
            "children": [
              "IPY_MODEL_9e1ba06f824a4d8abd211af1ff930858",
              "IPY_MODEL_69930221ed5c4cc38ad61f267d5a1bf5",
              "IPY_MODEL_64781d68cf1b4b4fa864b1be65c94b84"
            ],
            "layout": "IPY_MODEL_54664670704d444fb3498c3b633d2f22"
          }
        },
        "9e1ba06f824a4d8abd211af1ff930858": {
          "model_module": "@jupyter-widgets/controls",
          "model_name": "HTMLModel",
          "model_module_version": "1.5.0",
          "state": {
            "_dom_classes": [],
            "_model_module": "@jupyter-widgets/controls",
            "_model_module_version": "1.5.0",
            "_model_name": "HTMLModel",
            "_view_count": null,
            "_view_module": "@jupyter-widgets/controls",
            "_view_module_version": "1.5.0",
            "_view_name": "HTMLView",
            "description": "",
            "description_tooltip": null,
            "layout": "IPY_MODEL_ea2d1ff12a9d4663a3b4f4b2cc141dd3",
            "placeholder": "​",
            "style": "IPY_MODEL_556d4d18844f4b999a8f2f9764674f42",
            "value": "Generating train examples...:  99%"
          }
        },
        "69930221ed5c4cc38ad61f267d5a1bf5": {
          "model_module": "@jupyter-widgets/controls",
          "model_name": "FloatProgressModel",
          "model_module_version": "1.5.0",
          "state": {
            "_dom_classes": [],
            "_model_module": "@jupyter-widgets/controls",
            "_model_module_version": "1.5.0",
            "_model_name": "FloatProgressModel",
            "_view_count": null,
            "_view_module": "@jupyter-widgets/controls",
            "_view_module_version": "1.5.0",
            "_view_name": "ProgressView",
            "bar_style": "",
            "description": "",
            "description_tooltip": null,
            "layout": "IPY_MODEL_644a2617c8e94f4489a8618d170a30a4",
            "max": 560000,
            "min": 0,
            "orientation": "horizontal",
            "style": "IPY_MODEL_c2ae3aa3d06d47a188bba655d5903a1a",
            "value": 560000
          }
        },
        "64781d68cf1b4b4fa864b1be65c94b84": {
          "model_module": "@jupyter-widgets/controls",
          "model_name": "HTMLModel",
          "model_module_version": "1.5.0",
          "state": {
            "_dom_classes": [],
            "_model_module": "@jupyter-widgets/controls",
            "_model_module_version": "1.5.0",
            "_model_name": "HTMLModel",
            "_view_count": null,
            "_view_module": "@jupyter-widgets/controls",
            "_view_module_version": "1.5.0",
            "_view_name": "HTMLView",
            "description": "",
            "description_tooltip": null,
            "layout": "IPY_MODEL_b8e126a5b45b4ea0bd495d49558f6b7d",
            "placeholder": "​",
            "style": "IPY_MODEL_358332c0f0fc40c18dab817aa275c1b9",
            "value": " 555413/560000 [00:44&lt;00:00, 12499.04 examples/s]"
          }
        },
        "54664670704d444fb3498c3b633d2f22": {
          "model_module": "@jupyter-widgets/base",
          "model_name": "LayoutModel",
          "model_module_version": "1.2.0",
          "state": {
            "_model_module": "@jupyter-widgets/base",
            "_model_module_version": "1.2.0",
            "_model_name": "LayoutModel",
            "_view_count": null,
            "_view_module": "@jupyter-widgets/base",
            "_view_module_version": "1.2.0",
            "_view_name": "LayoutView",
            "align_content": null,
            "align_items": null,
            "align_self": null,
            "border": null,
            "bottom": null,
            "display": null,
            "flex": null,
            "flex_flow": null,
            "grid_area": null,
            "grid_auto_columns": null,
            "grid_auto_flow": null,
            "grid_auto_rows": null,
            "grid_column": null,
            "grid_gap": null,
            "grid_row": null,
            "grid_template_areas": null,
            "grid_template_columns": null,
            "grid_template_rows": null,
            "height": null,
            "justify_content": null,
            "justify_items": null,
            "left": null,
            "margin": null,
            "max_height": null,
            "max_width": null,
            "min_height": null,
            "min_width": null,
            "object_fit": null,
            "object_position": null,
            "order": null,
            "overflow": null,
            "overflow_x": null,
            "overflow_y": null,
            "padding": null,
            "right": null,
            "top": null,
            "visibility": "hidden",
            "width": null
          }
        },
        "ea2d1ff12a9d4663a3b4f4b2cc141dd3": {
          "model_module": "@jupyter-widgets/base",
          "model_name": "LayoutModel",
          "model_module_version": "1.2.0",
          "state": {
            "_model_module": "@jupyter-widgets/base",
            "_model_module_version": "1.2.0",
            "_model_name": "LayoutModel",
            "_view_count": null,
            "_view_module": "@jupyter-widgets/base",
            "_view_module_version": "1.2.0",
            "_view_name": "LayoutView",
            "align_content": null,
            "align_items": null,
            "align_self": null,
            "border": null,
            "bottom": null,
            "display": null,
            "flex": null,
            "flex_flow": null,
            "grid_area": null,
            "grid_auto_columns": null,
            "grid_auto_flow": null,
            "grid_auto_rows": null,
            "grid_column": null,
            "grid_gap": null,
            "grid_row": null,
            "grid_template_areas": null,
            "grid_template_columns": null,
            "grid_template_rows": null,
            "height": null,
            "justify_content": null,
            "justify_items": null,
            "left": null,
            "margin": null,
            "max_height": null,
            "max_width": null,
            "min_height": null,
            "min_width": null,
            "object_fit": null,
            "object_position": null,
            "order": null,
            "overflow": null,
            "overflow_x": null,
            "overflow_y": null,
            "padding": null,
            "right": null,
            "top": null,
            "visibility": null,
            "width": null
          }
        },
        "556d4d18844f4b999a8f2f9764674f42": {
          "model_module": "@jupyter-widgets/controls",
          "model_name": "DescriptionStyleModel",
          "model_module_version": "1.5.0",
          "state": {
            "_model_module": "@jupyter-widgets/controls",
            "_model_module_version": "1.5.0",
            "_model_name": "DescriptionStyleModel",
            "_view_count": null,
            "_view_module": "@jupyter-widgets/base",
            "_view_module_version": "1.2.0",
            "_view_name": "StyleView",
            "description_width": ""
          }
        },
        "644a2617c8e94f4489a8618d170a30a4": {
          "model_module": "@jupyter-widgets/base",
          "model_name": "LayoutModel",
          "model_module_version": "1.2.0",
          "state": {
            "_model_module": "@jupyter-widgets/base",
            "_model_module_version": "1.2.0",
            "_model_name": "LayoutModel",
            "_view_count": null,
            "_view_module": "@jupyter-widgets/base",
            "_view_module_version": "1.2.0",
            "_view_name": "LayoutView",
            "align_content": null,
            "align_items": null,
            "align_self": null,
            "border": null,
            "bottom": null,
            "display": null,
            "flex": null,
            "flex_flow": null,
            "grid_area": null,
            "grid_auto_columns": null,
            "grid_auto_flow": null,
            "grid_auto_rows": null,
            "grid_column": null,
            "grid_gap": null,
            "grid_row": null,
            "grid_template_areas": null,
            "grid_template_columns": null,
            "grid_template_rows": null,
            "height": null,
            "justify_content": null,
            "justify_items": null,
            "left": null,
            "margin": null,
            "max_height": null,
            "max_width": null,
            "min_height": null,
            "min_width": null,
            "object_fit": null,
            "object_position": null,
            "order": null,
            "overflow": null,
            "overflow_x": null,
            "overflow_y": null,
            "padding": null,
            "right": null,
            "top": null,
            "visibility": null,
            "width": null
          }
        },
        "c2ae3aa3d06d47a188bba655d5903a1a": {
          "model_module": "@jupyter-widgets/controls",
          "model_name": "ProgressStyleModel",
          "model_module_version": "1.5.0",
          "state": {
            "_model_module": "@jupyter-widgets/controls",
            "_model_module_version": "1.5.0",
            "_model_name": "ProgressStyleModel",
            "_view_count": null,
            "_view_module": "@jupyter-widgets/base",
            "_view_module_version": "1.2.0",
            "_view_name": "StyleView",
            "bar_color": null,
            "description_width": ""
          }
        },
        "b8e126a5b45b4ea0bd495d49558f6b7d": {
          "model_module": "@jupyter-widgets/base",
          "model_name": "LayoutModel",
          "model_module_version": "1.2.0",
          "state": {
            "_model_module": "@jupyter-widgets/base",
            "_model_module_version": "1.2.0",
            "_model_name": "LayoutModel",
            "_view_count": null,
            "_view_module": "@jupyter-widgets/base",
            "_view_module_version": "1.2.0",
            "_view_name": "LayoutView",
            "align_content": null,
            "align_items": null,
            "align_self": null,
            "border": null,
            "bottom": null,
            "display": null,
            "flex": null,
            "flex_flow": null,
            "grid_area": null,
            "grid_auto_columns": null,
            "grid_auto_flow": null,
            "grid_auto_rows": null,
            "grid_column": null,
            "grid_gap": null,
            "grid_row": null,
            "grid_template_areas": null,
            "grid_template_columns": null,
            "grid_template_rows": null,
            "height": null,
            "justify_content": null,
            "justify_items": null,
            "left": null,
            "margin": null,
            "max_height": null,
            "max_width": null,
            "min_height": null,
            "min_width": null,
            "object_fit": null,
            "object_position": null,
            "order": null,
            "overflow": null,
            "overflow_x": null,
            "overflow_y": null,
            "padding": null,
            "right": null,
            "top": null,
            "visibility": null,
            "width": null
          }
        },
        "358332c0f0fc40c18dab817aa275c1b9": {
          "model_module": "@jupyter-widgets/controls",
          "model_name": "DescriptionStyleModel",
          "model_module_version": "1.5.0",
          "state": {
            "_model_module": "@jupyter-widgets/controls",
            "_model_module_version": "1.5.0",
            "_model_name": "DescriptionStyleModel",
            "_view_count": null,
            "_view_module": "@jupyter-widgets/base",
            "_view_module_version": "1.2.0",
            "_view_name": "StyleView",
            "description_width": ""
          }
        },
        "b0cabb22536b4a749bd1e93b6362c742": {
          "model_module": "@jupyter-widgets/controls",
          "model_name": "HBoxModel",
          "model_module_version": "1.5.0",
          "state": {
            "_dom_classes": [],
            "_model_module": "@jupyter-widgets/controls",
            "_model_module_version": "1.5.0",
            "_model_name": "HBoxModel",
            "_view_count": null,
            "_view_module": "@jupyter-widgets/controls",
            "_view_module_version": "1.5.0",
            "_view_name": "HBoxView",
            "box_style": "",
            "children": [
              "IPY_MODEL_dad6c60ea0ec47e7aeedeb70ea39e7a0",
              "IPY_MODEL_bafdaf2dcff4440fbf2db6d9e29b3036",
              "IPY_MODEL_a22b7425a61349469ed8ab901b16d10a"
            ],
            "layout": "IPY_MODEL_5656585bcea14391adec0ee8abc149cb"
          }
        },
        "dad6c60ea0ec47e7aeedeb70ea39e7a0": {
          "model_module": "@jupyter-widgets/controls",
          "model_name": "HTMLModel",
          "model_module_version": "1.5.0",
          "state": {
            "_dom_classes": [],
            "_model_module": "@jupyter-widgets/controls",
            "_model_module_version": "1.5.0",
            "_model_name": "HTMLModel",
            "_view_count": null,
            "_view_module": "@jupyter-widgets/controls",
            "_view_module_version": "1.5.0",
            "_view_name": "HTMLView",
            "description": "",
            "description_tooltip": null,
            "layout": "IPY_MODEL_64961fc9323a41dc9902bcd635520917",
            "placeholder": "​",
            "style": "IPY_MODEL_5e3542ff2f904826a3080880037db9dc",
            "value": "Shuffling data/yelp_polarity_reviews/yelp_polarity_reviews/0.2.0.incompleteWSV8ZD/yelp_polarity_reviews-train.tfrecord*...:  98%"
          }
        },
        "bafdaf2dcff4440fbf2db6d9e29b3036": {
          "model_module": "@jupyter-widgets/controls",
          "model_name": "FloatProgressModel",
          "model_module_version": "1.5.0",
          "state": {
            "_dom_classes": [],
            "_model_module": "@jupyter-widgets/controls",
            "_model_module_version": "1.5.0",
            "_model_name": "FloatProgressModel",
            "_view_count": null,
            "_view_module": "@jupyter-widgets/controls",
            "_view_module_version": "1.5.0",
            "_view_name": "ProgressView",
            "bar_style": "",
            "description": "",
            "description_tooltip": null,
            "layout": "IPY_MODEL_dfaf22a9810e4669b8c7665b10b53b6a",
            "max": 560000,
            "min": 0,
            "orientation": "horizontal",
            "style": "IPY_MODEL_d652295657934defabad3bc3cf34333b",
            "value": 560000
          }
        },
        "a22b7425a61349469ed8ab901b16d10a": {
          "model_module": "@jupyter-widgets/controls",
          "model_name": "HTMLModel",
          "model_module_version": "1.5.0",
          "state": {
            "_dom_classes": [],
            "_model_module": "@jupyter-widgets/controls",
            "_model_module_version": "1.5.0",
            "_model_name": "HTMLModel",
            "_view_count": null,
            "_view_module": "@jupyter-widgets/controls",
            "_view_module_version": "1.5.0",
            "_view_name": "HTMLView",
            "description": "",
            "description_tooltip": null,
            "layout": "IPY_MODEL_36cdbfbd629947a0b0a931e7c337dd1e",
            "placeholder": "​",
            "style": "IPY_MODEL_03e8345baa9d4971bf2eaeedc0c2c542",
            "value": " 548003/560000 [00:02&lt;00:00, 260331.99 examples/s]"
          }
        },
        "5656585bcea14391adec0ee8abc149cb": {
          "model_module": "@jupyter-widgets/base",
          "model_name": "LayoutModel",
          "model_module_version": "1.2.0",
          "state": {
            "_model_module": "@jupyter-widgets/base",
            "_model_module_version": "1.2.0",
            "_model_name": "LayoutModel",
            "_view_count": null,
            "_view_module": "@jupyter-widgets/base",
            "_view_module_version": "1.2.0",
            "_view_name": "LayoutView",
            "align_content": null,
            "align_items": null,
            "align_self": null,
            "border": null,
            "bottom": null,
            "display": null,
            "flex": null,
            "flex_flow": null,
            "grid_area": null,
            "grid_auto_columns": null,
            "grid_auto_flow": null,
            "grid_auto_rows": null,
            "grid_column": null,
            "grid_gap": null,
            "grid_row": null,
            "grid_template_areas": null,
            "grid_template_columns": null,
            "grid_template_rows": null,
            "height": null,
            "justify_content": null,
            "justify_items": null,
            "left": null,
            "margin": null,
            "max_height": null,
            "max_width": null,
            "min_height": null,
            "min_width": null,
            "object_fit": null,
            "object_position": null,
            "order": null,
            "overflow": null,
            "overflow_x": null,
            "overflow_y": null,
            "padding": null,
            "right": null,
            "top": null,
            "visibility": "hidden",
            "width": null
          }
        },
        "64961fc9323a41dc9902bcd635520917": {
          "model_module": "@jupyter-widgets/base",
          "model_name": "LayoutModel",
          "model_module_version": "1.2.0",
          "state": {
            "_model_module": "@jupyter-widgets/base",
            "_model_module_version": "1.2.0",
            "_model_name": "LayoutModel",
            "_view_count": null,
            "_view_module": "@jupyter-widgets/base",
            "_view_module_version": "1.2.0",
            "_view_name": "LayoutView",
            "align_content": null,
            "align_items": null,
            "align_self": null,
            "border": null,
            "bottom": null,
            "display": null,
            "flex": null,
            "flex_flow": null,
            "grid_area": null,
            "grid_auto_columns": null,
            "grid_auto_flow": null,
            "grid_auto_rows": null,
            "grid_column": null,
            "grid_gap": null,
            "grid_row": null,
            "grid_template_areas": null,
            "grid_template_columns": null,
            "grid_template_rows": null,
            "height": null,
            "justify_content": null,
            "justify_items": null,
            "left": null,
            "margin": null,
            "max_height": null,
            "max_width": null,
            "min_height": null,
            "min_width": null,
            "object_fit": null,
            "object_position": null,
            "order": null,
            "overflow": null,
            "overflow_x": null,
            "overflow_y": null,
            "padding": null,
            "right": null,
            "top": null,
            "visibility": null,
            "width": null
          }
        },
        "5e3542ff2f904826a3080880037db9dc": {
          "model_module": "@jupyter-widgets/controls",
          "model_name": "DescriptionStyleModel",
          "model_module_version": "1.5.0",
          "state": {
            "_model_module": "@jupyter-widgets/controls",
            "_model_module_version": "1.5.0",
            "_model_name": "DescriptionStyleModel",
            "_view_count": null,
            "_view_module": "@jupyter-widgets/base",
            "_view_module_version": "1.2.0",
            "_view_name": "StyleView",
            "description_width": ""
          }
        },
        "dfaf22a9810e4669b8c7665b10b53b6a": {
          "model_module": "@jupyter-widgets/base",
          "model_name": "LayoutModel",
          "model_module_version": "1.2.0",
          "state": {
            "_model_module": "@jupyter-widgets/base",
            "_model_module_version": "1.2.0",
            "_model_name": "LayoutModel",
            "_view_count": null,
            "_view_module": "@jupyter-widgets/base",
            "_view_module_version": "1.2.0",
            "_view_name": "LayoutView",
            "align_content": null,
            "align_items": null,
            "align_self": null,
            "border": null,
            "bottom": null,
            "display": null,
            "flex": null,
            "flex_flow": null,
            "grid_area": null,
            "grid_auto_columns": null,
            "grid_auto_flow": null,
            "grid_auto_rows": null,
            "grid_column": null,
            "grid_gap": null,
            "grid_row": null,
            "grid_template_areas": null,
            "grid_template_columns": null,
            "grid_template_rows": null,
            "height": null,
            "justify_content": null,
            "justify_items": null,
            "left": null,
            "margin": null,
            "max_height": null,
            "max_width": null,
            "min_height": null,
            "min_width": null,
            "object_fit": null,
            "object_position": null,
            "order": null,
            "overflow": null,
            "overflow_x": null,
            "overflow_y": null,
            "padding": null,
            "right": null,
            "top": null,
            "visibility": null,
            "width": null
          }
        },
        "d652295657934defabad3bc3cf34333b": {
          "model_module": "@jupyter-widgets/controls",
          "model_name": "ProgressStyleModel",
          "model_module_version": "1.5.0",
          "state": {
            "_model_module": "@jupyter-widgets/controls",
            "_model_module_version": "1.5.0",
            "_model_name": "ProgressStyleModel",
            "_view_count": null,
            "_view_module": "@jupyter-widgets/base",
            "_view_module_version": "1.2.0",
            "_view_name": "StyleView",
            "bar_color": null,
            "description_width": ""
          }
        },
        "36cdbfbd629947a0b0a931e7c337dd1e": {
          "model_module": "@jupyter-widgets/base",
          "model_name": "LayoutModel",
          "model_module_version": "1.2.0",
          "state": {
            "_model_module": "@jupyter-widgets/base",
            "_model_module_version": "1.2.0",
            "_model_name": "LayoutModel",
            "_view_count": null,
            "_view_module": "@jupyter-widgets/base",
            "_view_module_version": "1.2.0",
            "_view_name": "LayoutView",
            "align_content": null,
            "align_items": null,
            "align_self": null,
            "border": null,
            "bottom": null,
            "display": null,
            "flex": null,
            "flex_flow": null,
            "grid_area": null,
            "grid_auto_columns": null,
            "grid_auto_flow": null,
            "grid_auto_rows": null,
            "grid_column": null,
            "grid_gap": null,
            "grid_row": null,
            "grid_template_areas": null,
            "grid_template_columns": null,
            "grid_template_rows": null,
            "height": null,
            "justify_content": null,
            "justify_items": null,
            "left": null,
            "margin": null,
            "max_height": null,
            "max_width": null,
            "min_height": null,
            "min_width": null,
            "object_fit": null,
            "object_position": null,
            "order": null,
            "overflow": null,
            "overflow_x": null,
            "overflow_y": null,
            "padding": null,
            "right": null,
            "top": null,
            "visibility": null,
            "width": null
          }
        },
        "03e8345baa9d4971bf2eaeedc0c2c542": {
          "model_module": "@jupyter-widgets/controls",
          "model_name": "DescriptionStyleModel",
          "model_module_version": "1.5.0",
          "state": {
            "_model_module": "@jupyter-widgets/controls",
            "_model_module_version": "1.5.0",
            "_model_name": "DescriptionStyleModel",
            "_view_count": null,
            "_view_module": "@jupyter-widgets/base",
            "_view_module_version": "1.2.0",
            "_view_name": "StyleView",
            "description_width": ""
          }
        },
        "5350a8611ecf4db7bd1e988525785d4a": {
          "model_module": "@jupyter-widgets/controls",
          "model_name": "HBoxModel",
          "model_module_version": "1.5.0",
          "state": {
            "_dom_classes": [],
            "_model_module": "@jupyter-widgets/controls",
            "_model_module_version": "1.5.0",
            "_model_name": "HBoxModel",
            "_view_count": null,
            "_view_module": "@jupyter-widgets/controls",
            "_view_module_version": "1.5.0",
            "_view_name": "HBoxView",
            "box_style": "",
            "children": [
              "IPY_MODEL_a176d7e761af42d28a70c4484432f58f",
              "IPY_MODEL_a0a23c860e3d41e49e9c708ce404289d",
              "IPY_MODEL_b91b238c05994fb48c7737e9809d377b"
            ],
            "layout": "IPY_MODEL_d78cdaaf6dc04c77860b340fdd1fe79b"
          }
        },
        "a176d7e761af42d28a70c4484432f58f": {
          "model_module": "@jupyter-widgets/controls",
          "model_name": "HTMLModel",
          "model_module_version": "1.5.0",
          "state": {
            "_dom_classes": [],
            "_model_module": "@jupyter-widgets/controls",
            "_model_module_version": "1.5.0",
            "_model_name": "HTMLModel",
            "_view_count": null,
            "_view_module": "@jupyter-widgets/controls",
            "_view_module_version": "1.5.0",
            "_view_name": "HTMLView",
            "description": "",
            "description_tooltip": null,
            "layout": "IPY_MODEL_bc1eae6abbce48c8990c54e2d62ccbb2",
            "placeholder": "​",
            "style": "IPY_MODEL_40d3905ad5494536b9be1b7e88645da4",
            "value": "Generating test examples...:  68%"
          }
        },
        "a0a23c860e3d41e49e9c708ce404289d": {
          "model_module": "@jupyter-widgets/controls",
          "model_name": "FloatProgressModel",
          "model_module_version": "1.5.0",
          "state": {
            "_dom_classes": [],
            "_model_module": "@jupyter-widgets/controls",
            "_model_module_version": "1.5.0",
            "_model_name": "FloatProgressModel",
            "_view_count": null,
            "_view_module": "@jupyter-widgets/controls",
            "_view_module_version": "1.5.0",
            "_view_name": "ProgressView",
            "bar_style": "",
            "description": "",
            "description_tooltip": null,
            "layout": "IPY_MODEL_3993939b04d24d0ea7562aa8f2e06b69",
            "max": 38000,
            "min": 0,
            "orientation": "horizontal",
            "style": "IPY_MODEL_1e685fcc5b9948f4b92c5dca0a1aa182",
            "value": 38000
          }
        },
        "b91b238c05994fb48c7737e9809d377b": {
          "model_module": "@jupyter-widgets/controls",
          "model_name": "HTMLModel",
          "model_module_version": "1.5.0",
          "state": {
            "_dom_classes": [],
            "_model_module": "@jupyter-widgets/controls",
            "_model_module_version": "1.5.0",
            "_model_name": "HTMLModel",
            "_view_count": null,
            "_view_module": "@jupyter-widgets/controls",
            "_view_module_version": "1.5.0",
            "_view_name": "HTMLView",
            "description": "",
            "description_tooltip": null,
            "layout": "IPY_MODEL_62d7bb7df7b2405dbb66dbdd594e497c",
            "placeholder": "​",
            "style": "IPY_MODEL_1ffd3f915506448eba0fd1472a42f7d4",
            "value": " 25691/38000 [00:02&lt;00:00, 13073.46 examples/s]"
          }
        },
        "d78cdaaf6dc04c77860b340fdd1fe79b": {
          "model_module": "@jupyter-widgets/base",
          "model_name": "LayoutModel",
          "model_module_version": "1.2.0",
          "state": {
            "_model_module": "@jupyter-widgets/base",
            "_model_module_version": "1.2.0",
            "_model_name": "LayoutModel",
            "_view_count": null,
            "_view_module": "@jupyter-widgets/base",
            "_view_module_version": "1.2.0",
            "_view_name": "LayoutView",
            "align_content": null,
            "align_items": null,
            "align_self": null,
            "border": null,
            "bottom": null,
            "display": null,
            "flex": null,
            "flex_flow": null,
            "grid_area": null,
            "grid_auto_columns": null,
            "grid_auto_flow": null,
            "grid_auto_rows": null,
            "grid_column": null,
            "grid_gap": null,
            "grid_row": null,
            "grid_template_areas": null,
            "grid_template_columns": null,
            "grid_template_rows": null,
            "height": null,
            "justify_content": null,
            "justify_items": null,
            "left": null,
            "margin": null,
            "max_height": null,
            "max_width": null,
            "min_height": null,
            "min_width": null,
            "object_fit": null,
            "object_position": null,
            "order": null,
            "overflow": null,
            "overflow_x": null,
            "overflow_y": null,
            "padding": null,
            "right": null,
            "top": null,
            "visibility": "hidden",
            "width": null
          }
        },
        "bc1eae6abbce48c8990c54e2d62ccbb2": {
          "model_module": "@jupyter-widgets/base",
          "model_name": "LayoutModel",
          "model_module_version": "1.2.0",
          "state": {
            "_model_module": "@jupyter-widgets/base",
            "_model_module_version": "1.2.0",
            "_model_name": "LayoutModel",
            "_view_count": null,
            "_view_module": "@jupyter-widgets/base",
            "_view_module_version": "1.2.0",
            "_view_name": "LayoutView",
            "align_content": null,
            "align_items": null,
            "align_self": null,
            "border": null,
            "bottom": null,
            "display": null,
            "flex": null,
            "flex_flow": null,
            "grid_area": null,
            "grid_auto_columns": null,
            "grid_auto_flow": null,
            "grid_auto_rows": null,
            "grid_column": null,
            "grid_gap": null,
            "grid_row": null,
            "grid_template_areas": null,
            "grid_template_columns": null,
            "grid_template_rows": null,
            "height": null,
            "justify_content": null,
            "justify_items": null,
            "left": null,
            "margin": null,
            "max_height": null,
            "max_width": null,
            "min_height": null,
            "min_width": null,
            "object_fit": null,
            "object_position": null,
            "order": null,
            "overflow": null,
            "overflow_x": null,
            "overflow_y": null,
            "padding": null,
            "right": null,
            "top": null,
            "visibility": null,
            "width": null
          }
        },
        "40d3905ad5494536b9be1b7e88645da4": {
          "model_module": "@jupyter-widgets/controls",
          "model_name": "DescriptionStyleModel",
          "model_module_version": "1.5.0",
          "state": {
            "_model_module": "@jupyter-widgets/controls",
            "_model_module_version": "1.5.0",
            "_model_name": "DescriptionStyleModel",
            "_view_count": null,
            "_view_module": "@jupyter-widgets/base",
            "_view_module_version": "1.2.0",
            "_view_name": "StyleView",
            "description_width": ""
          }
        },
        "3993939b04d24d0ea7562aa8f2e06b69": {
          "model_module": "@jupyter-widgets/base",
          "model_name": "LayoutModel",
          "model_module_version": "1.2.0",
          "state": {
            "_model_module": "@jupyter-widgets/base",
            "_model_module_version": "1.2.0",
            "_model_name": "LayoutModel",
            "_view_count": null,
            "_view_module": "@jupyter-widgets/base",
            "_view_module_version": "1.2.0",
            "_view_name": "LayoutView",
            "align_content": null,
            "align_items": null,
            "align_self": null,
            "border": null,
            "bottom": null,
            "display": null,
            "flex": null,
            "flex_flow": null,
            "grid_area": null,
            "grid_auto_columns": null,
            "grid_auto_flow": null,
            "grid_auto_rows": null,
            "grid_column": null,
            "grid_gap": null,
            "grid_row": null,
            "grid_template_areas": null,
            "grid_template_columns": null,
            "grid_template_rows": null,
            "height": null,
            "justify_content": null,
            "justify_items": null,
            "left": null,
            "margin": null,
            "max_height": null,
            "max_width": null,
            "min_height": null,
            "min_width": null,
            "object_fit": null,
            "object_position": null,
            "order": null,
            "overflow": null,
            "overflow_x": null,
            "overflow_y": null,
            "padding": null,
            "right": null,
            "top": null,
            "visibility": null,
            "width": null
          }
        },
        "1e685fcc5b9948f4b92c5dca0a1aa182": {
          "model_module": "@jupyter-widgets/controls",
          "model_name": "ProgressStyleModel",
          "model_module_version": "1.5.0",
          "state": {
            "_model_module": "@jupyter-widgets/controls",
            "_model_module_version": "1.5.0",
            "_model_name": "ProgressStyleModel",
            "_view_count": null,
            "_view_module": "@jupyter-widgets/base",
            "_view_module_version": "1.2.0",
            "_view_name": "StyleView",
            "bar_color": null,
            "description_width": ""
          }
        },
        "62d7bb7df7b2405dbb66dbdd594e497c": {
          "model_module": "@jupyter-widgets/base",
          "model_name": "LayoutModel",
          "model_module_version": "1.2.0",
          "state": {
            "_model_module": "@jupyter-widgets/base",
            "_model_module_version": "1.2.0",
            "_model_name": "LayoutModel",
            "_view_count": null,
            "_view_module": "@jupyter-widgets/base",
            "_view_module_version": "1.2.0",
            "_view_name": "LayoutView",
            "align_content": null,
            "align_items": null,
            "align_self": null,
            "border": null,
            "bottom": null,
            "display": null,
            "flex": null,
            "flex_flow": null,
            "grid_area": null,
            "grid_auto_columns": null,
            "grid_auto_flow": null,
            "grid_auto_rows": null,
            "grid_column": null,
            "grid_gap": null,
            "grid_row": null,
            "grid_template_areas": null,
            "grid_template_columns": null,
            "grid_template_rows": null,
            "height": null,
            "justify_content": null,
            "justify_items": null,
            "left": null,
            "margin": null,
            "max_height": null,
            "max_width": null,
            "min_height": null,
            "min_width": null,
            "object_fit": null,
            "object_position": null,
            "order": null,
            "overflow": null,
            "overflow_x": null,
            "overflow_y": null,
            "padding": null,
            "right": null,
            "top": null,
            "visibility": null,
            "width": null
          }
        },
        "1ffd3f915506448eba0fd1472a42f7d4": {
          "model_module": "@jupyter-widgets/controls",
          "model_name": "DescriptionStyleModel",
          "model_module_version": "1.5.0",
          "state": {
            "_model_module": "@jupyter-widgets/controls",
            "_model_module_version": "1.5.0",
            "_model_name": "DescriptionStyleModel",
            "_view_count": null,
            "_view_module": "@jupyter-widgets/base",
            "_view_module_version": "1.2.0",
            "_view_name": "StyleView",
            "description_width": ""
          }
        },
        "cfcc91c8e2ba43bf94a7923eb3772d41": {
          "model_module": "@jupyter-widgets/controls",
          "model_name": "HBoxModel",
          "model_module_version": "1.5.0",
          "state": {
            "_dom_classes": [],
            "_model_module": "@jupyter-widgets/controls",
            "_model_module_version": "1.5.0",
            "_model_name": "HBoxModel",
            "_view_count": null,
            "_view_module": "@jupyter-widgets/controls",
            "_view_module_version": "1.5.0",
            "_view_name": "HBoxView",
            "box_style": "",
            "children": [
              "IPY_MODEL_17f13b213e224d19825a1d679c350b1e",
              "IPY_MODEL_ba9083d828ae4fe48d8b93e3b57ba3b7",
              "IPY_MODEL_50640f09e8f0434b9bc045a40b59cd69"
            ],
            "layout": "IPY_MODEL_aefb7f7367cc4695b5082e63c5783ed7"
          }
        },
        "17f13b213e224d19825a1d679c350b1e": {
          "model_module": "@jupyter-widgets/controls",
          "model_name": "HTMLModel",
          "model_module_version": "1.5.0",
          "state": {
            "_dom_classes": [],
            "_model_module": "@jupyter-widgets/controls",
            "_model_module_version": "1.5.0",
            "_model_name": "HTMLModel",
            "_view_count": null,
            "_view_module": "@jupyter-widgets/controls",
            "_view_module_version": "1.5.0",
            "_view_name": "HTMLView",
            "description": "",
            "description_tooltip": null,
            "layout": "IPY_MODEL_2ec5c0ed74174581813fdb181feb06d1",
            "placeholder": "​",
            "style": "IPY_MODEL_d1f8f8a2509d47809979714dfb5477a6",
            "value": "Shuffling data/yelp_polarity_reviews/yelp_polarity_reviews/0.2.0.incompleteWSV8ZD/yelp_polarity_reviews-test.tfrecord*...:  46%"
          }
        },
        "ba9083d828ae4fe48d8b93e3b57ba3b7": {
          "model_module": "@jupyter-widgets/controls",
          "model_name": "FloatProgressModel",
          "model_module_version": "1.5.0",
          "state": {
            "_dom_classes": [],
            "_model_module": "@jupyter-widgets/controls",
            "_model_module_version": "1.5.0",
            "_model_name": "FloatProgressModel",
            "_view_count": null,
            "_view_module": "@jupyter-widgets/controls",
            "_view_module_version": "1.5.0",
            "_view_name": "ProgressView",
            "bar_style": "",
            "description": "",
            "description_tooltip": null,
            "layout": "IPY_MODEL_939c07202f7c46aca089d66aed138f34",
            "max": 38000,
            "min": 0,
            "orientation": "horizontal",
            "style": "IPY_MODEL_99349f9715d946cb8e3dda8c4babc03b",
            "value": 38000
          }
        },
        "50640f09e8f0434b9bc045a40b59cd69": {
          "model_module": "@jupyter-widgets/controls",
          "model_name": "HTMLModel",
          "model_module_version": "1.5.0",
          "state": {
            "_dom_classes": [],
            "_model_module": "@jupyter-widgets/controls",
            "_model_module_version": "1.5.0",
            "_model_name": "HTMLModel",
            "_view_count": null,
            "_view_module": "@jupyter-widgets/controls",
            "_view_module_version": "1.5.0",
            "_view_name": "HTMLView",
            "description": "",
            "description_tooltip": null,
            "layout": "IPY_MODEL_254416a22a70447d846969240327bba4",
            "placeholder": "​",
            "style": "IPY_MODEL_6e44059dd2764d25a7a05c1a368ff595",
            "value": " 17290/38000 [00:00&lt;00:00, 172882.03 examples/s]"
          }
        },
        "aefb7f7367cc4695b5082e63c5783ed7": {
          "model_module": "@jupyter-widgets/base",
          "model_name": "LayoutModel",
          "model_module_version": "1.2.0",
          "state": {
            "_model_module": "@jupyter-widgets/base",
            "_model_module_version": "1.2.0",
            "_model_name": "LayoutModel",
            "_view_count": null,
            "_view_module": "@jupyter-widgets/base",
            "_view_module_version": "1.2.0",
            "_view_name": "LayoutView",
            "align_content": null,
            "align_items": null,
            "align_self": null,
            "border": null,
            "bottom": null,
            "display": null,
            "flex": null,
            "flex_flow": null,
            "grid_area": null,
            "grid_auto_columns": null,
            "grid_auto_flow": null,
            "grid_auto_rows": null,
            "grid_column": null,
            "grid_gap": null,
            "grid_row": null,
            "grid_template_areas": null,
            "grid_template_columns": null,
            "grid_template_rows": null,
            "height": null,
            "justify_content": null,
            "justify_items": null,
            "left": null,
            "margin": null,
            "max_height": null,
            "max_width": null,
            "min_height": null,
            "min_width": null,
            "object_fit": null,
            "object_position": null,
            "order": null,
            "overflow": null,
            "overflow_x": null,
            "overflow_y": null,
            "padding": null,
            "right": null,
            "top": null,
            "visibility": "hidden",
            "width": null
          }
        },
        "2ec5c0ed74174581813fdb181feb06d1": {
          "model_module": "@jupyter-widgets/base",
          "model_name": "LayoutModel",
          "model_module_version": "1.2.0",
          "state": {
            "_model_module": "@jupyter-widgets/base",
            "_model_module_version": "1.2.0",
            "_model_name": "LayoutModel",
            "_view_count": null,
            "_view_module": "@jupyter-widgets/base",
            "_view_module_version": "1.2.0",
            "_view_name": "LayoutView",
            "align_content": null,
            "align_items": null,
            "align_self": null,
            "border": null,
            "bottom": null,
            "display": null,
            "flex": null,
            "flex_flow": null,
            "grid_area": null,
            "grid_auto_columns": null,
            "grid_auto_flow": null,
            "grid_auto_rows": null,
            "grid_column": null,
            "grid_gap": null,
            "grid_row": null,
            "grid_template_areas": null,
            "grid_template_columns": null,
            "grid_template_rows": null,
            "height": null,
            "justify_content": null,
            "justify_items": null,
            "left": null,
            "margin": null,
            "max_height": null,
            "max_width": null,
            "min_height": null,
            "min_width": null,
            "object_fit": null,
            "object_position": null,
            "order": null,
            "overflow": null,
            "overflow_x": null,
            "overflow_y": null,
            "padding": null,
            "right": null,
            "top": null,
            "visibility": null,
            "width": null
          }
        },
        "d1f8f8a2509d47809979714dfb5477a6": {
          "model_module": "@jupyter-widgets/controls",
          "model_name": "DescriptionStyleModel",
          "model_module_version": "1.5.0",
          "state": {
            "_model_module": "@jupyter-widgets/controls",
            "_model_module_version": "1.5.0",
            "_model_name": "DescriptionStyleModel",
            "_view_count": null,
            "_view_module": "@jupyter-widgets/base",
            "_view_module_version": "1.2.0",
            "_view_name": "StyleView",
            "description_width": ""
          }
        },
        "939c07202f7c46aca089d66aed138f34": {
          "model_module": "@jupyter-widgets/base",
          "model_name": "LayoutModel",
          "model_module_version": "1.2.0",
          "state": {
            "_model_module": "@jupyter-widgets/base",
            "_model_module_version": "1.2.0",
            "_model_name": "LayoutModel",
            "_view_count": null,
            "_view_module": "@jupyter-widgets/base",
            "_view_module_version": "1.2.0",
            "_view_name": "LayoutView",
            "align_content": null,
            "align_items": null,
            "align_self": null,
            "border": null,
            "bottom": null,
            "display": null,
            "flex": null,
            "flex_flow": null,
            "grid_area": null,
            "grid_auto_columns": null,
            "grid_auto_flow": null,
            "grid_auto_rows": null,
            "grid_column": null,
            "grid_gap": null,
            "grid_row": null,
            "grid_template_areas": null,
            "grid_template_columns": null,
            "grid_template_rows": null,
            "height": null,
            "justify_content": null,
            "justify_items": null,
            "left": null,
            "margin": null,
            "max_height": null,
            "max_width": null,
            "min_height": null,
            "min_width": null,
            "object_fit": null,
            "object_position": null,
            "order": null,
            "overflow": null,
            "overflow_x": null,
            "overflow_y": null,
            "padding": null,
            "right": null,
            "top": null,
            "visibility": null,
            "width": null
          }
        },
        "99349f9715d946cb8e3dda8c4babc03b": {
          "model_module": "@jupyter-widgets/controls",
          "model_name": "ProgressStyleModel",
          "model_module_version": "1.5.0",
          "state": {
            "_model_module": "@jupyter-widgets/controls",
            "_model_module_version": "1.5.0",
            "_model_name": "ProgressStyleModel",
            "_view_count": null,
            "_view_module": "@jupyter-widgets/base",
            "_view_module_version": "1.2.0",
            "_view_name": "StyleView",
            "bar_color": null,
            "description_width": ""
          }
        },
        "254416a22a70447d846969240327bba4": {
          "model_module": "@jupyter-widgets/base",
          "model_name": "LayoutModel",
          "model_module_version": "1.2.0",
          "state": {
            "_model_module": "@jupyter-widgets/base",
            "_model_module_version": "1.2.0",
            "_model_name": "LayoutModel",
            "_view_count": null,
            "_view_module": "@jupyter-widgets/base",
            "_view_module_version": "1.2.0",
            "_view_name": "LayoutView",
            "align_content": null,
            "align_items": null,
            "align_self": null,
            "border": null,
            "bottom": null,
            "display": null,
            "flex": null,
            "flex_flow": null,
            "grid_area": null,
            "grid_auto_columns": null,
            "grid_auto_flow": null,
            "grid_auto_rows": null,
            "grid_column": null,
            "grid_gap": null,
            "grid_row": null,
            "grid_template_areas": null,
            "grid_template_columns": null,
            "grid_template_rows": null,
            "height": null,
            "justify_content": null,
            "justify_items": null,
            "left": null,
            "margin": null,
            "max_height": null,
            "max_width": null,
            "min_height": null,
            "min_width": null,
            "object_fit": null,
            "object_position": null,
            "order": null,
            "overflow": null,
            "overflow_x": null,
            "overflow_y": null,
            "padding": null,
            "right": null,
            "top": null,
            "visibility": null,
            "width": null
          }
        },
        "6e44059dd2764d25a7a05c1a368ff595": {
          "model_module": "@jupyter-widgets/controls",
          "model_name": "DescriptionStyleModel",
          "model_module_version": "1.5.0",
          "state": {
            "_model_module": "@jupyter-widgets/controls",
            "_model_module_version": "1.5.0",
            "_model_name": "DescriptionStyleModel",
            "_view_count": null,
            "_view_module": "@jupyter-widgets/base",
            "_view_module_version": "1.2.0",
            "_view_name": "StyleView",
            "description_width": ""
          }
        }
      }
    }
  },
  "nbformat": 4,
  "nbformat_minor": 5
}