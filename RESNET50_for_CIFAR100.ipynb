{
  "nbformat": 4,
  "nbformat_minor": 0,
  "metadata": {
    "colab": {
      "provenance": [],
      "gpuType": "T4",
      "include_colab_link": true
    },
    "kernelspec": {
      "name": "python3",
      "display_name": "Python 3"
    },
    "language_info": {
      "name": "python"
    },
    "accelerator": "GPU"
  },
  "cells": [
    {
      "cell_type": "markdown",
      "metadata": {
        "id": "view-in-github",
        "colab_type": "text"
      },
      "source": [
        "<a href=\"https://colab.research.google.com/github/FAtheme/ML-Fall2023/blob/main/RESNET50_for_CIFAR100.ipynb\" target=\"_parent\"><img src=\"https://colab.research.google.com/assets/colab-badge.svg\" alt=\"Open In Colab\"/></a>"
      ]
    },
    {
      "cell_type": "markdown",
      "source": [
        "## Importing Libraries"
      ],
      "metadata": {
        "id": "hG81p5ROgy8M"
      }
    },
    {
      "cell_type": "code",
      "execution_count": 1,
      "metadata": {
        "id": "wRHy6l3wf1-t"
      },
      "outputs": [],
      "source": [
        "import numpy as np\n",
        "from tensorflow.keras import regularizers\n",
        "from tensorflow.keras.regularizers import l2\n",
        "import tensorflow as tf\n",
        "import tensorflow.keras.layers as tfl\n",
        "from keras import backend as K"
      ]
    },
    {
      "cell_type": "markdown",
      "source": [
        "## Loading Data"
      ],
      "metadata": {
        "id": "5SbpIODxhBiR"
      }
    },
    {
      "cell_type": "code",
      "source": [
        "from tensorflow.keras.datasets import cifar100\n",
        "\n",
        "(X_train, y_train), (X_test, y_test) = cifar100.load_data(label_mode='coarse')"
      ],
      "metadata": {
        "id": "rFfnuWmKgWxj",
        "colab": {
          "base_uri": "https://localhost:8080/"
        },
        "outputId": "7790fca8-ebbb-4f90-c6b4-454f1881f159"
      },
      "execution_count": 2,
      "outputs": [
        {
          "output_type": "stream",
          "name": "stdout",
          "text": [
            "Downloading data from https://www.cs.toronto.edu/~kriz/cifar-100-python.tar.gz\n",
            "169001437/169001437 [==============================] - 6s 0us/step\n"
          ]
        }
      ]
    },
    {
      "cell_type": "code",
      "source": [
        "print(X_train.shape,y_train.shape)"
      ],
      "metadata": {
        "colab": {
          "base_uri": "https://localhost:8080/"
        },
        "id": "RiB3V_amgdHK",
        "outputId": "64a126cf-96e0-455a-b41a-bf88760af5be"
      },
      "execution_count": 3,
      "outputs": [
        {
          "output_type": "stream",
          "name": "stdout",
          "text": [
            "(50000, 32, 32, 3) (50000, 1)\n"
          ]
        }
      ]
    },
    {
      "cell_type": "markdown",
      "source": [
        "\n",
        "## Resizing images"
      ],
      "metadata": {
        "id": "sSkq3uf5hNNx"
      }
    },
    {
      "cell_type": "code",
      "source": [
        "import cv2\n",
        "X_train = np.array([cv2.resize(img, (140, 140)) for img in X_train])\n",
        "X_test = np.array([cv2.resize(img, (140, 140)) for img in X_test])"
      ],
      "metadata": {
        "id": "kXUTULrggpFC"
      },
      "execution_count": 4,
      "outputs": []
    },
    {
      "cell_type": "markdown",
      "source": [
        "## Encoding labels"
      ],
      "metadata": {
        "id": "sGtr4gTfhV80"
      }
    },
    {
      "cell_type": "code",
      "source": [
        "from sklearn.preprocessing import OneHotEncoder\n",
        "\n",
        "enc = OneHotEncoder()\n",
        "y_train=enc.fit_transform(y_train).toarray().astype(int)\n",
        "y_test=enc.transform(y_test).toarray().astype(int)\n",
        "\n",
        "\n",
        "print(y_train.shape)\n",
        "print(y_train[0])"
      ],
      "metadata": {
        "colab": {
          "base_uri": "https://localhost:8080/"
        },
        "id": "nstD8Rdehj0e",
        "outputId": "6ab0b205-30dd-42b2-ad55-1220c3424b38"
      },
      "execution_count": 5,
      "outputs": [
        {
          "output_type": "stream",
          "name": "stdout",
          "text": [
            "(50000, 20)\n",
            "[0 0 0 0 0 0 0 0 0 0 0 1 0 0 0 0 0 0 0 0]\n"
          ]
        }
      ]
    },
    {
      "cell_type": "markdown",
      "source": [
        "## Building ResNet-50"
      ],
      "metadata": {
        "id": "PbOvlkOciH0M"
      }
    },
    {
      "cell_type": "code",
      "source": [
        "def identity_block(X, f, filters):\n",
        "    X_shortcut=X\n",
        "\n",
        "    X=tfl.Conv2D(filters=filters[0],kernel_size=1,strides=(1,1), padding='valid')(X)\n",
        "    X=tfl.BatchNormalization(axis=3)(X, training=True)\n",
        "    X=tfl.Activation('relu')(X)\n",
        "\n",
        "    X=tfl.Conv2D(filters=filters[1],kernel_size=f,strides=(1,1), padding='same')(X)\n",
        "    X=tfl.BatchNormalization(axis=3)(X, training=True)\n",
        "    X=tfl.Activation('relu')(X)\n",
        "\n",
        "    X=tfl.Conv2D(filters=filters[2],kernel_size=1,strides=(1,1), padding='valid')(X)\n",
        "    X=tfl.BatchNormalization(axis=3)(X, training=True)\n",
        "\n",
        "    X=tfl.Add()([X_shortcut,X])\n",
        "    X=tfl.Activation('relu')(X)\n",
        "\n",
        "    return X"
      ],
      "metadata": {
        "id": "SZaYmAJmiGMG"
      },
      "execution_count": 6,
      "outputs": []
    },
    {
      "cell_type": "code",
      "source": [
        "def convolutional_block(X, f, filters, s=2):\n",
        "    X_shortcut=X\n",
        "\n",
        "    X=tfl.Conv2D(filters=filters[0],kernel_size=1,strides=(s,s), padding='valid')(X)\n",
        "    X=tfl.BatchNormalization(axis=3)(X, training=True)\n",
        "    X=tfl.Activation('relu')(X)\n",
        "\n",
        "    X=tfl.Conv2D(filters=filters[1],kernel_size=f,strides=(1,1), padding='same')(X)\n",
        "    X=tfl.BatchNormalization(axis=3)(X, training=True)\n",
        "    X=tfl.Activation('relu')(X)\n",
        "\n",
        "    X=tfl.Conv2D(filters=filters[2],kernel_size=1,strides=(1,1), padding='valid')(X)\n",
        "    X=tfl.BatchNormalization(axis=3)(X, training=True)\n",
        "\n",
        "    X_shortcut=tfl.Conv2D(filters=filters[2],kernel_size=1,strides=(s,s), padding='valid')(X_shortcut)\n",
        "    X_shortcut=tfl.BatchNormalization(axis=3)(X_shortcut, training=True)\n",
        "\n",
        "    X=tfl.Add()([X_shortcut,X])\n",
        "    X=tfl.Activation('relu')(X)\n",
        "\n",
        "    return X"
      ],
      "metadata": {
        "id": "vQXMHIh6yvPu"
      },
      "execution_count": 7,
      "outputs": []
    },
    {
      "cell_type": "code",
      "source": [
        "def arch(input_shape):\n",
        "\n",
        "    input_img = tf.keras.Input(shape=input_shape)\n",
        "\n",
        "    #layer = data_augmenter()(input_img)\n",
        "\n",
        "    layer =tfl.ZeroPadding2D((3, 3))(input_img)\n",
        "\n",
        "    layer=tfl.Conv2D(filters=64,kernel_size=7,strides=(2,2))(layer)\n",
        "    layer=tfl.BatchNormalization(axis=3)(layer, training=True)\n",
        "    layer=tfl.Activation('relu')(layer)\n",
        "    layer=tfl.MaxPooling2D((3, 3), strides=(2, 2))(layer)\n",
        "\n",
        "    layer=convolutional_block(layer,3,[64,64,256],1)\n",
        "    layer=identity_block(layer,3,[64,64,256])\n",
        "    layer=identity_block(layer,3,[64,64,256])\n",
        "\n",
        "    layer=convolutional_block(layer,3,[128,128,512],2)\n",
        "    layer=identity_block(layer,3,[128,128,512])\n",
        "    layer=identity_block(layer,3,[128,128,512])\n",
        "    layer=identity_block(layer,3,[128,128,512])\n",
        "\n",
        "    layer=convolutional_block(layer,3, [256, 256, 1024],2)\n",
        "    layer=identity_block(layer,3, [256, 256, 1024])\n",
        "    layer=identity_block(layer,3, [256, 256, 1024])\n",
        "    layer=identity_block(layer,3, [256, 256, 1024])\n",
        "    layer=identity_block(layer,3, [256, 256, 1024])\n",
        "    layer=identity_block(layer,3, [256, 256, 1024])\n",
        "\n",
        "    layer=convolutional_block(layer,3, [512, 512, 2048],2)\n",
        "    layer=identity_block(layer,3, [512, 512, 2048])\n",
        "    layer=identity_block(layer,3, [512, 512, 2048])\n",
        "\n",
        "    layer=tfl.AveragePooling2D(pool_size=(2, 2),padding='same')(layer)\n",
        "    layer=tfl.Flatten()(layer)\n",
        "\n",
        "    outputs=tfl.Dense(units= 20 , activation='softmax')(layer)\n",
        "    model = tf.keras.Model(inputs=input_img, outputs=outputs)\n",
        "    return model"
      ],
      "metadata": {
        "id": "-yYYtMfwzba4"
      },
      "execution_count": 8,
      "outputs": []
    },
    {
      "cell_type": "markdown",
      "source": [
        "## training and evaluating the model"
      ],
      "metadata": {
        "id": "wdRMfl9Dka8y"
      }
    },
    {
      "cell_type": "code",
      "source": [
        "# conv_model = arch((140, 140, 3))\n",
        "# conv_model.compile(optimizer='adam',\n",
        "#                   loss='categorical_crossentropy',\n",
        "#                   metrics=['accuracy'])\n",
        "# conv_model.summary()"
      ],
      "metadata": {
        "colab": {
          "base_uri": "https://localhost:8080/"
        },
        "id": "hX8G1T1wkfHd",
        "outputId": "8aeaca42-2d58-41c4-cadc-a41d1a5f6242"
      },
      "execution_count": null,
      "outputs": [
        {
          "output_type": "stream",
          "name": "stdout",
          "text": [
            "Model: \"model\"\n",
            "__________________________________________________________________________________________________\n",
            " Layer (type)                Output Shape                 Param #   Connected to                  \n",
            "==================================================================================================\n",
            " input_1 (InputLayer)        [(None, 140, 140, 3)]        0         []                            \n",
            "                                                                                                  \n",
            " zero_padding2d (ZeroPaddin  (None, 146, 146, 3)          0         ['input_1[0][0]']             \n",
            " g2D)                                                                                             \n",
            "                                                                                                  \n",
            " conv2d (Conv2D)             (None, 70, 70, 64)           9472      ['zero_padding2d[0][0]']      \n",
            "                                                                                                  \n",
            " batch_normalization (Batch  (None, 70, 70, 64)           256       ['conv2d[0][0]']              \n",
            " Normalization)                                                                                   \n",
            "                                                                                                  \n",
            " activation (Activation)     (None, 70, 70, 64)           0         ['batch_normalization[0][0]'] \n",
            "                                                                                                  \n",
            " max_pooling2d (MaxPooling2  (None, 34, 34, 64)           0         ['activation[0][0]']          \n",
            " D)                                                                                               \n",
            "                                                                                                  \n",
            " conv2d_1 (Conv2D)           (None, 34, 34, 64)           4160      ['max_pooling2d[0][0]']       \n",
            "                                                                                                  \n",
            " batch_normalization_1 (Bat  (None, 34, 34, 64)           256       ['conv2d_1[0][0]']            \n",
            " chNormalization)                                                                                 \n",
            "                                                                                                  \n",
            " activation_1 (Activation)   (None, 34, 34, 64)           0         ['batch_normalization_1[0][0]'\n",
            "                                                                    ]                             \n",
            "                                                                                                  \n",
            " conv2d_2 (Conv2D)           (None, 34, 34, 64)           36928     ['activation_1[0][0]']        \n",
            "                                                                                                  \n",
            " batch_normalization_2 (Bat  (None, 34, 34, 64)           256       ['conv2d_2[0][0]']            \n",
            " chNormalization)                                                                                 \n",
            "                                                                                                  \n",
            " activation_2 (Activation)   (None, 34, 34, 64)           0         ['batch_normalization_2[0][0]'\n",
            "                                                                    ]                             \n",
            "                                                                                                  \n",
            " conv2d_4 (Conv2D)           (None, 34, 34, 256)          16640     ['max_pooling2d[0][0]']       \n",
            "                                                                                                  \n",
            " conv2d_3 (Conv2D)           (None, 34, 34, 256)          16640     ['activation_2[0][0]']        \n",
            "                                                                                                  \n",
            " batch_normalization_4 (Bat  (None, 34, 34, 256)          1024      ['conv2d_4[0][0]']            \n",
            " chNormalization)                                                                                 \n",
            "                                                                                                  \n",
            " batch_normalization_3 (Bat  (None, 34, 34, 256)          1024      ['conv2d_3[0][0]']            \n",
            " chNormalization)                                                                                 \n",
            "                                                                                                  \n",
            " add (Add)                   (None, 34, 34, 256)          0         ['batch_normalization_4[0][0]'\n",
            "                                                                    , 'batch_normalization_3[0][0]\n",
            "                                                                    ']                            \n",
            "                                                                                                  \n",
            " activation_3 (Activation)   (None, 34, 34, 256)          0         ['add[0][0]']                 \n",
            "                                                                                                  \n",
            " conv2d_5 (Conv2D)           (None, 34, 34, 64)           16448     ['activation_3[0][0]']        \n",
            "                                                                                                  \n",
            " batch_normalization_5 (Bat  (None, 34, 34, 64)           256       ['conv2d_5[0][0]']            \n",
            " chNormalization)                                                                                 \n",
            "                                                                                                  \n",
            " activation_4 (Activation)   (None, 34, 34, 64)           0         ['batch_normalization_5[0][0]'\n",
            "                                                                    ]                             \n",
            "                                                                                                  \n",
            " conv2d_6 (Conv2D)           (None, 34, 34, 64)           36928     ['activation_4[0][0]']        \n",
            "                                                                                                  \n",
            " batch_normalization_6 (Bat  (None, 34, 34, 64)           256       ['conv2d_6[0][0]']            \n",
            " chNormalization)                                                                                 \n",
            "                                                                                                  \n",
            " activation_5 (Activation)   (None, 34, 34, 64)           0         ['batch_normalization_6[0][0]'\n",
            "                                                                    ]                             \n",
            "                                                                                                  \n",
            " conv2d_7 (Conv2D)           (None, 34, 34, 256)          16640     ['activation_5[0][0]']        \n",
            "                                                                                                  \n",
            " batch_normalization_7 (Bat  (None, 34, 34, 256)          1024      ['conv2d_7[0][0]']            \n",
            " chNormalization)                                                                                 \n",
            "                                                                                                  \n",
            " add_1 (Add)                 (None, 34, 34, 256)          0         ['activation_3[0][0]',        \n",
            "                                                                     'batch_normalization_7[0][0]'\n",
            "                                                                    ]                             \n",
            "                                                                                                  \n",
            " activation_6 (Activation)   (None, 34, 34, 256)          0         ['add_1[0][0]']               \n",
            "                                                                                                  \n",
            " conv2d_8 (Conv2D)           (None, 34, 34, 64)           16448     ['activation_6[0][0]']        \n",
            "                                                                                                  \n",
            " batch_normalization_8 (Bat  (None, 34, 34, 64)           256       ['conv2d_8[0][0]']            \n",
            " chNormalization)                                                                                 \n",
            "                                                                                                  \n",
            " activation_7 (Activation)   (None, 34, 34, 64)           0         ['batch_normalization_8[0][0]'\n",
            "                                                                    ]                             \n",
            "                                                                                                  \n",
            " conv2d_9 (Conv2D)           (None, 34, 34, 64)           36928     ['activation_7[0][0]']        \n",
            "                                                                                                  \n",
            " batch_normalization_9 (Bat  (None, 34, 34, 64)           256       ['conv2d_9[0][0]']            \n",
            " chNormalization)                                                                                 \n",
            "                                                                                                  \n",
            " activation_8 (Activation)   (None, 34, 34, 64)           0         ['batch_normalization_9[0][0]'\n",
            "                                                                    ]                             \n",
            "                                                                                                  \n",
            " conv2d_10 (Conv2D)          (None, 34, 34, 256)          16640     ['activation_8[0][0]']        \n",
            "                                                                                                  \n",
            " batch_normalization_10 (Ba  (None, 34, 34, 256)          1024      ['conv2d_10[0][0]']           \n",
            " tchNormalization)                                                                                \n",
            "                                                                                                  \n",
            " add_2 (Add)                 (None, 34, 34, 256)          0         ['activation_6[0][0]',        \n",
            "                                                                     'batch_normalization_10[0][0]\n",
            "                                                                    ']                            \n",
            "                                                                                                  \n",
            " activation_9 (Activation)   (None, 34, 34, 256)          0         ['add_2[0][0]']               \n",
            "                                                                                                  \n",
            " conv2d_11 (Conv2D)          (None, 17, 17, 128)          32896     ['activation_9[0][0]']        \n",
            "                                                                                                  \n",
            " batch_normalization_11 (Ba  (None, 17, 17, 128)          512       ['conv2d_11[0][0]']           \n",
            " tchNormalization)                                                                                \n",
            "                                                                                                  \n",
            " activation_10 (Activation)  (None, 17, 17, 128)          0         ['batch_normalization_11[0][0]\n",
            "                                                                    ']                            \n",
            "                                                                                                  \n",
            " conv2d_12 (Conv2D)          (None, 17, 17, 128)          147584    ['activation_10[0][0]']       \n",
            "                                                                                                  \n",
            " batch_normalization_12 (Ba  (None, 17, 17, 128)          512       ['conv2d_12[0][0]']           \n",
            " tchNormalization)                                                                                \n",
            "                                                                                                  \n",
            " activation_11 (Activation)  (None, 17, 17, 128)          0         ['batch_normalization_12[0][0]\n",
            "                                                                    ']                            \n",
            "                                                                                                  \n",
            " conv2d_14 (Conv2D)          (None, 17, 17, 512)          131584    ['activation_9[0][0]']        \n",
            "                                                                                                  \n",
            " conv2d_13 (Conv2D)          (None, 17, 17, 512)          66048     ['activation_11[0][0]']       \n",
            "                                                                                                  \n",
            " batch_normalization_14 (Ba  (None, 17, 17, 512)          2048      ['conv2d_14[0][0]']           \n",
            " tchNormalization)                                                                                \n",
            "                                                                                                  \n",
            " batch_normalization_13 (Ba  (None, 17, 17, 512)          2048      ['conv2d_13[0][0]']           \n",
            " tchNormalization)                                                                                \n",
            "                                                                                                  \n",
            " add_3 (Add)                 (None, 17, 17, 512)          0         ['batch_normalization_14[0][0]\n",
            "                                                                    ',                            \n",
            "                                                                     'batch_normalization_13[0][0]\n",
            "                                                                    ']                            \n",
            "                                                                                                  \n",
            " activation_12 (Activation)  (None, 17, 17, 512)          0         ['add_3[0][0]']               \n",
            "                                                                                                  \n",
            " conv2d_15 (Conv2D)          (None, 17, 17, 128)          65664     ['activation_12[0][0]']       \n",
            "                                                                                                  \n",
            " batch_normalization_15 (Ba  (None, 17, 17, 128)          512       ['conv2d_15[0][0]']           \n",
            " tchNormalization)                                                                                \n",
            "                                                                                                  \n",
            " activation_13 (Activation)  (None, 17, 17, 128)          0         ['batch_normalization_15[0][0]\n",
            "                                                                    ']                            \n",
            "                                                                                                  \n",
            " conv2d_16 (Conv2D)          (None, 17, 17, 128)          147584    ['activation_13[0][0]']       \n",
            "                                                                                                  \n",
            " batch_normalization_16 (Ba  (None, 17, 17, 128)          512       ['conv2d_16[0][0]']           \n",
            " tchNormalization)                                                                                \n",
            "                                                                                                  \n",
            " activation_14 (Activation)  (None, 17, 17, 128)          0         ['batch_normalization_16[0][0]\n",
            "                                                                    ']                            \n",
            "                                                                                                  \n",
            " conv2d_17 (Conv2D)          (None, 17, 17, 512)          66048     ['activation_14[0][0]']       \n",
            "                                                                                                  \n",
            " batch_normalization_17 (Ba  (None, 17, 17, 512)          2048      ['conv2d_17[0][0]']           \n",
            " tchNormalization)                                                                                \n",
            "                                                                                                  \n",
            " add_4 (Add)                 (None, 17, 17, 512)          0         ['activation_12[0][0]',       \n",
            "                                                                     'batch_normalization_17[0][0]\n",
            "                                                                    ']                            \n",
            "                                                                                                  \n",
            " activation_15 (Activation)  (None, 17, 17, 512)          0         ['add_4[0][0]']               \n",
            "                                                                                                  \n",
            " conv2d_18 (Conv2D)          (None, 17, 17, 128)          65664     ['activation_15[0][0]']       \n",
            "                                                                                                  \n",
            " batch_normalization_18 (Ba  (None, 17, 17, 128)          512       ['conv2d_18[0][0]']           \n",
            " tchNormalization)                                                                                \n",
            "                                                                                                  \n",
            " activation_16 (Activation)  (None, 17, 17, 128)          0         ['batch_normalization_18[0][0]\n",
            "                                                                    ']                            \n",
            "                                                                                                  \n",
            " conv2d_19 (Conv2D)          (None, 17, 17, 128)          147584    ['activation_16[0][0]']       \n",
            "                                                                                                  \n",
            " batch_normalization_19 (Ba  (None, 17, 17, 128)          512       ['conv2d_19[0][0]']           \n",
            " tchNormalization)                                                                                \n",
            "                                                                                                  \n",
            " activation_17 (Activation)  (None, 17, 17, 128)          0         ['batch_normalization_19[0][0]\n",
            "                                                                    ']                            \n",
            "                                                                                                  \n",
            " conv2d_20 (Conv2D)          (None, 17, 17, 512)          66048     ['activation_17[0][0]']       \n",
            "                                                                                                  \n",
            " batch_normalization_20 (Ba  (None, 17, 17, 512)          2048      ['conv2d_20[0][0]']           \n",
            " tchNormalization)                                                                                \n",
            "                                                                                                  \n",
            " add_5 (Add)                 (None, 17, 17, 512)          0         ['activation_15[0][0]',       \n",
            "                                                                     'batch_normalization_20[0][0]\n",
            "                                                                    ']                            \n",
            "                                                                                                  \n",
            " activation_18 (Activation)  (None, 17, 17, 512)          0         ['add_5[0][0]']               \n",
            "                                                                                                  \n",
            " conv2d_21 (Conv2D)          (None, 17, 17, 128)          65664     ['activation_18[0][0]']       \n",
            "                                                                                                  \n",
            " batch_normalization_21 (Ba  (None, 17, 17, 128)          512       ['conv2d_21[0][0]']           \n",
            " tchNormalization)                                                                                \n",
            "                                                                                                  \n",
            " activation_19 (Activation)  (None, 17, 17, 128)          0         ['batch_normalization_21[0][0]\n",
            "                                                                    ']                            \n",
            "                                                                                                  \n",
            " conv2d_22 (Conv2D)          (None, 17, 17, 128)          147584    ['activation_19[0][0]']       \n",
            "                                                                                                  \n",
            " batch_normalization_22 (Ba  (None, 17, 17, 128)          512       ['conv2d_22[0][0]']           \n",
            " tchNormalization)                                                                                \n",
            "                                                                                                  \n",
            " activation_20 (Activation)  (None, 17, 17, 128)          0         ['batch_normalization_22[0][0]\n",
            "                                                                    ']                            \n",
            "                                                                                                  \n",
            " conv2d_23 (Conv2D)          (None, 17, 17, 512)          66048     ['activation_20[0][0]']       \n",
            "                                                                                                  \n",
            " batch_normalization_23 (Ba  (None, 17, 17, 512)          2048      ['conv2d_23[0][0]']           \n",
            " tchNormalization)                                                                                \n",
            "                                                                                                  \n",
            " add_6 (Add)                 (None, 17, 17, 512)          0         ['activation_18[0][0]',       \n",
            "                                                                     'batch_normalization_23[0][0]\n",
            "                                                                    ']                            \n",
            "                                                                                                  \n",
            " activation_21 (Activation)  (None, 17, 17, 512)          0         ['add_6[0][0]']               \n",
            "                                                                                                  \n",
            " conv2d_24 (Conv2D)          (None, 9, 9, 256)            131328    ['activation_21[0][0]']       \n",
            "                                                                                                  \n",
            " batch_normalization_24 (Ba  (None, 9, 9, 256)            1024      ['conv2d_24[0][0]']           \n",
            " tchNormalization)                                                                                \n",
            "                                                                                                  \n",
            " activation_22 (Activation)  (None, 9, 9, 256)            0         ['batch_normalization_24[0][0]\n",
            "                                                                    ']                            \n",
            "                                                                                                  \n",
            " conv2d_25 (Conv2D)          (None, 9, 9, 256)            590080    ['activation_22[0][0]']       \n",
            "                                                                                                  \n",
            " batch_normalization_25 (Ba  (None, 9, 9, 256)            1024      ['conv2d_25[0][0]']           \n",
            " tchNormalization)                                                                                \n",
            "                                                                                                  \n",
            " activation_23 (Activation)  (None, 9, 9, 256)            0         ['batch_normalization_25[0][0]\n",
            "                                                                    ']                            \n",
            "                                                                                                  \n",
            " conv2d_27 (Conv2D)          (None, 9, 9, 1024)           525312    ['activation_21[0][0]']       \n",
            "                                                                                                  \n",
            " conv2d_26 (Conv2D)          (None, 9, 9, 1024)           263168    ['activation_23[0][0]']       \n",
            "                                                                                                  \n",
            " batch_normalization_27 (Ba  (None, 9, 9, 1024)           4096      ['conv2d_27[0][0]']           \n",
            " tchNormalization)                                                                                \n",
            "                                                                                                  \n",
            " batch_normalization_26 (Ba  (None, 9, 9, 1024)           4096      ['conv2d_26[0][0]']           \n",
            " tchNormalization)                                                                                \n",
            "                                                                                                  \n",
            " add_7 (Add)                 (None, 9, 9, 1024)           0         ['batch_normalization_27[0][0]\n",
            "                                                                    ',                            \n",
            "                                                                     'batch_normalization_26[0][0]\n",
            "                                                                    ']                            \n",
            "                                                                                                  \n",
            " activation_24 (Activation)  (None, 9, 9, 1024)           0         ['add_7[0][0]']               \n",
            "                                                                                                  \n",
            " conv2d_28 (Conv2D)          (None, 9, 9, 256)            262400    ['activation_24[0][0]']       \n",
            "                                                                                                  \n",
            " batch_normalization_28 (Ba  (None, 9, 9, 256)            1024      ['conv2d_28[0][0]']           \n",
            " tchNormalization)                                                                                \n",
            "                                                                                                  \n",
            " activation_25 (Activation)  (None, 9, 9, 256)            0         ['batch_normalization_28[0][0]\n",
            "                                                                    ']                            \n",
            "                                                                                                  \n",
            " conv2d_29 (Conv2D)          (None, 9, 9, 256)            590080    ['activation_25[0][0]']       \n",
            "                                                                                                  \n",
            " batch_normalization_29 (Ba  (None, 9, 9, 256)            1024      ['conv2d_29[0][0]']           \n",
            " tchNormalization)                                                                                \n",
            "                                                                                                  \n",
            " activation_26 (Activation)  (None, 9, 9, 256)            0         ['batch_normalization_29[0][0]\n",
            "                                                                    ']                            \n",
            "                                                                                                  \n",
            " conv2d_30 (Conv2D)          (None, 9, 9, 1024)           263168    ['activation_26[0][0]']       \n",
            "                                                                                                  \n",
            " batch_normalization_30 (Ba  (None, 9, 9, 1024)           4096      ['conv2d_30[0][0]']           \n",
            " tchNormalization)                                                                                \n",
            "                                                                                                  \n",
            " add_8 (Add)                 (None, 9, 9, 1024)           0         ['activation_24[0][0]',       \n",
            "                                                                     'batch_normalization_30[0][0]\n",
            "                                                                    ']                            \n",
            "                                                                                                  \n",
            " activation_27 (Activation)  (None, 9, 9, 1024)           0         ['add_8[0][0]']               \n",
            "                                                                                                  \n",
            " conv2d_31 (Conv2D)          (None, 9, 9, 256)            262400    ['activation_27[0][0]']       \n",
            "                                                                                                  \n",
            " batch_normalization_31 (Ba  (None, 9, 9, 256)            1024      ['conv2d_31[0][0]']           \n",
            " tchNormalization)                                                                                \n",
            "                                                                                                  \n",
            " activation_28 (Activation)  (None, 9, 9, 256)            0         ['batch_normalization_31[0][0]\n",
            "                                                                    ']                            \n",
            "                                                                                                  \n",
            " conv2d_32 (Conv2D)          (None, 9, 9, 256)            590080    ['activation_28[0][0]']       \n",
            "                                                                                                  \n",
            " batch_normalization_32 (Ba  (None, 9, 9, 256)            1024      ['conv2d_32[0][0]']           \n",
            " tchNormalization)                                                                                \n",
            "                                                                                                  \n",
            " activation_29 (Activation)  (None, 9, 9, 256)            0         ['batch_normalization_32[0][0]\n",
            "                                                                    ']                            \n",
            "                                                                                                  \n",
            " conv2d_33 (Conv2D)          (None, 9, 9, 1024)           263168    ['activation_29[0][0]']       \n",
            "                                                                                                  \n",
            " batch_normalization_33 (Ba  (None, 9, 9, 1024)           4096      ['conv2d_33[0][0]']           \n",
            " tchNormalization)                                                                                \n",
            "                                                                                                  \n",
            " add_9 (Add)                 (None, 9, 9, 1024)           0         ['activation_27[0][0]',       \n",
            "                                                                     'batch_normalization_33[0][0]\n",
            "                                                                    ']                            \n",
            "                                                                                                  \n",
            " activation_30 (Activation)  (None, 9, 9, 1024)           0         ['add_9[0][0]']               \n",
            "                                                                                                  \n",
            " conv2d_34 (Conv2D)          (None, 9, 9, 256)            262400    ['activation_30[0][0]']       \n",
            "                                                                                                  \n",
            " batch_normalization_34 (Ba  (None, 9, 9, 256)            1024      ['conv2d_34[0][0]']           \n",
            " tchNormalization)                                                                                \n",
            "                                                                                                  \n",
            " activation_31 (Activation)  (None, 9, 9, 256)            0         ['batch_normalization_34[0][0]\n",
            "                                                                    ']                            \n",
            "                                                                                                  \n",
            " conv2d_35 (Conv2D)          (None, 9, 9, 256)            590080    ['activation_31[0][0]']       \n",
            "                                                                                                  \n",
            " batch_normalization_35 (Ba  (None, 9, 9, 256)            1024      ['conv2d_35[0][0]']           \n",
            " tchNormalization)                                                                                \n",
            "                                                                                                  \n",
            " activation_32 (Activation)  (None, 9, 9, 256)            0         ['batch_normalization_35[0][0]\n",
            "                                                                    ']                            \n",
            "                                                                                                  \n",
            " conv2d_36 (Conv2D)          (None, 9, 9, 1024)           263168    ['activation_32[0][0]']       \n",
            "                                                                                                  \n",
            " batch_normalization_36 (Ba  (None, 9, 9, 1024)           4096      ['conv2d_36[0][0]']           \n",
            " tchNormalization)                                                                                \n",
            "                                                                                                  \n",
            " add_10 (Add)                (None, 9, 9, 1024)           0         ['activation_30[0][0]',       \n",
            "                                                                     'batch_normalization_36[0][0]\n",
            "                                                                    ']                            \n",
            "                                                                                                  \n",
            " activation_33 (Activation)  (None, 9, 9, 1024)           0         ['add_10[0][0]']              \n",
            "                                                                                                  \n",
            " conv2d_37 (Conv2D)          (None, 9, 9, 256)            262400    ['activation_33[0][0]']       \n",
            "                                                                                                  \n",
            " batch_normalization_37 (Ba  (None, 9, 9, 256)            1024      ['conv2d_37[0][0]']           \n",
            " tchNormalization)                                                                                \n",
            "                                                                                                  \n",
            " activation_34 (Activation)  (None, 9, 9, 256)            0         ['batch_normalization_37[0][0]\n",
            "                                                                    ']                            \n",
            "                                                                                                  \n",
            " conv2d_38 (Conv2D)          (None, 9, 9, 256)            590080    ['activation_34[0][0]']       \n",
            "                                                                                                  \n",
            " batch_normalization_38 (Ba  (None, 9, 9, 256)            1024      ['conv2d_38[0][0]']           \n",
            " tchNormalization)                                                                                \n",
            "                                                                                                  \n",
            " activation_35 (Activation)  (None, 9, 9, 256)            0         ['batch_normalization_38[0][0]\n",
            "                                                                    ']                            \n",
            "                                                                                                  \n",
            " conv2d_39 (Conv2D)          (None, 9, 9, 1024)           263168    ['activation_35[0][0]']       \n",
            "                                                                                                  \n",
            " batch_normalization_39 (Ba  (None, 9, 9, 1024)           4096      ['conv2d_39[0][0]']           \n",
            " tchNormalization)                                                                                \n",
            "                                                                                                  \n",
            " add_11 (Add)                (None, 9, 9, 1024)           0         ['activation_33[0][0]',       \n",
            "                                                                     'batch_normalization_39[0][0]\n",
            "                                                                    ']                            \n",
            "                                                                                                  \n",
            " activation_36 (Activation)  (None, 9, 9, 1024)           0         ['add_11[0][0]']              \n",
            "                                                                                                  \n",
            " conv2d_40 (Conv2D)          (None, 9, 9, 256)            262400    ['activation_36[0][0]']       \n",
            "                                                                                                  \n",
            " batch_normalization_40 (Ba  (None, 9, 9, 256)            1024      ['conv2d_40[0][0]']           \n",
            " tchNormalization)                                                                                \n",
            "                                                                                                  \n",
            " activation_37 (Activation)  (None, 9, 9, 256)            0         ['batch_normalization_40[0][0]\n",
            "                                                                    ']                            \n",
            "                                                                                                  \n",
            " conv2d_41 (Conv2D)          (None, 9, 9, 256)            590080    ['activation_37[0][0]']       \n",
            "                                                                                                  \n",
            " batch_normalization_41 (Ba  (None, 9, 9, 256)            1024      ['conv2d_41[0][0]']           \n",
            " tchNormalization)                                                                                \n",
            "                                                                                                  \n",
            " activation_38 (Activation)  (None, 9, 9, 256)            0         ['batch_normalization_41[0][0]\n",
            "                                                                    ']                            \n",
            "                                                                                                  \n",
            " conv2d_42 (Conv2D)          (None, 9, 9, 1024)           263168    ['activation_38[0][0]']       \n",
            "                                                                                                  \n",
            " batch_normalization_42 (Ba  (None, 9, 9, 1024)           4096      ['conv2d_42[0][0]']           \n",
            " tchNormalization)                                                                                \n",
            "                                                                                                  \n",
            " add_12 (Add)                (None, 9, 9, 1024)           0         ['activation_36[0][0]',       \n",
            "                                                                     'batch_normalization_42[0][0]\n",
            "                                                                    ']                            \n",
            "                                                                                                  \n",
            " activation_39 (Activation)  (None, 9, 9, 1024)           0         ['add_12[0][0]']              \n",
            "                                                                                                  \n",
            " conv2d_43 (Conv2D)          (None, 5, 5, 512)            524800    ['activation_39[0][0]']       \n",
            "                                                                                                  \n",
            " batch_normalization_43 (Ba  (None, 5, 5, 512)            2048      ['conv2d_43[0][0]']           \n",
            " tchNormalization)                                                                                \n",
            "                                                                                                  \n",
            " activation_40 (Activation)  (None, 5, 5, 512)            0         ['batch_normalization_43[0][0]\n",
            "                                                                    ']                            \n",
            "                                                                                                  \n",
            " conv2d_44 (Conv2D)          (None, 5, 5, 512)            2359808   ['activation_40[0][0]']       \n",
            "                                                                                                  \n",
            " batch_normalization_44 (Ba  (None, 5, 5, 512)            2048      ['conv2d_44[0][0]']           \n",
            " tchNormalization)                                                                                \n",
            "                                                                                                  \n",
            " activation_41 (Activation)  (None, 5, 5, 512)            0         ['batch_normalization_44[0][0]\n",
            "                                                                    ']                            \n",
            "                                                                                                  \n",
            " conv2d_46 (Conv2D)          (None, 5, 5, 2048)           2099200   ['activation_39[0][0]']       \n",
            "                                                                                                  \n",
            " conv2d_45 (Conv2D)          (None, 5, 5, 2048)           1050624   ['activation_41[0][0]']       \n",
            "                                                                                                  \n",
            " batch_normalization_46 (Ba  (None, 5, 5, 2048)           8192      ['conv2d_46[0][0]']           \n",
            " tchNormalization)                                                                                \n",
            "                                                                                                  \n",
            " batch_normalization_45 (Ba  (None, 5, 5, 2048)           8192      ['conv2d_45[0][0]']           \n",
            " tchNormalization)                                                                                \n",
            "                                                                                                  \n",
            " add_13 (Add)                (None, 5, 5, 2048)           0         ['batch_normalization_46[0][0]\n",
            "                                                                    ',                            \n",
            "                                                                     'batch_normalization_45[0][0]\n",
            "                                                                    ']                            \n",
            "                                                                                                  \n",
            " activation_42 (Activation)  (None, 5, 5, 2048)           0         ['add_13[0][0]']              \n",
            "                                                                                                  \n",
            " conv2d_47 (Conv2D)          (None, 5, 5, 512)            1049088   ['activation_42[0][0]']       \n",
            "                                                                                                  \n",
            " batch_normalization_47 (Ba  (None, 5, 5, 512)            2048      ['conv2d_47[0][0]']           \n",
            " tchNormalization)                                                                                \n",
            "                                                                                                  \n",
            " activation_43 (Activation)  (None, 5, 5, 512)            0         ['batch_normalization_47[0][0]\n",
            "                                                                    ']                            \n",
            "                                                                                                  \n",
            " conv2d_48 (Conv2D)          (None, 5, 5, 512)            2359808   ['activation_43[0][0]']       \n",
            "                                                                                                  \n",
            " batch_normalization_48 (Ba  (None, 5, 5, 512)            2048      ['conv2d_48[0][0]']           \n",
            " tchNormalization)                                                                                \n",
            "                                                                                                  \n",
            " activation_44 (Activation)  (None, 5, 5, 512)            0         ['batch_normalization_48[0][0]\n",
            "                                                                    ']                            \n",
            "                                                                                                  \n",
            " conv2d_49 (Conv2D)          (None, 5, 5, 2048)           1050624   ['activation_44[0][0]']       \n",
            "                                                                                                  \n",
            " batch_normalization_49 (Ba  (None, 5, 5, 2048)           8192      ['conv2d_49[0][0]']           \n",
            " tchNormalization)                                                                                \n",
            "                                                                                                  \n",
            " add_14 (Add)                (None, 5, 5, 2048)           0         ['activation_42[0][0]',       \n",
            "                                                                     'batch_normalization_49[0][0]\n",
            "                                                                    ']                            \n",
            "                                                                                                  \n",
            " activation_45 (Activation)  (None, 5, 5, 2048)           0         ['add_14[0][0]']              \n",
            "                                                                                                  \n",
            " conv2d_50 (Conv2D)          (None, 5, 5, 512)            1049088   ['activation_45[0][0]']       \n",
            "                                                                                                  \n",
            " batch_normalization_50 (Ba  (None, 5, 5, 512)            2048      ['conv2d_50[0][0]']           \n",
            " tchNormalization)                                                                                \n",
            "                                                                                                  \n",
            " activation_46 (Activation)  (None, 5, 5, 512)            0         ['batch_normalization_50[0][0]\n",
            "                                                                    ']                            \n",
            "                                                                                                  \n",
            " conv2d_51 (Conv2D)          (None, 5, 5, 512)            2359808   ['activation_46[0][0]']       \n",
            "                                                                                                  \n",
            " batch_normalization_51 (Ba  (None, 5, 5, 512)            2048      ['conv2d_51[0][0]']           \n",
            " tchNormalization)                                                                                \n",
            "                                                                                                  \n",
            " activation_47 (Activation)  (None, 5, 5, 512)            0         ['batch_normalization_51[0][0]\n",
            "                                                                    ']                            \n",
            "                                                                                                  \n",
            " conv2d_52 (Conv2D)          (None, 5, 5, 2048)           1050624   ['activation_47[0][0]']       \n",
            "                                                                                                  \n",
            " batch_normalization_52 (Ba  (None, 5, 5, 2048)           8192      ['conv2d_52[0][0]']           \n",
            " tchNormalization)                                                                                \n",
            "                                                                                                  \n",
            " add_15 (Add)                (None, 5, 5, 2048)           0         ['activation_45[0][0]',       \n",
            "                                                                     'batch_normalization_52[0][0]\n",
            "                                                                    ']                            \n",
            "                                                                                                  \n",
            " activation_48 (Activation)  (None, 5, 5, 2048)           0         ['add_15[0][0]']              \n",
            "                                                                                                  \n",
            " average_pooling2d (Average  (None, 3, 3, 2048)           0         ['activation_48[0][0]']       \n",
            " Pooling2D)                                                                                       \n",
            "                                                                                                  \n",
            " flatten (Flatten)           (None, 18432)                0         ['average_pooling2d[0][0]']   \n",
            "                                                                                                  \n",
            " dense (Dense)               (None, 20)                   368660    ['flatten[0][0]']             \n",
            "                                                                                                  \n",
            "==================================================================================================\n",
            "Total params: 23956372 (91.39 MB)\n",
            "Trainable params: 23903252 (91.18 MB)\n",
            "Non-trainable params: 53120 (207.50 KB)\n",
            "__________________________________________________________________________________________________\n"
          ]
        }
      ]
    },
    {
      "cell_type": "code",
      "source": [
        "train_dataset = tf.data.Dataset.from_tensor_slices((X_train, y_train)).batch(64)\n",
        "test_dataset = tf.data.Dataset.from_tensor_slices((X_test, y_test)).batch(64)\n",
        "history = conv_model.fit(train_dataset,epochs=2,validation_data=test_dataset,batch_size=64,shuffle=True)"
      ],
      "metadata": {
        "id": "1zl98CNhkkc8"
      },
      "execution_count": 19,
      "outputs": []
    },
    {
      "cell_type": "code",
      "source": [
        "from google.colab import drive\n",
        "drive.mount('/content/drive')"
      ],
      "metadata": {
        "id": "GG9aALDUGmrQ",
        "colab": {
          "base_uri": "https://localhost:8080/"
        },
        "outputId": "40101059-5757-41fe-a16e-e3a8d0aa2674"
      },
      "execution_count": 9,
      "outputs": [
        {
          "output_type": "stream",
          "name": "stdout",
          "text": [
            "Mounted at /content/drive\n"
          ]
        }
      ]
    },
    {
      "cell_type": "code",
      "source": [
        "# Set the path to the folder where you want to save the checkpoint\n",
        "checkpoint_path = \"/content/drive/MyDrive/Colab_Checkpoints/resnet_cifar100.ckpt\""
      ],
      "metadata": {
        "id": "xgRZwU_H9kv1"
      },
      "execution_count": 16,
      "outputs": []
    },
    {
      "cell_type": "code",
      "source": [
        "# Save the model's weights and optimizer state\n",
        "conv_model.save_weights(checkpoint_path)"
      ],
      "metadata": {
        "id": "fWQE54rUuvye"
      },
      "execution_count": null,
      "outputs": []
    },
    {
      "cell_type": "code",
      "source": [
        "new_model = arch((140, 140, 3))"
      ],
      "metadata": {
        "id": "LSqupbkplaGM"
      },
      "execution_count": 14,
      "outputs": []
    },
    {
      "cell_type": "code",
      "source": [
        "new_model.load_weights(checkpoint_path)"
      ],
      "metadata": {
        "id": "KjDSLkwMlluU",
        "colab": {
          "base_uri": "https://localhost:8080/"
        },
        "outputId": "89d7c3e7-07e5-44a5-aa63-6f743202b680"
      },
      "execution_count": 17,
      "outputs": [
        {
          "output_type": "execute_result",
          "data": {
            "text/plain": [
              "<tensorflow.python.checkpoint.checkpoint.CheckpointLoadStatus at 0x7b35b5320970>"
            ]
          },
          "metadata": {},
          "execution_count": 17
        }
      ]
    },
    {
      "cell_type": "markdown",
      "source": [
        "## Models' performance"
      ],
      "metadata": {
        "id": "0LFB-UdU_V6A"
      }
    },
    {
      "cell_type": "code",
      "source": [
        "import matplotlib.pyplot as plt\n",
        "%matplotlib inline\n",
        "\n",
        "plt.plot(history.history[\"accuracy\"])"
      ],
      "metadata": {
        "id": "hOKiF35x_buk"
      },
      "execution_count": null,
      "outputs": []
    }
  ]
}