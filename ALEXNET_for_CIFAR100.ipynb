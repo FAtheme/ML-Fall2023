{
  "nbformat": 4,
  "nbformat_minor": 0,
  "metadata": {
    "colab": {
      "provenance": [],
      "gpuType": "T4",
      "mount_file_id": "1C-qAoNgOydqa_ogm-Fh3omvel7lTJXwD",
      "authorship_tag": "ABX9TyMjLWATjvvyqCh+5KQ/hm5R",
      "include_colab_link": true
    },
    "kernelspec": {
      "name": "python3",
      "display_name": "Python 3"
    },
    "language_info": {
      "name": "python"
    },
    "accelerator": "GPU"
  },
  "cells": [
    {
      "cell_type": "markdown",
      "metadata": {
        "id": "view-in-github",
        "colab_type": "text"
      },
      "source": [
        "<a href=\"https://colab.research.google.com/github/FAtheme/ML-Fall2023/blob/main/ALEXNET_for_CIFAR100.ipynb\" target=\"_parent\"><img src=\"https://colab.research.google.com/assets/colab-badge.svg\" alt=\"Open In Colab\"/></a>"
      ]
    },
    {
      "cell_type": "markdown",
      "source": [
        "## Importing Libraries"
      ],
      "metadata": {
        "id": "hG81p5ROgy8M"
      }
    },
    {
      "cell_type": "code",
      "execution_count": null,
      "metadata": {
        "id": "wRHy6l3wf1-t"
      },
      "outputs": [],
      "source": [
        "import numpy as np\n",
        "from tensorflow.keras import regularizers\n",
        "import math\n",
        "import tensorflow as tf\n",
        "import tensorflow.keras.layers as tfl\n",
        "from keras import backend as K"
      ]
    },
    {
      "cell_type": "markdown",
      "source": [
        "## Loading Data"
      ],
      "metadata": {
        "id": "5SbpIODxhBiR"
      }
    },
    {
      "cell_type": "code",
      "source": [
        "from tensorflow.keras.datasets import cifar100\n",
        "\n",
        "(X_train, y_train), (X_test, y_test) = cifar100.load_data(label_mode='coarse')"
      ],
      "metadata": {
        "id": "rFfnuWmKgWxj"
      },
      "execution_count": null,
      "outputs": []
    },
    {
      "cell_type": "code",
      "source": [
        "print(X_train.shape,y_train.shape)"
      ],
      "metadata": {
        "colab": {
          "base_uri": "https://localhost:8080/"
        },
        "id": "RiB3V_amgdHK",
        "outputId": "8e6be2be-7adf-43c7-b6a2-eadaa20bda2b"
      },
      "execution_count": null,
      "outputs": [
        {
          "output_type": "stream",
          "name": "stdout",
          "text": [
            "(50000, 32, 32, 3) (50000, 1)\n"
          ]
        }
      ]
    },
    {
      "cell_type": "markdown",
      "source": [
        "\n",
        "## Resizing images"
      ],
      "metadata": {
        "id": "sSkq3uf5hNNx"
      }
    },
    {
      "cell_type": "code",
      "source": [
        "import cv2\n",
        "X_train = np.array([cv2.resize(img, (140, 140)) for img in X_train])\n",
        "X_test = np.array([cv2.resize(img, (140, 140)) for img in X_test])"
      ],
      "metadata": {
        "id": "kXUTULrggpFC"
      },
      "execution_count": null,
      "outputs": []
    },
    {
      "cell_type": "markdown",
      "source": [
        "## Encoding labels"
      ],
      "metadata": {
        "id": "sGtr4gTfhV80"
      }
    },
    {
      "cell_type": "code",
      "source": [
        "from sklearn.preprocessing import OneHotEncoder\n",
        "\n",
        "enc = OneHotEncoder()\n",
        "y_train=enc.fit_transform(y_train).toarray().astype(int)\n",
        "y_test=enc.transform(y_test).toarray().astype(int)\n",
        "\n",
        "\n",
        "print(y_train.shape)\n",
        "print(y_train[0])"
      ],
      "metadata": {
        "colab": {
          "base_uri": "https://localhost:8080/"
        },
        "id": "nstD8Rdehj0e",
        "outputId": "d5f8dff8-84da-423c-e7ed-937392c5cc18"
      },
      "execution_count": null,
      "outputs": [
        {
          "output_type": "stream",
          "name": "stdout",
          "text": [
            "(50000, 20)\n",
            "[0 0 0 0 0 0 0 0 0 0 0 1 0 0 0 0 0 0 0 0]\n"
          ]
        }
      ]
    },
    {
      "cell_type": "markdown",
      "source": [
        "\n",
        "## Data Augmentation"
      ],
      "metadata": {
        "id": "s8sIfBRWhtq3"
      }
    },
    {
      "cell_type": "code",
      "source": [
        "def data_augmenter():\n",
        "    '''\n",
        "    Create a Sequential model composed of 2 layers\n",
        "    Returns:\n",
        "        tf.keras.Sequential\n",
        "    '''\n",
        "    data_augmentation = tf.keras.Sequential()\n",
        "    data_augmentation.add(tfl.RandomFlip('horizontal'))\n",
        "    data_augmentation.add(tfl.RandomRotation(0.2))\n",
        "\n",
        "    return data_augmentation"
      ],
      "metadata": {
        "id": "DsKhwsi1h9nM"
      },
      "execution_count": null,
      "outputs": []
    },
    {
      "cell_type": "code",
      "source": [
        "data_augmentation = data_augmenter()"
      ],
      "metadata": {
        "id": "g5E2wWE_iByL"
      },
      "execution_count": null,
      "outputs": []
    },
    {
      "cell_type": "markdown",
      "source": [
        "## AlexNet architecture"
      ],
      "metadata": {
        "id": "PbOvlkOciH0M"
      }
    },
    {
      "cell_type": "code",
      "source": [
        "def arch(input_shape, data_augmentation):\n",
        "\n",
        "    input_img = tf.keras.Input(shape=input_shape)\n",
        "    layer = data_augmenter()(input_img)\n",
        "    layer=tfl.Conv2D(filters= 96 , kernel_size= 11,strides=(4, 4))(layer)\n",
        "    layer=tfl.ReLU()(layer)\n",
        "    layer=tfl.MaxPool2D(pool_size=(3, 3), strides=(2, 2), padding='same')(layer)\n",
        "    layer=tfl.BatchNormalization()(layer,training=True)\n",
        "\n",
        "    layer=tfl.Conv2D(filters= 256 , kernel_size= 5 ,strides=(1, 1), padding='same')(layer)\n",
        "    layer=tfl.ReLU()(layer)\n",
        "    layer=tfl.MaxPool2D(pool_size=(3, 3), strides=(2,2), padding='same')(layer)\n",
        "    layer=tfl.BatchNormalization()(layer,training=True)\n",
        "\n",
        "    layer=tfl.Conv2D(filters= 384 , kernel_size= 3 ,strides=(1, 1), padding='same')(layer)\n",
        "    layer=tfl.ReLU()(layer)\n",
        "    layer=tfl.Conv2D(filters= 384 , kernel_size= 3 ,strides=(1, 1), padding='same')(layer)\n",
        "    layer=tfl.ReLU()(layer)\n",
        "    layer=tfl.Conv2D(filters= 256 , kernel_size= 3 ,strides=(1, 1), padding='same')(layer)\n",
        "    layer=tfl.ReLU()(layer)\n",
        "    layer=tfl.MaxPool2D(pool_size=(3, 3), strides=(2,2), padding='same')(layer)\n",
        "    layer=tfl.BatchNormalization()(layer,training=True)\n",
        "\n",
        "    layer=tfl.Flatten()(layer)\n",
        "\n",
        "    layer=tfl.Dense(units=4096, activation='relu')(layer)\n",
        "    layer=tfl.Dropout(0.2)(layer)\n",
        "    layer=tfl.BatchNormalization()(layer,training=True)\n",
        "\n",
        "    layer=tfl.Dense(units=4096, activation='relu')(layer)\n",
        "    layer=tfl.Dropout(0.2)(layer)\n",
        "    layer=tfl.BatchNormalization()(layer,training=True)\n",
        "\n",
        "    layer=tfl.Dense(units=1000, activation='relu')(layer)\n",
        "    layer=tfl.Dropout(0.2)(layer)\n",
        "    layer=tfl.BatchNormalization()(layer,training=True)\n",
        "\n",
        "    outputs=tfl.Dense(units= 20 , activation='softmax')(layer)\n",
        "    model = tf.keras.Model(inputs=input_img, outputs=outputs)\n",
        "    return model"
      ],
      "metadata": {
        "id": "SZaYmAJmiGMG"
      },
      "execution_count": null,
      "outputs": []
    },
    {
      "cell_type": "markdown",
      "source": [
        "## training and evaluating the model"
      ],
      "metadata": {
        "id": "wdRMfl9Dka8y"
      }
    },
    {
      "cell_type": "code",
      "source": [
        "conv_model = arch((140, 140, 3),data_augmentation)\n",
        "conv_model.compile(optimizer='adam',\n",
        "                  loss='categorical_crossentropy',\n",
        "                  metrics=['accuracy'])\n",
        "conv_model.summary()"
      ],
      "metadata": {
        "colab": {
          "base_uri": "https://localhost:8080/"
        },
        "id": "hX8G1T1wkfHd",
        "outputId": "373fc4b3-3596-4386-a34e-71ae9f5d881e"
      },
      "execution_count": null,
      "outputs": [
        {
          "output_type": "stream",
          "name": "stdout",
          "text": [
            "Model: \"model\"\n",
            "_________________________________________________________________\n",
            " Layer (type)                Output Shape              Param #   \n",
            "=================================================================\n",
            " input_1 (InputLayer)        [(None, 140, 140, 3)]     0         \n",
            "                                                                 \n",
            " sequential_1 (Sequential)   (None, 140, 140, 3)       0         \n",
            "                                                                 \n",
            " conv2d (Conv2D)             (None, 33, 33, 96)        34944     \n",
            "                                                                 \n",
            " re_lu (ReLU)                (None, 33, 33, 96)        0         \n",
            "                                                                 \n",
            " max_pooling2d (MaxPooling2  (None, 17, 17, 96)        0         \n",
            " D)                                                              \n",
            "                                                                 \n",
            " batch_normalization (Batch  (None, 17, 17, 96)        384       \n",
            " Normalization)                                                  \n",
            "                                                                 \n",
            " conv2d_1 (Conv2D)           (None, 17, 17, 256)       614656    \n",
            "                                                                 \n",
            " re_lu_1 (ReLU)              (None, 17, 17, 256)       0         \n",
            "                                                                 \n",
            " max_pooling2d_1 (MaxPoolin  (None, 9, 9, 256)         0         \n",
            " g2D)                                                            \n",
            "                                                                 \n",
            " batch_normalization_1 (Bat  (None, 9, 9, 256)         1024      \n",
            " chNormalization)                                                \n",
            "                                                                 \n",
            " conv2d_2 (Conv2D)           (None, 9, 9, 384)         885120    \n",
            "                                                                 \n",
            " re_lu_2 (ReLU)              (None, 9, 9, 384)         0         \n",
            "                                                                 \n",
            " conv2d_3 (Conv2D)           (None, 9, 9, 384)         1327488   \n",
            "                                                                 \n",
            " re_lu_3 (ReLU)              (None, 9, 9, 384)         0         \n",
            "                                                                 \n",
            " conv2d_4 (Conv2D)           (None, 9, 9, 256)         884992    \n",
            "                                                                 \n",
            " re_lu_4 (ReLU)              (None, 9, 9, 256)         0         \n",
            "                                                                 \n",
            " max_pooling2d_2 (MaxPoolin  (None, 5, 5, 256)         0         \n",
            " g2D)                                                            \n",
            "                                                                 \n",
            " batch_normalization_2 (Bat  (None, 5, 5, 256)         1024      \n",
            " chNormalization)                                                \n",
            "                                                                 \n",
            " flatten (Flatten)           (None, 6400)              0         \n",
            "                                                                 \n",
            " dense (Dense)               (None, 4096)              26218496  \n",
            "                                                                 \n",
            " dropout (Dropout)           (None, 4096)              0         \n",
            "                                                                 \n",
            " batch_normalization_3 (Bat  (None, 4096)              16384     \n",
            " chNormalization)                                                \n",
            "                                                                 \n",
            " dense_1 (Dense)             (None, 4096)              16781312  \n",
            "                                                                 \n",
            " dropout_1 (Dropout)         (None, 4096)              0         \n",
            "                                                                 \n",
            " batch_normalization_4 (Bat  (None, 4096)              16384     \n",
            " chNormalization)                                                \n",
            "                                                                 \n",
            " dense_2 (Dense)             (None, 1000)              4097000   \n",
            "                                                                 \n",
            " dropout_2 (Dropout)         (None, 1000)              0         \n",
            "                                                                 \n",
            " batch_normalization_5 (Bat  (None, 1000)              4000      \n",
            " chNormalization)                                                \n",
            "                                                                 \n",
            " dense_3 (Dense)             (None, 20)                20020     \n",
            "                                                                 \n",
            "=================================================================\n",
            "Total params: 50903228 (194.18 MB)\n",
            "Trainable params: 50883628 (194.11 MB)\n",
            "Non-trainable params: 19600 (76.56 KB)\n",
            "_________________________________________________________________\n"
          ]
        }
      ]
    },
    {
      "cell_type": "code",
      "source": [
        "train_dataset = tf.data.Dataset.from_tensor_slices((X_train, y_train)).batch(64)\n",
        "test_dataset = tf.data.Dataset.from_tensor_slices((X_test, y_test)).batch(64)\n",
        "history = conv_model.fit(train_dataset,epochs=20,validation_data=test_dataset,batch_size=64,shuffle=True)"
      ],
      "metadata": {
        "id": "1zl98CNhkkc8",
        "colab": {
          "base_uri": "https://localhost:8080/"
        },
        "outputId": "d262d11b-3522-472f-e942-953b70d92fe9"
      },
      "execution_count": null,
      "outputs": [
        {
          "output_type": "stream",
          "name": "stdout",
          "text": [
            "Epoch 1/20\n",
            "782/782 [==============================] - 55s 53ms/step - loss: 2.7354 - accuracy: 0.1944 - val_loss: 2.4201 - val_accuracy: 0.2684\n",
            "Epoch 2/20\n",
            "782/782 [==============================] - 42s 54ms/step - loss: 2.3540 - accuracy: 0.2821 - val_loss: 2.2174 - val_accuracy: 0.3379\n",
            "Epoch 3/20\n",
            "782/782 [==============================] - 42s 54ms/step - loss: 2.1570 - accuracy: 0.3381 - val_loss: 2.0379 - val_accuracy: 0.3933\n",
            "Epoch 4/20\n",
            "782/782 [==============================] - 42s 54ms/step - loss: 2.0042 - accuracy: 0.3815 - val_loss: 1.9140 - val_accuracy: 0.4184\n",
            "Epoch 5/20\n",
            "782/782 [==============================] - 43s 54ms/step - loss: 1.8731 - accuracy: 0.4170 - val_loss: 1.8094 - val_accuracy: 0.4509\n",
            "Epoch 6/20\n",
            "782/782 [==============================] - 43s 54ms/step - loss: 1.7656 - accuracy: 0.4492 - val_loss: 1.7131 - val_accuracy: 0.4786\n",
            "Epoch 7/20\n",
            "782/782 [==============================] - 43s 55ms/step - loss: 1.6791 - accuracy: 0.4741 - val_loss: 1.6659 - val_accuracy: 0.4939\n",
            "Epoch 8/20\n",
            "782/782 [==============================] - 43s 55ms/step - loss: 1.5936 - accuracy: 0.5011 - val_loss: 1.5931 - val_accuracy: 0.5118\n",
            "Epoch 9/20\n",
            "782/782 [==============================] - 43s 55ms/step - loss: 1.5199 - accuracy: 0.5192 - val_loss: 1.5738 - val_accuracy: 0.5251\n",
            "Epoch 10/20\n",
            "782/782 [==============================] - 42s 54ms/step - loss: 1.4478 - accuracy: 0.5445 - val_loss: 1.5038 - val_accuracy: 0.5445\n",
            "Epoch 11/20\n",
            "782/782 [==============================] - 43s 55ms/step - loss: 1.3884 - accuracy: 0.5591 - val_loss: 1.4825 - val_accuracy: 0.5559\n",
            "Epoch 12/20\n",
            "782/782 [==============================] - 42s 54ms/step - loss: 1.3267 - accuracy: 0.5786 - val_loss: 1.4637 - val_accuracy: 0.5574\n",
            "Epoch 13/20\n",
            "782/782 [==============================] - 42s 54ms/step - loss: 1.2767 - accuracy: 0.5930 - val_loss: 1.4184 - val_accuracy: 0.5728\n",
            "Epoch 14/20\n",
            "782/782 [==============================] - 43s 54ms/step - loss: 1.2347 - accuracy: 0.6046 - val_loss: 1.4633 - val_accuracy: 0.5698\n",
            "Epoch 15/20\n",
            "782/782 [==============================] - 42s 53ms/step - loss: 1.1934 - accuracy: 0.6175 - val_loss: 1.4096 - val_accuracy: 0.5885\n",
            "Epoch 16/20\n",
            "782/782 [==============================] - 42s 54ms/step - loss: 1.1618 - accuracy: 0.6258 - val_loss: 1.3742 - val_accuracy: 0.5955\n",
            "Epoch 17/20\n",
            "782/782 [==============================] - 42s 54ms/step - loss: 1.1114 - accuracy: 0.6405 - val_loss: 1.4146 - val_accuracy: 0.5907\n",
            "Epoch 18/20\n",
            "782/782 [==============================] - 42s 53ms/step - loss: 1.0894 - accuracy: 0.6495 - val_loss: 1.4196 - val_accuracy: 0.5984\n",
            "Epoch 19/20\n",
            "782/782 [==============================] - 42s 54ms/step - loss: 1.0475 - accuracy: 0.6601 - val_loss: 1.3986 - val_accuracy: 0.5965\n",
            "Epoch 20/20\n",
            "782/782 [==============================] - 42s 54ms/step - loss: 1.0157 - accuracy: 0.6686 - val_loss: 1.4001 - val_accuracy: 0.6020\n"
          ]
        }
      ]
    },
    {
      "cell_type": "code",
      "source": [
        "from google.colab import drive\n",
        "drive.mount('/content/drive')"
      ],
      "metadata": {
        "id": "GG9aALDUGmrQ",
        "colab": {
          "base_uri": "https://localhost:8080/"
        },
        "outputId": "8a3ed6c6-821a-4c14-e0e4-4cbdf51c32a4"
      },
      "execution_count": null,
      "outputs": [
        {
          "output_type": "stream",
          "name": "stdout",
          "text": [
            "Drive already mounted at /content/drive; to attempt to forcibly remount, call drive.mount(\"/content/drive\", force_remount=True).\n"
          ]
        }
      ]
    },
    {
      "cell_type": "code",
      "source": [
        "# Set the path to the folder where you want to save the checkpoint\n",
        "checkpoint_path = \"/content/drive/MyDrive/Colab_Checkpoints/alexnet_cifar100.ckpt\""
      ],
      "metadata": {
        "id": "shiJE3EBJHto"
      },
      "execution_count": null,
      "outputs": []
    },
    {
      "cell_type": "code",
      "source": [
        "# Save the model's weights and optimizer state\n",
        "conv_model.save_weights(checkpoint_path)"
      ],
      "metadata": {
        "id": "fWQE54rUuvye"
      },
      "execution_count": null,
      "outputs": []
    },
    {
      "cell_type": "markdown",
      "source": [
        "## Models' performance"
      ],
      "metadata": {
        "id": "0LFB-UdU_V6A"
      }
    },
    {
      "cell_type": "code",
      "source": [
        "import matplotlib.pyplot as plt\n",
        "%matplotlib inline\n",
        "\n",
        "plt.plot(history.history[\"accuracy\"])"
      ],
      "metadata": {
        "id": "hOKiF35x_buk",
        "colab": {
          "base_uri": "https://localhost:8080/",
          "height": 448
        },
        "outputId": "5ef53306-0e22-4e4d-db09-46b4cd8a2b15"
      },
      "execution_count": null,
      "outputs": [
        {
          "output_type": "execute_result",
          "data": {
            "text/plain": [
              "[<matplotlib.lines.Line2D at 0x7aef5101b2e0>]"
            ]
          },
          "metadata": {},
          "execution_count": 15
        },
        {
          "output_type": "display_data",
          "data": {
            "text/plain": [
              "<Figure size 640x480 with 1 Axes>"
            ],
            "image/png": "[encoded data removed]"
          },
          "metadata": {}
        }
      ]
    }
  ]
}